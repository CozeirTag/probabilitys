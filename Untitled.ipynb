{
 "cells": [
  {
   "cell_type": "code",
   "execution_count": 1,
   "id": "c3574d9e-0cae-43a4-8c34-bd0dcbc2c429",
   "metadata": {},
   "outputs": [],
   "source": [
    "import pandas as pd\n",
    "import numpy as np\n",
    "import seaborn as sns\n",
    "from scipy.stats import moment, median_abs_deviation\n",
    "from scipy import ndimage\n",
    "from scipy.interpolate import lagrange\n",
    "from scipy.stats import norm\n",
    "import matplotlib.pyplot as plt\n",
    "import math"
   ]
  },
  {
   "cell_type": "code",
   "execution_count": 2,
   "id": "da7d2ed3-2eca-45b1-a383-c3cd40666432",
   "metadata": {},
   "outputs": [],
   "source": [
    "bins = np.random.normal(0, 2.5, size=(10, 1))"
   ]
  },
  {
   "cell_type": "code",
   "execution_count": 3,
   "id": "20ace7c7-abc8-49ca-a60a-39b8d4a0b365",
   "metadata": {},
   "outputs": [],
   "source": [
    "bins = norm.rvs(size=10)"
   ]
  },
  {
   "cell_type": "code",
   "execution_count": 4,
   "id": "dd5b1f82-f909-4365-aa21-30759eba5f51",
   "metadata": {},
   "outputs": [
    {
     "data": {
      "text/plain": [
       "array([ 0.76853841, -0.22822632,  0.36096233, -0.43295285, -0.03801918,\n",
       "        0.11454987,  2.37761025, -0.62345817,  0.16494989,  0.27089979])"
      ]
     },
     "execution_count": 4,
     "metadata": {},
     "output_type": "execute_result"
    }
   ],
   "source": [
    "bins"
   ]
  },
  {
   "cell_type": "code",
   "execution_count": 5,
   "id": "647a6ff7-18b3-484b-be33-dfb25167c17d",
   "metadata": {},
   "outputs": [],
   "source": [
    "df = pd.DataFrame(bins)"
   ]
  },
  {
   "cell_type": "code",
   "execution_count": 6,
   "id": "868fcc79-7ec2-44c4-bb6f-ecce14db84e1",
   "metadata": {},
   "outputs": [
    {
     "data": {
      "text/html": [
       "<div>\n",
       "<style scoped>\n",
       "    .dataframe tbody tr th:only-of-type {\n",
       "        vertical-align: middle;\n",
       "    }\n",
       "\n",
       "    .dataframe tbody tr th {\n",
       "        vertical-align: top;\n",
       "    }\n",
       "\n",
       "    .dataframe thead th {\n",
       "        text-align: right;\n",
       "    }\n",
       "</style>\n",
       "<table border=\"1\" class=\"dataframe\">\n",
       "  <thead>\n",
       "    <tr style=\"text-align: right;\">\n",
       "      <th></th>\n",
       "      <th>0</th>\n",
       "    </tr>\n",
       "  </thead>\n",
       "  <tbody>\n",
       "    <tr>\n",
       "      <th>0</th>\n",
       "      <td>0.768538</td>\n",
       "    </tr>\n",
       "    <tr>\n",
       "      <th>1</th>\n",
       "      <td>-0.228226</td>\n",
       "    </tr>\n",
       "    <tr>\n",
       "      <th>2</th>\n",
       "      <td>0.360962</td>\n",
       "    </tr>\n",
       "    <tr>\n",
       "      <th>3</th>\n",
       "      <td>-0.432953</td>\n",
       "    </tr>\n",
       "    <tr>\n",
       "      <th>4</th>\n",
       "      <td>-0.038019</td>\n",
       "    </tr>\n",
       "    <tr>\n",
       "      <th>5</th>\n",
       "      <td>0.114550</td>\n",
       "    </tr>\n",
       "    <tr>\n",
       "      <th>6</th>\n",
       "      <td>2.377610</td>\n",
       "    </tr>\n",
       "    <tr>\n",
       "      <th>7</th>\n",
       "      <td>-0.623458</td>\n",
       "    </tr>\n",
       "    <tr>\n",
       "      <th>8</th>\n",
       "      <td>0.164950</td>\n",
       "    </tr>\n",
       "    <tr>\n",
       "      <th>9</th>\n",
       "      <td>0.270900</td>\n",
       "    </tr>\n",
       "  </tbody>\n",
       "</table>\n",
       "</div>"
      ],
      "text/plain": [
       "          0\n",
       "0  0.768538\n",
       "1 -0.228226\n",
       "2  0.360962\n",
       "3 -0.432953\n",
       "4 -0.038019\n",
       "5  0.114550\n",
       "6  2.377610\n",
       "7 -0.623458\n",
       "8  0.164950\n",
       "9  0.270900"
      ]
     },
     "execution_count": 6,
     "metadata": {},
     "output_type": "execute_result"
    }
   ],
   "source": [
    "df"
   ]
  },
  {
   "cell_type": "code",
   "execution_count": 7,
   "id": "7f82730a-9b52-4752-ba22-ac713a352089",
   "metadata": {},
   "outputs": [
    {
     "data": {
      "text/plain": [
       "<Axes: ylabel='Density'>"
      ]
     },
     "execution_count": 7,
     "metadata": {},
     "output_type": "execute_result"
    },
    {
     "data": {
      "image/png": "[encoded data removed]",
      "text/plain": [
       "<Figure size 640x480 with 1 Axes>"
      ]
     },
     "metadata": {},
     "output_type": "display_data"
    }
   ],
   "source": [
    "sns.kdeplot(data=df)"
   ]
  },
  {
   "cell_type": "code",
   "execution_count": 8,
   "id": "5cb82d77-f5f2-41a6-8f88-28bba1d77fdc",
   "metadata": {},
   "outputs": [
    {
     "data": {
      "text/html": [
       "<div>\n",
       "<style scoped>\n",
       "    .dataframe tbody tr th:only-of-type {\n",
       "        vertical-align: middle;\n",
       "    }\n",
       "\n",
       "    .dataframe tbody tr th {\n",
       "        vertical-align: top;\n",
       "    }\n",
       "\n",
       "    .dataframe thead th {\n",
       "        text-align: right;\n",
       "    }\n",
       "</style>\n",
       "<table border=\"1\" class=\"dataframe\">\n",
       "  <thead>\n",
       "    <tr style=\"text-align: right;\">\n",
       "      <th></th>\n",
       "      <th>0</th>\n",
       "    </tr>\n",
       "  </thead>\n",
       "  <tbody>\n",
       "    <tr>\n",
       "      <th>count</th>\n",
       "      <td>10.000000</td>\n",
       "    </tr>\n",
       "    <tr>\n",
       "      <th>mean</th>\n",
       "      <td>0.273485</td>\n",
       "    </tr>\n",
       "    <tr>\n",
       "      <th>std</th>\n",
       "      <td>0.841258</td>\n",
       "    </tr>\n",
       "    <tr>\n",
       "      <th>min</th>\n",
       "      <td>-0.623458</td>\n",
       "    </tr>\n",
       "    <tr>\n",
       "      <th>25%</th>\n",
       "      <td>-0.180675</td>\n",
       "    </tr>\n",
       "    <tr>\n",
       "      <th>50%</th>\n",
       "      <td>0.139750</td>\n",
       "    </tr>\n",
       "    <tr>\n",
       "      <th>75%</th>\n",
       "      <td>0.338447</td>\n",
       "    </tr>\n",
       "    <tr>\n",
       "      <th>max</th>\n",
       "      <td>2.377610</td>\n",
       "    </tr>\n",
       "  </tbody>\n",
       "</table>\n",
       "</div>"
      ],
      "text/plain": [
       "               0\n",
       "count  10.000000\n",
       "mean    0.273485\n",
       "std     0.841258\n",
       "min    -0.623458\n",
       "25%    -0.180675\n",
       "50%     0.139750\n",
       "75%     0.338447\n",
       "max     2.377610"
      ]
     },
     "execution_count": 8,
     "metadata": {},
     "output_type": "execute_result"
    }
   ],
   "source": [
    "df.describe(include='all')"
   ]
  },
  {
   "cell_type": "code",
   "execution_count": 9,
   "id": "5c38830e-19a4-41ef-a8bc-ebd4665b8780",
   "metadata": {},
   "outputs": [],
   "source": [
    "means = df.mean().to_list()[0]"
   ]
  },
  {
   "cell_type": "code",
   "execution_count": 10,
   "id": "9ae396c9-f8af-4933-9856-b61db75ef50e",
   "metadata": {},
   "outputs": [
    {
     "data": {
      "text/plain": [
       "0.27348540182065084"
      ]
     },
     "execution_count": 10,
     "metadata": {},
     "output_type": "execute_result"
    }
   ],
   "source": [
    "means"
   ]
  },
  {
   "cell_type": "code",
   "execution_count": 11,
   "id": "170d1018-15eb-484f-be9f-dcba6234916e",
   "metadata": {},
   "outputs": [
    {
     "data": {
      "text/plain": [
       "array([2.06313148])"
      ]
     },
     "execution_count": 11,
     "metadata": {},
     "output_type": "execute_result"
    }
   ],
   "source": [
    "moment(df, order=4, center=None)"
   ]
  },
  {
   "cell_type": "code",
   "execution_count": 12,
   "id": "441c9c90-0f9f-4ef8-a31a-f97a2d7eb843",
   "metadata": {},
   "outputs": [
    {
     "data": {
      "text/plain": [
       "array([2.06313148])"
      ]
     },
     "execution_count": 12,
     "metadata": {},
     "output_type": "execute_result"
    }
   ],
   "source": [
    "moment(df, order=4, center=means)"
   ]
  },
  {
   "cell_type": "code",
   "execution_count": 13,
   "id": "6a22afdc-3a8a-4bf2-bcf8-6d59c61439a9",
   "metadata": {},
   "outputs": [
    {
     "data": {
      "text/plain": [
       "array([0.63694307])"
      ]
     },
     "execution_count": 13,
     "metadata": {},
     "output_type": "execute_result"
    }
   ],
   "source": [
    "moment(df, order=2, center=means)"
   ]
  },
  {
   "cell_type": "code",
   "execution_count": 14,
   "id": "cdababba-594c-4594-a2db-eb38ed02088b",
   "metadata": {},
   "outputs": [
    {
     "data": {
      "text/plain": [
       "array([0.79808713])"
      ]
     },
     "execution_count": 14,
     "metadata": {},
     "output_type": "execute_result"
    }
   ],
   "source": [
    "(moment(df, order=2, center=means))**(1/2)"
   ]
  },
  {
   "cell_type": "code",
   "execution_count": 15,
   "id": "4bf7315a-1410-4135-b1bd-0de5f3e94829",
   "metadata": {},
   "outputs": [
    {
     "data": {
      "text/plain": [
       "0.13974988023139623"
      ]
     },
     "execution_count": 15,
     "metadata": {},
     "output_type": "execute_result"
    }
   ],
   "source": [
    "ndimage.median(df)"
   ]
  },
  {
   "cell_type": "code",
   "execution_count": 16,
   "id": "b4bb0c99-0f31-4298-9e05-1a9f34ed4710",
   "metadata": {},
   "outputs": [
    {
     "data": {
      "text/plain": [
       "0.2945943219746394"
      ]
     },
     "execution_count": 16,
     "metadata": {},
     "output_type": "execute_result"
    }
   ],
   "source": [
    "median_abs_deviation(df)[0]"
   ]
  },
  {
   "cell_type": "code",
   "execution_count": 17,
   "id": "7b0d3941-b686-4b32-b9ff-a8b4d519b7da",
   "metadata": {},
   "outputs": [],
   "source": [
    "n = len(bins)\n",
    "i = 0\n",
    "if (n / 4).is_integer():\n",
    "    i = n / 4\n",
    "else:\n",
    "    i = int(n / 4) + 1"
   ]
  },
  {
   "cell_type": "code",
   "execution_count": 18,
   "id": "90f5147a-baaf-4359-a79f-b4ed0bbda327",
   "metadata": {},
   "outputs": [
    {
     "data": {
      "text/plain": [
       "3"
      ]
     },
     "execution_count": 18,
     "metadata": {},
     "output_type": "execute_result"
    }
   ],
   "source": [
    "i"
   ]
  },
  {
   "cell_type": "code",
   "execution_count": 19,
   "id": "ca02f104-095b-4729-846c-c371148da79e",
   "metadata": {},
   "outputs": [],
   "source": [
    "z_1_4 = bins[i]\n",
    "z_3_4 = bins[n - i + 1]"
   ]
  },
  {
   "cell_type": "code",
   "execution_count": 20,
   "id": "92782347-74cd-47bb-b28e-77a5f60bedcd",
   "metadata": {},
   "outputs": [
    {
     "data": {
      "text/plain": [
       "-0.4329528511883344"
      ]
     },
     "execution_count": 20,
     "metadata": {},
     "output_type": "execute_result"
    }
   ],
   "source": [
    "z_1_4"
   ]
  },
  {
   "cell_type": "code",
   "execution_count": 21,
   "id": "bdd067e7-adbd-417a-9508-fae018033095",
   "metadata": {},
   "outputs": [
    {
     "data": {
      "text/plain": [
       "0.1649498887040386"
      ]
     },
     "execution_count": 21,
     "metadata": {},
     "output_type": "execute_result"
    }
   ],
   "source": [
    "z_3_4"
   ]
  },
  {
   "cell_type": "code",
   "execution_count": 22,
   "id": "6dd49e69-9762-4912-934c-bbbf5b832809",
   "metadata": {},
   "outputs": [],
   "source": [
    "tq = (1/2)*(z_1_4 + z_3_4)"
   ]
  },
  {
   "cell_type": "code",
   "execution_count": 23,
   "id": "c2966f71-022f-4f07-97e0-82703d0ef08f",
   "metadata": {},
   "outputs": [
    {
     "data": {
      "text/plain": [
       "-0.1340014812421479"
      ]
     },
     "execution_count": 23,
     "metadata": {},
     "output_type": "execute_result"
    }
   ],
   "source": [
    "tq"
   ]
  },
  {
   "cell_type": "code",
   "execution_count": 24,
   "id": "2e5236c1-4004-4c29-ac02-4c9616562995",
   "metadata": {},
   "outputs": [],
   "source": [
    "tr = (1/2)*(min(bins)+max(bins))"
   ]
  },
  {
   "cell_type": "code",
   "execution_count": 25,
   "id": "6022b4f8-2cbd-415c-9c70-6e9e01d76fa9",
   "metadata": {},
   "outputs": [
    {
     "data": {
      "text/plain": [
       "0.8770760399128738"
      ]
     },
     "execution_count": 25,
     "metadata": {},
     "output_type": "execute_result"
    }
   ],
   "source": [
    "tr"
   ]
  },
  {
   "cell_type": "code",
   "execution_count": 26,
   "id": "b32f5b54-432e-42de-b291-30a461df4115",
   "metadata": {},
   "outputs": [],
   "source": [
    "q = z_3_4 - z_1_4"
   ]
  },
  {
   "cell_type": "code",
   "execution_count": 27,
   "id": "add7c00e-f403-4759-a1f4-d03e057d96b3",
   "metadata": {},
   "outputs": [
    {
     "data": {
      "text/plain": [
       "0.597902739892373"
      ]
     },
     "execution_count": 27,
     "metadata": {},
     "output_type": "execute_result"
    }
   ],
   "source": [
    "q"
   ]
  },
  {
   "cell_type": "code",
   "execution_count": 28,
   "id": "4e4ca03f-2dc0-4ac4-9481-759e0f566852",
   "metadata": {},
   "outputs": [],
   "source": [
    "R = max(bins) - min(bins)"
   ]
  },
  {
   "cell_type": "code",
   "execution_count": 29,
   "id": "47769212-b082-4c11-b2ce-4333cf124ca9",
   "metadata": {},
   "outputs": [
    {
     "data": {
      "text/plain": [
       "3.0010684185722205"
      ]
     },
     "execution_count": 29,
     "metadata": {},
     "output_type": "execute_result"
    }
   ],
   "source": [
    "R"
   ]
  },
  {
   "cell_type": "code",
   "execution_count": 30,
   "id": "e0d2d6ac-1b75-4856-b950-d93f0268eea2",
   "metadata": {},
   "outputs": [],
   "source": [
    "mistakes = []\n",
    "mistakes_quart_1_4 = []\n",
    "mistakes_quart_3_4 = []\n",
    "mx = 0"
   ]
  },
  {
   "cell_type": "code",
   "execution_count": 31,
   "id": "51d5f71d-2fed-4989-b1d5-b7838c0703fa",
   "metadata": {},
   "outputs": [],
   "source": [
    "z_1_4 = 0.158655\n",
    "z_3_4 = 0.841345"
   ]
  },
  {
   "cell_type": "code",
   "execution_count": 32,
   "id": "1ba08014-55e6-49ac-b33c-100fedd0ea51",
   "metadata": {},
   "outputs": [],
   "source": [
    "for i in range(1000):\n",
    "    select = np.random.normal(0, 2.5, size=(10, 1))\n",
    "    mistakes.append(select.mean() - mx)\n",
    "    \n",
    "    select = pd.DataFrame(select)\n",
    "    select.quantile([0.25, 0.75]).loc[0.75].to_list()[0]\n",
    "    \n",
    "    mistakes_quart_1_4.append(select.quantile([0.25, 0.75]).loc[0.25].to_list()[0] - z_1_4)\n",
    "    mistakes_quart_3_4.append(select.quantile([0.25, 0.75]).loc[0.75].to_list()[0] - z_3_4)"
   ]
  },
  {
   "cell_type": "code",
   "execution_count": 33,
   "id": "26a5ef18-049e-4048-8e3a-26f30ff6e954",
   "metadata": {},
   "outputs": [],
   "source": [
    "mistakes_data = pd.DataFrame(mistakes)\n",
    "mistakes_quart_1_4 = pd.DataFrame(mistakes_quart_1_4)\n",
    "mistakes_quart_3_4 = pd.DataFrame(mistakes_quart_3_4)"
   ]
  },
  {
   "cell_type": "code",
   "execution_count": 34,
   "id": "5cef9cb8-74e9-4a3c-94a9-c47a5101967b",
   "metadata": {},
   "outputs": [
    {
     "data": {
      "text/html": [
       "<div>\n",
       "<style scoped>\n",
       "    .dataframe tbody tr th:only-of-type {\n",
       "        vertical-align: middle;\n",
       "    }\n",
       "\n",
       "    .dataframe tbody tr th {\n",
       "        vertical-align: top;\n",
       "    }\n",
       "\n",
       "    .dataframe thead th {\n",
       "        text-align: right;\n",
       "    }\n",
       "</style>\n",
       "<table border=\"1\" class=\"dataframe\">\n",
       "  <thead>\n",
       "    <tr style=\"text-align: right;\">\n",
       "      <th></th>\n",
       "      <th>0</th>\n",
       "    </tr>\n",
       "  </thead>\n",
       "  <tbody>\n",
       "    <tr>\n",
       "      <th>count</th>\n",
       "      <td>1000.000000</td>\n",
       "    </tr>\n",
       "    <tr>\n",
       "      <th>mean</th>\n",
       "      <td>0.003874</td>\n",
       "    </tr>\n",
       "    <tr>\n",
       "      <th>std</th>\n",
       "      <td>0.800375</td>\n",
       "    </tr>\n",
       "    <tr>\n",
       "      <th>min</th>\n",
       "      <td>-2.424330</td>\n",
       "    </tr>\n",
       "    <tr>\n",
       "      <th>25%</th>\n",
       "      <td>-0.548369</td>\n",
       "    </tr>\n",
       "    <tr>\n",
       "      <th>50%</th>\n",
       "      <td>0.003233</td>\n",
       "    </tr>\n",
       "    <tr>\n",
       "      <th>75%</th>\n",
       "      <td>0.524104</td>\n",
       "    </tr>\n",
       "    <tr>\n",
       "      <th>max</th>\n",
       "      <td>2.525861</td>\n",
       "    </tr>\n",
       "  </tbody>\n",
       "</table>\n",
       "</div>"
      ],
      "text/plain": [
       "                 0\n",
       "count  1000.000000\n",
       "mean      0.003874\n",
       "std       0.800375\n",
       "min      -2.424330\n",
       "25%      -0.548369\n",
       "50%       0.003233\n",
       "75%       0.524104\n",
       "max       2.525861"
      ]
     },
     "execution_count": 34,
     "metadata": {},
     "output_type": "execute_result"
    }
   ],
   "source": [
    "mistakes_data.describe()"
   ]
  },
  {
   "cell_type": "code",
   "execution_count": 35,
   "id": "3c34deb7-19ed-4ca7-8089-da16f9f84db0",
   "metadata": {},
   "outputs": [],
   "source": [
    "means = mistakes_data.mean().to_list()[0]"
   ]
  },
  {
   "cell_type": "code",
   "execution_count": 36,
   "id": "b1f1dd2e-5844-4faa-9a4b-cbb1468705dd",
   "metadata": {},
   "outputs": [
    {
     "data": {
      "text/plain": [
       "0.0038739845516513505"
      ]
     },
     "execution_count": 36,
     "metadata": {},
     "output_type": "execute_result"
    }
   ],
   "source": [
    "means"
   ]
  },
  {
   "cell_type": "code",
   "execution_count": 37,
   "id": "c1d0ee7e-cc51-4dc0-aabe-ec5259e9c552",
   "metadata": {},
   "outputs": [
    {
     "data": {
      "text/plain": [
       "array([0.63996028])"
      ]
     },
     "execution_count": 37,
     "metadata": {},
     "output_type": "execute_result"
    }
   ],
   "source": [
    "moment(mistakes_data, order=2, center=means)"
   ]
  },
  {
   "cell_type": "code",
   "execution_count": 38,
   "id": "5691a554-890f-4181-b58a-a530bab35235",
   "metadata": {},
   "outputs": [],
   "source": [
    "means = mistakes_quart_1_4.mean().to_list()[0]"
   ]
  },
  {
   "cell_type": "code",
   "execution_count": 39,
   "id": "acb5dfaf-557b-481b-9da2-afe55113e5f8",
   "metadata": {},
   "outputs": [
    {
     "data": {
      "text/plain": [
       "-1.6392077838390118"
      ]
     },
     "execution_count": 39,
     "metadata": {},
     "output_type": "execute_result"
    }
   ],
   "source": [
    "means"
   ]
  },
  {
   "cell_type": "code",
   "execution_count": 40,
   "id": "95f291e1-ad7c-45ed-a77f-fec912dc951d",
   "metadata": {},
   "outputs": [
    {
     "data": {
      "text/plain": [
       "array([3.33967798])"
      ]
     },
     "execution_count": 40,
     "metadata": {},
     "output_type": "execute_result"
    }
   ],
   "source": [
    "moment(mistakes_data, order=2, center=means)"
   ]
  },
  {
   "cell_type": "code",
   "execution_count": 41,
   "id": "5e906394-132f-4b5c-b153-7e107e41e2b5",
   "metadata": {},
   "outputs": [],
   "source": [
    "means = mistakes_quart_3_4.mean().to_list()[0]"
   ]
  },
  {
   "cell_type": "code",
   "execution_count": 42,
   "id": "2d76f3fa-e5d4-41f0-8ac3-bb7cf9614fbe",
   "metadata": {},
   "outputs": [
    {
     "data": {
      "text/plain": [
       "0.6134288141025046"
      ]
     },
     "execution_count": 42,
     "metadata": {},
     "output_type": "execute_result"
    }
   ],
   "source": [
    "means"
   ]
  },
  {
   "cell_type": "code",
   "execution_count": 43,
   "id": "dcf095bd-0765-47b2-820c-ddf63711bddc",
   "metadata": {},
   "outputs": [
    {
     "data": {
      "text/plain": [
       "array([1.01151737])"
      ]
     },
     "execution_count": 43,
     "metadata": {},
     "output_type": "execute_result"
    }
   ],
   "source": [
    "moment(mistakes_data, order=2, center=means)"
   ]
  },
  {
   "cell_type": "code",
   "execution_count": 44,
   "id": "3f41eda2-71de-4ae6-a771-0b957d0805ba",
   "metadata": {},
   "outputs": [
    {
     "data": {
      "text/plain": [
       "array([[<Axes: title={'center': '0'}>]], dtype=object)"
      ]
     },
     "execution_count": 44,
     "metadata": {},
     "output_type": "execute_result"
    },
    {
     "data": {
      "image/png": "[encoded data removed]",
      "text/plain": [
       "<Figure size 640x480 with 1 Axes>"
      ]
     },
     "metadata": {},
     "output_type": "display_data"
    },
    {
     "data": {
      "image/png": "[encoded data removed]",
      "text/plain": [
       "<Figure size 640x480 with 1 Axes>"
      ]
     },
     "metadata": {},
     "output_type": "display_data"
    },
    {
     "data": {
      "image/png": "[encoded data removed]",
      "text/plain": [
       "<Figure size 640x480 with 1 Axes>"
      ]
     },
     "metadata": {},
     "output_type": "display_data"
    }
   ],
   "source": [
    "mistakes_data.hist()\n",
    "mistakes_quart_1_4.hist()\n",
    "mistakes_quart_3_4.hist()"
   ]
  },
  {
   "cell_type": "code",
   "execution_count": 45,
   "id": "43668d5f-117b-4e00-81a1-b1f878e692c0",
   "metadata": {},
   "outputs": [
    {
     "data": {
      "text/plain": [
       "0.5241043483725131"
      ]
     },
     "execution_count": 45,
     "metadata": {},
     "output_type": "execute_result"
    }
   ],
   "source": [
    "mistakes_data.quantile([0.25, 0.75]).loc[0.75].to_list()[0]"
   ]
  },
  {
   "cell_type": "code",
   "execution_count": 46,
   "id": "68bd01f5-6c43-40df-b723-c2826910ed1d",
   "metadata": {},
   "outputs": [
    {
     "data": {
      "text/html": [
       "<div>\n",
       "<style scoped>\n",
       "    .dataframe tbody tr th:only-of-type {\n",
       "        vertical-align: middle;\n",
       "    }\n",
       "\n",
       "    .dataframe tbody tr th {\n",
       "        vertical-align: top;\n",
       "    }\n",
       "\n",
       "    .dataframe thead th {\n",
       "        text-align: right;\n",
       "    }\n",
       "</style>\n",
       "<table border=\"1\" class=\"dataframe\">\n",
       "  <thead>\n",
       "    <tr style=\"text-align: right;\">\n",
       "      <th></th>\n",
       "      <th>0</th>\n",
       "    </tr>\n",
       "  </thead>\n",
       "  <tbody>\n",
       "    <tr>\n",
       "      <th>0</th>\n",
       "      <td>3.419826</td>\n",
       "    </tr>\n",
       "    <tr>\n",
       "      <th>1</th>\n",
       "      <td>0.112415</td>\n",
       "    </tr>\n",
       "    <tr>\n",
       "      <th>2</th>\n",
       "      <td>-0.008412</td>\n",
       "    </tr>\n",
       "    <tr>\n",
       "      <th>3</th>\n",
       "      <td>0.155887</td>\n",
       "    </tr>\n",
       "    <tr>\n",
       "      <th>4</th>\n",
       "      <td>1.040809</td>\n",
       "    </tr>\n",
       "    <tr>\n",
       "      <th>...</th>\n",
       "      <td>...</td>\n",
       "    </tr>\n",
       "    <tr>\n",
       "      <th>995</th>\n",
       "      <td>1.390579</td>\n",
       "    </tr>\n",
       "    <tr>\n",
       "      <th>996</th>\n",
       "      <td>1.348611</td>\n",
       "    </tr>\n",
       "    <tr>\n",
       "      <th>997</th>\n",
       "      <td>0.634371</td>\n",
       "    </tr>\n",
       "    <tr>\n",
       "      <th>998</th>\n",
       "      <td>-0.124932</td>\n",
       "    </tr>\n",
       "    <tr>\n",
       "      <th>999</th>\n",
       "      <td>0.388629</td>\n",
       "    </tr>\n",
       "  </tbody>\n",
       "</table>\n",
       "<p>1000 rows × 1 columns</p>\n",
       "</div>"
      ],
      "text/plain": [
       "            0\n",
       "0    3.419826\n",
       "1    0.112415\n",
       "2   -0.008412\n",
       "3    0.155887\n",
       "4    1.040809\n",
       "..        ...\n",
       "995  1.390579\n",
       "996  1.348611\n",
       "997  0.634371\n",
       "998 -0.124932\n",
       "999  0.388629\n",
       "\n",
       "[1000 rows x 1 columns]"
      ]
     },
     "execution_count": 46,
     "metadata": {},
     "output_type": "execute_result"
    }
   ],
   "source": [
    "mistakes_data\n",
    "mistakes_quart_1_4\n",
    "mistakes_quart_3_4"
   ]
  },
  {
   "cell_type": "code",
   "execution_count": 47,
   "id": "17d9b876-d3c1-4ceb-a97a-0b54d568ca8f",
   "metadata": {},
   "outputs": [],
   "source": [
    "BIG_mistakes = pd.concat([mistakes_data, mistakes_quart_1_4, mistakes_quart_3_4])"
   ]
  },
  {
   "cell_type": "code",
   "execution_count": 48,
   "id": "156601b6-4dd7-42ed-b7e4-c19008897aeb",
   "metadata": {},
   "outputs": [
    {
     "data": {
      "text/plain": [
       "<Axes: ylabel='Count'>"
      ]
     },
     "execution_count": 48,
     "metadata": {},
     "output_type": "execute_result"
    },
    {
     "data": {
      "image/png": "[encoded data removed]",
      "text/plain": [
       "<Figure size 640x480 with 1 Axes>"
      ]
     },
     "metadata": {},
     "output_type": "display_data"
    }
   ],
   "source": [
    "sns.histplot(data=BIG_mistakes)"
   ]
  },
  {
   "cell_type": "code",
   "execution_count": 49,
   "id": "cd203004-df02-4683-be42-9a427b97f4f1",
   "metadata": {},
   "outputs": [],
   "source": [
    "mistakes_arr = mistakes_data.to_numpy()"
   ]
  },
  {
   "cell_type": "code",
   "execution_count": 50,
   "id": "99cd691a-e754-4077-9279-47f4fe9aaf7d",
   "metadata": {
    "scrolled": true
   },
   "outputs": [],
   "source": [
    "mistakes_arr = mistakes_arr.tolist()"
   ]
  },
  {
   "cell_type": "code",
   "execution_count": 51,
   "id": "54d61c5e-4237-49ac-8fd8-adf2b722b8c1",
   "metadata": {},
   "outputs": [],
   "source": [
    "k = int(1 + 3.322 * math.log10(len(mistakes_arr)))"
   ]
  },
  {
   "cell_type": "code",
   "execution_count": 52,
   "id": "3ae832da-c55f-4919-8cbb-22489e67ef09",
   "metadata": {},
   "outputs": [],
   "source": [
    "H = (max(mistakes_arr)[0] - min(mistakes_arr)[0]) / k"
   ]
  },
  {
   "cell_type": "code",
   "execution_count": 53,
   "id": "e5962792-f56f-4cf4-b11b-743d91f7ef17",
   "metadata": {},
   "outputs": [
    {
     "data": {
      "text/plain": [
       "0.49501918006297824"
      ]
     },
     "execution_count": 53,
     "metadata": {},
     "output_type": "execute_result"
    }
   ],
   "source": [
    "H"
   ]
  },
  {
   "cell_type": "code",
   "execution_count": 54,
   "id": "335aa62d-edcb-40a3-8447-23d888d39290",
   "metadata": {},
   "outputs": [],
   "source": [
    "new_ar = []\n",
    "x = min(mistakes_arr)[0]\n",
    "while x < max(mistakes_arr)[0]:\n",
    "    x += H\n",
    "    new_ar.append(x)"
   ]
  },
  {
   "cell_type": "code",
   "execution_count": 55,
   "id": "2ba76799-147c-4bd4-acc1-0ea8564b3b6b",
   "metadata": {},
   "outputs": [
    {
     "data": {
      "text/plain": [
       "[-1.929311206908501,\n",
       " -1.4342920268455228,\n",
       " -0.9392728467825446,\n",
       " -0.4442536667195664,\n",
       " 0.05076551334341184,\n",
       " 0.5457846934063901,\n",
       " 1.0408038734693683,\n",
       " 1.5358230535323465,\n",
       " 2.0308422335953247,\n",
       " 2.525861413658303]"
      ]
     },
     "execution_count": 55,
     "metadata": {},
     "output_type": "execute_result"
    }
   ],
   "source": [
    "new_ar"
   ]
  },
  {
   "cell_type": "code",
   "execution_count": 56,
   "id": "37f0b347-fc26-4a30-ac86-18d0e8bed83c",
   "metadata": {},
   "outputs": [
    {
     "data": {
      "image/png": "[encoded data removed]",
      "text/plain": [
       "<Figure size 640x480 with 1 Axes>"
      ]
     },
     "metadata": {},
     "output_type": "display_data"
    }
   ],
   "source": [
    "values, bins, _  = plt.hist(mistakes_data, density=True)"
   ]
  },
  {
   "cell_type": "code",
   "execution_count": 57,
   "id": "65727c48-aa40-4787-96f7-311cc88154ff",
   "metadata": {},
   "outputs": [
    {
     "data": {
      "text/plain": [
       "1.0"
      ]
     },
     "execution_count": 57,
     "metadata": {},
     "output_type": "execute_result"
    }
   ],
   "source": [
    "sum(np.diff(bins)*values)"
   ]
  },
  {
   "cell_type": "code",
   "execution_count": 58,
   "id": "6c507ef2-ffb7-4a4e-822d-a2bb3474b889",
   "metadata": {},
   "outputs": [
    {
     "data": {
      "image/png": "[encoded data removed]",
      "text/plain": [
       "<Figure size 640x480 with 1 Axes>"
      ]
     },
     "metadata": {},
     "output_type": "display_data"
    }
   ],
   "source": [
    "values, bins, w  = plt.hist(mistakes_data, bins=new_ar, density=True)"
   ]
  },
  {
   "cell_type": "code",
   "execution_count": 59,
   "id": "9475a672-1c5f-4385-aecc-bf0639fdd318",
   "metadata": {},
   "outputs": [
    {
     "data": {
      "text/plain": [
       "array([0.06916839, 0.15461169, 0.36008248, 0.47197252, 0.47604125,\n",
       "       0.27260482, 0.15054296, 0.05899656, 0.00610309])"
      ]
     },
     "execution_count": 59,
     "metadata": {},
     "output_type": "execute_result"
    }
   ],
   "source": [
    "values"
   ]
  },
  {
   "cell_type": "code",
   "execution_count": 60,
   "id": "022e5f9b-7d90-4954-a6e1-651679e6f451",
   "metadata": {},
   "outputs": [
    {
     "data": {
      "text/plain": [
       "<BarContainer object of 9 artists>"
      ]
     },
     "execution_count": 60,
     "metadata": {},
     "output_type": "execute_result"
    }
   ],
   "source": [
    "w"
   ]
  },
  {
   "cell_type": "code",
   "execution_count": 61,
   "id": "6fc91424-fb41-4409-a4cc-b3471244d15e",
   "metadata": {},
   "outputs": [
    {
     "data": {
      "text/plain": [
       "1.0000000000000002"
      ]
     },
     "execution_count": 61,
     "metadata": {},
     "output_type": "execute_result"
    }
   ],
   "source": [
    "sum(np.diff(bins)*values)"
   ]
  },
  {
   "cell_type": "code",
   "execution_count": 62,
   "id": "a3dbe803-6e36-4052-a9dd-2bc9e128e8a8",
   "metadata": {},
   "outputs": [
    {
     "data": {
      "text/plain": [
       "array([0.06916839, 0.15461169, 0.36008248, 0.47197252, 0.47604125,\n",
       "       0.27260482, 0.15054296, 0.05899656, 0.00610309])"
      ]
     },
     "execution_count": 62,
     "metadata": {},
     "output_type": "execute_result"
    }
   ],
   "source": [
    "values"
   ]
  },
  {
   "cell_type": "code",
   "execution_count": 63,
   "id": "5646af03-1dd6-4f95-98f1-ddcc1a61a830",
   "metadata": {},
   "outputs": [
    {
     "data": {
      "text/plain": [
       "array([-1.92931121, -1.43429203, -0.93927285, -0.44425367,  0.05076551,\n",
       "        0.54578469,  1.04080387,  1.53582305,  2.03084223,  2.52586141])"
      ]
     },
     "execution_count": 63,
     "metadata": {},
     "output_type": "execute_result"
    }
   ],
   "source": [
    "bins"
   ]
  },
  {
   "cell_type": "code",
   "execution_count": 64,
   "id": "738a15d7-c0d7-49fe-9c97-11d0a7d09dee",
   "metadata": {},
   "outputs": [],
   "source": [
    "bins = bins[:-1] + np.diff(bins) / 2"
   ]
  },
  {
   "cell_type": "code",
   "execution_count": 65,
   "id": "bf1fc869-c9d2-401b-a948-7d464ed9f31a",
   "metadata": {},
   "outputs": [
    {
     "data": {
      "text/plain": [
       "(array([0.06916839, 0.15461169, 0.36008248, 0.47197252, 0.47604125,\n",
       "        0.27260482, 0.15054296, 0.05899656, 0.00610309]),\n",
       " array([-1.92931121, -1.43429203, -0.93927285, -0.44425367,  0.05076551,\n",
       "         0.54578469,  1.04080387,  1.53582305,  2.03084223,  2.52586141]),\n",
       " <BarContainer object of 9 artists>)"
      ]
     },
     "execution_count": 65,
     "metadata": {},
     "output_type": "execute_result"
    },
    {
     "data": {
      "image/png": "[encoded data removed]",
      "text/plain": [
       "<Figure size 640x480 with 1 Axes>"
      ]
     },
     "metadata": {},
     "output_type": "display_data"
    }
   ],
   "source": [
    "plt.plot(bins, values)\n",
    "plt.hist(mistakes_data, bins=new_ar, density=True)"
   ]
  },
  {
   "cell_type": "code",
   "execution_count": 66,
   "id": "bf038dc9-a495-466e-ad95-401479afebda",
   "metadata": {},
   "outputs": [],
   "source": [
    "gfg = np.random.standard_cauchy(100)"
   ]
  },
  {
   "cell_type": "code",
   "execution_count": 67,
   "id": "dd36b998-3490-45ac-b09e-e498e1a3d2e7",
   "metadata": {},
   "outputs": [
    {
     "data": {
      "text/plain": [
       "<Axes: ylabel='Density'>"
      ]
     },
     "execution_count": 67,
     "metadata": {},
     "output_type": "execute_result"
    },
    {
     "data": {
      "image/png": "[encoded data removed]",
      "text/plain": [
       "<Figure size 640x480 with 1 Axes>"
      ]
     },
     "metadata": {},
     "output_type": "display_data"
    }
   ],
   "source": [
    "sns.kdeplot(data=gfg)"
   ]
  },
  {
   "cell_type": "code",
   "execution_count": 93,
   "id": "20429c55-88c3-4c9b-bb37-1dafe4fac169",
   "metadata": {},
   "outputs": [],
   "source": [
    "x = np.linspace(-10, 10, 1000)"
   ]
  },
  {
   "cell_type": "code",
   "execution_count": 94,
   "id": "83ea8f1e-691c-4d1f-9352-d43e8478db12",
   "metadata": {
    "scrolled": true
   },
   "outputs": [
    {
     "data": {
      "text/plain": [
       "array([-10.        ,  -9.97997998,  -9.95995996,  -9.93993994,\n",
       "        -9.91991992,  -9.8998999 ,  -9.87987988,  -9.85985986,\n",
       "        -9.83983984,  -9.81981982,  -9.7997998 ,  -9.77977978,\n",
       "        -9.75975976,  -9.73973974,  -9.71971972,  -9.6996997 ,\n",
       "        -9.67967968,  -9.65965966,  -9.63963964,  -9.61961962,\n",
       "        -9.5995996 ,  -9.57957958,  -9.55955956,  -9.53953954,\n",
       "        -9.51951952,  -9.4994995 ,  -9.47947948,  -9.45945946,\n",
       "        -9.43943944,  -9.41941942,  -9.3993994 ,  -9.37937938,\n",
       "        -9.35935936,  -9.33933934,  -9.31931932,  -9.2992993 ,\n",
       "        -9.27927928,  -9.25925926,  -9.23923924,  -9.21921922,\n",
       "        -9.1991992 ,  -9.17917918,  -9.15915916,  -9.13913914,\n",
       "        -9.11911912,  -9.0990991 ,  -9.07907908,  -9.05905906,\n",
       "        -9.03903904,  -9.01901902,  -8.998999  ,  -8.97897898,\n",
       "        -8.95895896,  -8.93893894,  -8.91891892,  -8.8988989 ,\n",
       "        -8.87887888,  -8.85885886,  -8.83883884,  -8.81881882,\n",
       "        -8.7987988 ,  -8.77877878,  -8.75875876,  -8.73873874,\n",
       "        -8.71871872,  -8.6986987 ,  -8.67867868,  -8.65865866,\n",
       "        -8.63863864,  -8.61861862,  -8.5985986 ,  -8.57857858,\n",
       "        -8.55855856,  -8.53853854,  -8.51851852,  -8.4984985 ,\n",
       "        -8.47847848,  -8.45845846,  -8.43843844,  -8.41841842,\n",
       "        -8.3983984 ,  -8.37837838,  -8.35835836,  -8.33833834,\n",
       "        -8.31831832,  -8.2982983 ,  -8.27827828,  -8.25825826,\n",
       "        -8.23823824,  -8.21821822,  -8.1981982 ,  -8.17817818,\n",
       "        -8.15815816,  -8.13813814,  -8.11811812,  -8.0980981 ,\n",
       "        -8.07807808,  -8.05805806,  -8.03803804,  -8.01801802,\n",
       "        -7.997998  ,  -7.97797798,  -7.95795796,  -7.93793794,\n",
       "        -7.91791792,  -7.8978979 ,  -7.87787788,  -7.85785786,\n",
       "        -7.83783784,  -7.81781782,  -7.7977978 ,  -7.77777778,\n",
       "        -7.75775776,  -7.73773774,  -7.71771772,  -7.6976977 ,\n",
       "        -7.67767768,  -7.65765766,  -7.63763764,  -7.61761762,\n",
       "        -7.5975976 ,  -7.57757758,  -7.55755756,  -7.53753754,\n",
       "        -7.51751752,  -7.4974975 ,  -7.47747748,  -7.45745746,\n",
       "        -7.43743744,  -7.41741742,  -7.3973974 ,  -7.37737738,\n",
       "        -7.35735736,  -7.33733734,  -7.31731732,  -7.2972973 ,\n",
       "        -7.27727728,  -7.25725726,  -7.23723724,  -7.21721722,\n",
       "        -7.1971972 ,  -7.17717718,  -7.15715716,  -7.13713714,\n",
       "        -7.11711712,  -7.0970971 ,  -7.07707708,  -7.05705706,\n",
       "        -7.03703704,  -7.01701702,  -6.996997  ,  -6.97697698,\n",
       "        -6.95695696,  -6.93693694,  -6.91691692,  -6.8968969 ,\n",
       "        -6.87687688,  -6.85685686,  -6.83683684,  -6.81681682,\n",
       "        -6.7967968 ,  -6.77677678,  -6.75675676,  -6.73673674,\n",
       "        -6.71671672,  -6.6966967 ,  -6.67667668,  -6.65665666,\n",
       "        -6.63663664,  -6.61661662,  -6.5965966 ,  -6.57657658,\n",
       "        -6.55655656,  -6.53653654,  -6.51651652,  -6.4964965 ,\n",
       "        -6.47647648,  -6.45645646,  -6.43643644,  -6.41641642,\n",
       "        -6.3963964 ,  -6.37637638,  -6.35635636,  -6.33633634,\n",
       "        -6.31631632,  -6.2962963 ,  -6.27627628,  -6.25625626,\n",
       "        -6.23623624,  -6.21621622,  -6.1961962 ,  -6.17617618,\n",
       "        -6.15615616,  -6.13613614,  -6.11611612,  -6.0960961 ,\n",
       "        -6.07607608,  -6.05605606,  -6.03603604,  -6.01601602,\n",
       "        -5.995996  ,  -5.97597598,  -5.95595596,  -5.93593594,\n",
       "        -5.91591592,  -5.8958959 ,  -5.87587588,  -5.85585586,\n",
       "        -5.83583584,  -5.81581582,  -5.7957958 ,  -5.77577578,\n",
       "        -5.75575576,  -5.73573574,  -5.71571572,  -5.6956957 ,\n",
       "        -5.67567568,  -5.65565566,  -5.63563564,  -5.61561562,\n",
       "        -5.5955956 ,  -5.57557558,  -5.55555556,  -5.53553554,\n",
       "        -5.51551552,  -5.4954955 ,  -5.47547548,  -5.45545546,\n",
       "        -5.43543544,  -5.41541542,  -5.3953954 ,  -5.37537538,\n",
       "        -5.35535536,  -5.33533534,  -5.31531532,  -5.2952953 ,\n",
       "        -5.27527528,  -5.25525526,  -5.23523524,  -5.21521522,\n",
       "        -5.1951952 ,  -5.17517518,  -5.15515516,  -5.13513514,\n",
       "        -5.11511512,  -5.0950951 ,  -5.07507508,  -5.05505506,\n",
       "        -5.03503504,  -5.01501502,  -4.99499499,  -4.97497497,\n",
       "        -4.95495495,  -4.93493493,  -4.91491491,  -4.89489489,\n",
       "        -4.87487487,  -4.85485485,  -4.83483483,  -4.81481481,\n",
       "        -4.79479479,  -4.77477477,  -4.75475475,  -4.73473473,\n",
       "        -4.71471471,  -4.69469469,  -4.67467467,  -4.65465465,\n",
       "        -4.63463463,  -4.61461461,  -4.59459459,  -4.57457457,\n",
       "        -4.55455455,  -4.53453453,  -4.51451451,  -4.49449449,\n",
       "        -4.47447447,  -4.45445445,  -4.43443443,  -4.41441441,\n",
       "        -4.39439439,  -4.37437437,  -4.35435435,  -4.33433433,\n",
       "        -4.31431431,  -4.29429429,  -4.27427427,  -4.25425425,\n",
       "        -4.23423423,  -4.21421421,  -4.19419419,  -4.17417417,\n",
       "        -4.15415415,  -4.13413413,  -4.11411411,  -4.09409409,\n",
       "        -4.07407407,  -4.05405405,  -4.03403403,  -4.01401401,\n",
       "        -3.99399399,  -3.97397397,  -3.95395395,  -3.93393393,\n",
       "        -3.91391391,  -3.89389389,  -3.87387387,  -3.85385385,\n",
       "        -3.83383383,  -3.81381381,  -3.79379379,  -3.77377377,\n",
       "        -3.75375375,  -3.73373373,  -3.71371371,  -3.69369369,\n",
       "        -3.67367367,  -3.65365365,  -3.63363363,  -3.61361361,\n",
       "        -3.59359359,  -3.57357357,  -3.55355355,  -3.53353353,\n",
       "        -3.51351351,  -3.49349349,  -3.47347347,  -3.45345345,\n",
       "        -3.43343343,  -3.41341341,  -3.39339339,  -3.37337337,\n",
       "        -3.35335335,  -3.33333333,  -3.31331331,  -3.29329329,\n",
       "        -3.27327327,  -3.25325325,  -3.23323323,  -3.21321321,\n",
       "        -3.19319319,  -3.17317317,  -3.15315315,  -3.13313313,\n",
       "        -3.11311311,  -3.09309309,  -3.07307307,  -3.05305305,\n",
       "        -3.03303303,  -3.01301301,  -2.99299299,  -2.97297297,\n",
       "        -2.95295295,  -2.93293293,  -2.91291291,  -2.89289289,\n",
       "        -2.87287287,  -2.85285285,  -2.83283283,  -2.81281281,\n",
       "        -2.79279279,  -2.77277277,  -2.75275275,  -2.73273273,\n",
       "        -2.71271271,  -2.69269269,  -2.67267267,  -2.65265265,\n",
       "        -2.63263263,  -2.61261261,  -2.59259259,  -2.57257257,\n",
       "        -2.55255255,  -2.53253253,  -2.51251251,  -2.49249249,\n",
       "        -2.47247247,  -2.45245245,  -2.43243243,  -2.41241241,\n",
       "        -2.39239239,  -2.37237237,  -2.35235235,  -2.33233233,\n",
       "        -2.31231231,  -2.29229229,  -2.27227227,  -2.25225225,\n",
       "        -2.23223223,  -2.21221221,  -2.19219219,  -2.17217217,\n",
       "        -2.15215215,  -2.13213213,  -2.11211211,  -2.09209209,\n",
       "        -2.07207207,  -2.05205205,  -2.03203203,  -2.01201201,\n",
       "        -1.99199199,  -1.97197197,  -1.95195195,  -1.93193193,\n",
       "        -1.91191191,  -1.89189189,  -1.87187187,  -1.85185185,\n",
       "        -1.83183183,  -1.81181181,  -1.79179179,  -1.77177177,\n",
       "        -1.75175175,  -1.73173173,  -1.71171171,  -1.69169169,\n",
       "        -1.67167167,  -1.65165165,  -1.63163163,  -1.61161161,\n",
       "        -1.59159159,  -1.57157157,  -1.55155155,  -1.53153153,\n",
       "        -1.51151151,  -1.49149149,  -1.47147147,  -1.45145145,\n",
       "        -1.43143143,  -1.41141141,  -1.39139139,  -1.37137137,\n",
       "        -1.35135135,  -1.33133133,  -1.31131131,  -1.29129129,\n",
       "        -1.27127127,  -1.25125125,  -1.23123123,  -1.21121121,\n",
       "        -1.19119119,  -1.17117117,  -1.15115115,  -1.13113113,\n",
       "        -1.11111111,  -1.09109109,  -1.07107107,  -1.05105105,\n",
       "        -1.03103103,  -1.01101101,  -0.99099099,  -0.97097097,\n",
       "        -0.95095095,  -0.93093093,  -0.91091091,  -0.89089089,\n",
       "        -0.87087087,  -0.85085085,  -0.83083083,  -0.81081081,\n",
       "        -0.79079079,  -0.77077077,  -0.75075075,  -0.73073073,\n",
       "        -0.71071071,  -0.69069069,  -0.67067067,  -0.65065065,\n",
       "        -0.63063063,  -0.61061061,  -0.59059059,  -0.57057057,\n",
       "        -0.55055055,  -0.53053053,  -0.51051051,  -0.49049049,\n",
       "        -0.47047047,  -0.45045045,  -0.43043043,  -0.41041041,\n",
       "        -0.39039039,  -0.37037037,  -0.35035035,  -0.33033033,\n",
       "        -0.31031031,  -0.29029029,  -0.27027027,  -0.25025025,\n",
       "        -0.23023023,  -0.21021021,  -0.19019019,  -0.17017017,\n",
       "        -0.15015015,  -0.13013013,  -0.11011011,  -0.09009009,\n",
       "        -0.07007007,  -0.05005005,  -0.03003003,  -0.01001001,\n",
       "         0.01001001,   0.03003003,   0.05005005,   0.07007007,\n",
       "         0.09009009,   0.11011011,   0.13013013,   0.15015015,\n",
       "         0.17017017,   0.19019019,   0.21021021,   0.23023023,\n",
       "         0.25025025,   0.27027027,   0.29029029,   0.31031031,\n",
       "         0.33033033,   0.35035035,   0.37037037,   0.39039039,\n",
       "         0.41041041,   0.43043043,   0.45045045,   0.47047047,\n",
       "         0.49049049,   0.51051051,   0.53053053,   0.55055055,\n",
       "         0.57057057,   0.59059059,   0.61061061,   0.63063063,\n",
       "         0.65065065,   0.67067067,   0.69069069,   0.71071071,\n",
       "         0.73073073,   0.75075075,   0.77077077,   0.79079079,\n",
       "         0.81081081,   0.83083083,   0.85085085,   0.87087087,\n",
       "         0.89089089,   0.91091091,   0.93093093,   0.95095095,\n",
       "         0.97097097,   0.99099099,   1.01101101,   1.03103103,\n",
       "         1.05105105,   1.07107107,   1.09109109,   1.11111111,\n",
       "         1.13113113,   1.15115115,   1.17117117,   1.19119119,\n",
       "         1.21121121,   1.23123123,   1.25125125,   1.27127127,\n",
       "         1.29129129,   1.31131131,   1.33133133,   1.35135135,\n",
       "         1.37137137,   1.39139139,   1.41141141,   1.43143143,\n",
       "         1.45145145,   1.47147147,   1.49149149,   1.51151151,\n",
       "         1.53153153,   1.55155155,   1.57157157,   1.59159159,\n",
       "         1.61161161,   1.63163163,   1.65165165,   1.67167167,\n",
       "         1.69169169,   1.71171171,   1.73173173,   1.75175175,\n",
       "         1.77177177,   1.79179179,   1.81181181,   1.83183183,\n",
       "         1.85185185,   1.87187187,   1.89189189,   1.91191191,\n",
       "         1.93193193,   1.95195195,   1.97197197,   1.99199199,\n",
       "         2.01201201,   2.03203203,   2.05205205,   2.07207207,\n",
       "         2.09209209,   2.11211211,   2.13213213,   2.15215215,\n",
       "         2.17217217,   2.19219219,   2.21221221,   2.23223223,\n",
       "         2.25225225,   2.27227227,   2.29229229,   2.31231231,\n",
       "         2.33233233,   2.35235235,   2.37237237,   2.39239239,\n",
       "         2.41241241,   2.43243243,   2.45245245,   2.47247247,\n",
       "         2.49249249,   2.51251251,   2.53253253,   2.55255255,\n",
       "         2.57257257,   2.59259259,   2.61261261,   2.63263263,\n",
       "         2.65265265,   2.67267267,   2.69269269,   2.71271271,\n",
       "         2.73273273,   2.75275275,   2.77277277,   2.79279279,\n",
       "         2.81281281,   2.83283283,   2.85285285,   2.87287287,\n",
       "         2.89289289,   2.91291291,   2.93293293,   2.95295295,\n",
       "         2.97297297,   2.99299299,   3.01301301,   3.03303303,\n",
       "         3.05305305,   3.07307307,   3.09309309,   3.11311311,\n",
       "         3.13313313,   3.15315315,   3.17317317,   3.19319319,\n",
       "         3.21321321,   3.23323323,   3.25325325,   3.27327327,\n",
       "         3.29329329,   3.31331331,   3.33333333,   3.35335335,\n",
       "         3.37337337,   3.39339339,   3.41341341,   3.43343343,\n",
       "         3.45345345,   3.47347347,   3.49349349,   3.51351351,\n",
       "         3.53353353,   3.55355355,   3.57357357,   3.59359359,\n",
       "         3.61361361,   3.63363363,   3.65365365,   3.67367367,\n",
       "         3.69369369,   3.71371371,   3.73373373,   3.75375375,\n",
       "         3.77377377,   3.79379379,   3.81381381,   3.83383383,\n",
       "         3.85385385,   3.87387387,   3.89389389,   3.91391391,\n",
       "         3.93393393,   3.95395395,   3.97397397,   3.99399399,\n",
       "         4.01401401,   4.03403403,   4.05405405,   4.07407407,\n",
       "         4.09409409,   4.11411411,   4.13413413,   4.15415415,\n",
       "         4.17417417,   4.19419419,   4.21421421,   4.23423423,\n",
       "         4.25425425,   4.27427427,   4.29429429,   4.31431431,\n",
       "         4.33433433,   4.35435435,   4.37437437,   4.39439439,\n",
       "         4.41441441,   4.43443443,   4.45445445,   4.47447447,\n",
       "         4.49449449,   4.51451451,   4.53453453,   4.55455455,\n",
       "         4.57457457,   4.59459459,   4.61461461,   4.63463463,\n",
       "         4.65465465,   4.67467467,   4.69469469,   4.71471471,\n",
       "         4.73473473,   4.75475475,   4.77477477,   4.79479479,\n",
       "         4.81481481,   4.83483483,   4.85485485,   4.87487487,\n",
       "         4.89489489,   4.91491491,   4.93493493,   4.95495495,\n",
       "         4.97497497,   4.99499499,   5.01501502,   5.03503504,\n",
       "         5.05505506,   5.07507508,   5.0950951 ,   5.11511512,\n",
       "         5.13513514,   5.15515516,   5.17517518,   5.1951952 ,\n",
       "         5.21521522,   5.23523524,   5.25525526,   5.27527528,\n",
       "         5.2952953 ,   5.31531532,   5.33533534,   5.35535536,\n",
       "         5.37537538,   5.3953954 ,   5.41541542,   5.43543544,\n",
       "         5.45545546,   5.47547548,   5.4954955 ,   5.51551552,\n",
       "         5.53553554,   5.55555556,   5.57557558,   5.5955956 ,\n",
       "         5.61561562,   5.63563564,   5.65565566,   5.67567568,\n",
       "         5.6956957 ,   5.71571572,   5.73573574,   5.75575576,\n",
       "         5.77577578,   5.7957958 ,   5.81581582,   5.83583584,\n",
       "         5.85585586,   5.87587588,   5.8958959 ,   5.91591592,\n",
       "         5.93593594,   5.95595596,   5.97597598,   5.995996  ,\n",
       "         6.01601602,   6.03603604,   6.05605606,   6.07607608,\n",
       "         6.0960961 ,   6.11611612,   6.13613614,   6.15615616,\n",
       "         6.17617618,   6.1961962 ,   6.21621622,   6.23623624,\n",
       "         6.25625626,   6.27627628,   6.2962963 ,   6.31631632,\n",
       "         6.33633634,   6.35635636,   6.37637638,   6.3963964 ,\n",
       "         6.41641642,   6.43643644,   6.45645646,   6.47647648,\n",
       "         6.4964965 ,   6.51651652,   6.53653654,   6.55655656,\n",
       "         6.57657658,   6.5965966 ,   6.61661662,   6.63663664,\n",
       "         6.65665666,   6.67667668,   6.6966967 ,   6.71671672,\n",
       "         6.73673674,   6.75675676,   6.77677678,   6.7967968 ,\n",
       "         6.81681682,   6.83683684,   6.85685686,   6.87687688,\n",
       "         6.8968969 ,   6.91691692,   6.93693694,   6.95695696,\n",
       "         6.97697698,   6.996997  ,   7.01701702,   7.03703704,\n",
       "         7.05705706,   7.07707708,   7.0970971 ,   7.11711712,\n",
       "         7.13713714,   7.15715716,   7.17717718,   7.1971972 ,\n",
       "         7.21721722,   7.23723724,   7.25725726,   7.27727728,\n",
       "         7.2972973 ,   7.31731732,   7.33733734,   7.35735736,\n",
       "         7.37737738,   7.3973974 ,   7.41741742,   7.43743744,\n",
       "         7.45745746,   7.47747748,   7.4974975 ,   7.51751752,\n",
       "         7.53753754,   7.55755756,   7.57757758,   7.5975976 ,\n",
       "         7.61761762,   7.63763764,   7.65765766,   7.67767768,\n",
       "         7.6976977 ,   7.71771772,   7.73773774,   7.75775776,\n",
       "         7.77777778,   7.7977978 ,   7.81781782,   7.83783784,\n",
       "         7.85785786,   7.87787788,   7.8978979 ,   7.91791792,\n",
       "         7.93793794,   7.95795796,   7.97797798,   7.997998  ,\n",
       "         8.01801802,   8.03803804,   8.05805806,   8.07807808,\n",
       "         8.0980981 ,   8.11811812,   8.13813814,   8.15815816,\n",
       "         8.17817818,   8.1981982 ,   8.21821822,   8.23823824,\n",
       "         8.25825826,   8.27827828,   8.2982983 ,   8.31831832,\n",
       "         8.33833834,   8.35835836,   8.37837838,   8.3983984 ,\n",
       "         8.41841842,   8.43843844,   8.45845846,   8.47847848,\n",
       "         8.4984985 ,   8.51851852,   8.53853854,   8.55855856,\n",
       "         8.57857858,   8.5985986 ,   8.61861862,   8.63863864,\n",
       "         8.65865866,   8.67867868,   8.6986987 ,   8.71871872,\n",
       "         8.73873874,   8.75875876,   8.77877878,   8.7987988 ,\n",
       "         8.81881882,   8.83883884,   8.85885886,   8.87887888,\n",
       "         8.8988989 ,   8.91891892,   8.93893894,   8.95895896,\n",
       "         8.97897898,   8.998999  ,   9.01901902,   9.03903904,\n",
       "         9.05905906,   9.07907908,   9.0990991 ,   9.11911912,\n",
       "         9.13913914,   9.15915916,   9.17917918,   9.1991992 ,\n",
       "         9.21921922,   9.23923924,   9.25925926,   9.27927928,\n",
       "         9.2992993 ,   9.31931932,   9.33933934,   9.35935936,\n",
       "         9.37937938,   9.3993994 ,   9.41941942,   9.43943944,\n",
       "         9.45945946,   9.47947948,   9.4994995 ,   9.51951952,\n",
       "         9.53953954,   9.55955956,   9.57957958,   9.5995996 ,\n",
       "         9.61961962,   9.63963964,   9.65965966,   9.67967968,\n",
       "         9.6996997 ,   9.71971972,   9.73973974,   9.75975976,\n",
       "         9.77977978,   9.7997998 ,   9.81981982,   9.83983984,\n",
       "         9.85985986,   9.87987988,   9.8998999 ,   9.91991992,\n",
       "         9.93993994,   9.95995996,   9.97997998,  10.        ])"
      ]
     },
     "execution_count": 94,
     "metadata": {},
     "output_type": "execute_result"
    }
   ],
   "source": [
    "x"
   ]
  },
  {
   "cell_type": "code",
   "execution_count": 95,
   "id": "e00a479c-e967-42ef-bebd-bc30a55793b0",
   "metadata": {},
   "outputs": [
    {
     "data": {
      "text/plain": [
       "[<matplotlib.lines.Line2D at 0x259f4b5d6d0>]"
      ]
     },
     "execution_count": 95,
     "metadata": {},
     "output_type": "execute_result"
    },
    {
     "data": {
      "image/png": "[encoded data removed]",
      "text/plain": [
       "<Figure size 640x480 with 1 Axes>"
      ]
     },
     "metadata": {},
     "output_type": "display_data"
    }
   ],
   "source": [
    "from scipy.stats import cauchy\n",
    "\n",
    "plt.plot(x, cauchy.pdf(x))"
   ]
  },
  {
   "cell_type": "code",
   "execution_count": 159,
   "id": "348c5251-aac8-4b44-bc15-5e246f2dc185",
   "metadata": {},
   "outputs": [],
   "source": [
    "x = np.linspace(-1, 20, 1000)"
   ]
  },
  {
   "cell_type": "code",
   "execution_count": 160,
   "id": "c525330b-bac8-44cf-b661-113e8c5aeb9d",
   "metadata": {},
   "outputs": [
    {
     "data": {
      "text/plain": [
       "[<matplotlib.lines.Line2D at 0x259fd131be0>]"
      ]
     },
     "execution_count": 160,
     "metadata": {},
     "output_type": "execute_result"
    },
    {
     "data": {
      "image/png": "[encoded data removed]",
      "text/plain": [
       "<Figure size 640x480 with 1 Axes>"
      ]
     },
     "metadata": {},
     "output_type": "display_data"
    }
   ],
   "source": [
    "from scipy.stats import maxwell\n",
    "\n",
    "plt.plot(x, maxwell.pdf(x, 0, 5))"
   ]
  },
  {
   "cell_type": "code",
   "execution_count": 164,
   "id": "4151e741-ded1-4caf-ac70-b5981e92e845",
   "metadata": {},
   "outputs": [
    {
     "data": {
      "text/plain": [
       "[<matplotlib.lines.Line2D at 0x259fe1d5a90>]"
      ]
     },
     "execution_count": 164,
     "metadata": {},
     "output_type": "execute_result"
    },
    {
     "data": {
      "image/png": "[encoded data removed]",
      "text/plain": [
       "<Figure size 640x480 with 1 Axes>"
      ]
     },
     "metadata": {},
     "output_type": "display_data"
    }
   ],
   "source": [
    "from scipy.stats import beta\n",
    "x = np.linspace(0, 1, 10000)\n",
    "plt.plot(x, beta.pdf(x, 3, 1))\n",
    "plt.plot(x, beta.pdf(x, 1, 1))\n",
    "plt.plot(x, beta.pdf(x, 5, 5))"
   ]
  },
  {
   "cell_type": "code",
   "execution_count": 206,
   "id": "d418bb13-f84b-4f96-8b8a-065a5ad4dec7",
   "metadata": {},
   "outputs": [
    {
     "data": {
      "text/plain": [
       "[<matplotlib.lines.Line2D at 0x259835632c0>]"
      ]
     },
     "execution_count": 206,
     "metadata": {},
     "output_type": "execute_result"
    },
    {
     "data": {
      "image/png": "[encoded data removed]",
      "text/plain": [
       "<Figure size 640x480 with 1 Axes>"
      ]
     },
     "metadata": {},
     "output_type": "display_data"
    }
   ],
   "source": [
    "from scipy.stats import triang\n",
    "x = np.linspace(0, 10, 100)\n",
    "plt.plot(x, triang.pdf(x, 0.8, 0, 10))"
   ]
  },
  {
   "cell_type": "code",
   "execution_count": 220,
   "id": "f05a9fd8-1ca5-451d-aa74-843a93e9494a",
   "metadata": {},
   "outputs": [
    {
     "data": {
      "text/plain": [
       "[<matplotlib.lines.Line2D at 0x25985b90b60>]"
      ]
     },
     "execution_count": 220,
     "metadata": {},
     "output_type": "execute_result"
    },
    {
     "data": {
      "image/png": "[encoded data removed]",
      "text/plain": [
       "<Figure size 640x480 with 1 Axes>"
      ]
     },
     "metadata": {},
     "output_type": "display_data"
    }
   ],
   "source": [
    "from scipy.stats import chi2\n",
    "x = np.linspace(0, 250, 10000)\n",
    "plt.plot(x, chi2.pdf(x, 125))"
   ]
  },
  {
   "cell_type": "code",
   "execution_count": 223,
   "id": "b09ba1cf-67e8-42cb-bbd1-015079b0786d",
   "metadata": {},
   "outputs": [
    {
     "data": {
      "text/plain": [
       "[<matplotlib.lines.Line2D at 0x25986f90410>]"
      ]
     },
     "execution_count": 223,
     "metadata": {},
     "output_type": "execute_result"
    },
    {
     "data": {
      "image/png": "[encoded data removed]",
      "text/plain": [
       "<Figure size 640x480 with 1 Axes>"
      ]
     },
     "metadata": {},
     "output_type": "display_data"
    }
   ],
   "source": [
    "from scipy.stats import f\n",
    "x = np.linspace(0, 10, 10000)\n",
    "plt.plot(x, f.pdf(x, 1, 5))\n",
    "plt.plot(x, f.pdf(x, 5, 1))"
   ]
  },
  {
   "cell_type": "code",
   "execution_count": 134,
   "id": "c93850ab-8445-4d91-aef5-139614f39c49",
   "metadata": {},
   "outputs": [
    {
     "data": {
      "text/plain": [
       "[<matplotlib.lines.Line2D at 0x259fb7b40b0>]"
      ]
     },
     "execution_count": 134,
     "metadata": {},
     "output_type": "execute_result"
    },
    {
     "data": {
      "image/png": "[encoded data removed]",
      "text/plain": [
       "<Figure size 640x480 with 1 Axes>"
      ]
     },
     "metadata": {},
     "output_type": "display_data"
    }
   ],
   "source": [
    "from scipy.stats import rayleigh\n",
    "x = np.linspace(-10, 10, 10000)\n",
    "plt.plot(x, rayleigh.pdf(x))"
   ]
  },
  {
   "cell_type": "code",
   "execution_count": 194,
   "id": "1919ca5e-e141-4b22-9e93-9621187b10bd",
   "metadata": {},
   "outputs": [
    {
     "data": {
      "text/plain": [
       "[<matplotlib.lines.Line2D at 0x2598229f9e0>]"
      ]
     },
     "execution_count": 194,
     "metadata": {},
     "output_type": "execute_result"
    },
    {
     "data": {
      "image/png": "[encoded data removed]",
      "text/plain": [
       "<Figure size 640x480 with 1 Axes>"
      ]
     },
     "metadata": {},
     "output_type": "display_data"
    }
   ],
   "source": [
    "from scipy.stats import t\n",
    "x = np.linspace(-10, 10, 10000)\n",
    "plt.plot(x, t.pdf(x, 1))\n",
    "plt.plot(x, t.pdf(x, 5))\n",
    "plt.plot(x, t.pdf(x, 10))"
   ]
  },
  {
   "cell_type": "code",
   "execution_count": null,
   "id": "80a0952e-4848-4498-ab22-a82ab534dc0b",
   "metadata": {},
   "outputs": [],
   "source": []
  }
 ],
 "metadata": {
  "kernelspec": {
   "display_name": "Python 3 (ipykernel)",
   "language": "python",
   "name": "python3"
  },
  "language_info": {
   "codemirror_mode": {
    "name": "ipython",
    "version": 3
   },
   "file_extension": ".py",
   "mimetype": "text/x-python",
   "name": "python",
   "nbconvert_exporter": "python",
   "pygments_lexer": "ipython3",
   "version": "3.12.4"
  }
 },
 "nbformat": 4,
 "nbformat_minor": 5
}
