{
 "cells": [
  {
   "cell_type": "code",
   "execution_count": 182,
   "id": "c3574d9e-0cae-43a4-8c34-bd0dcbc2c429",
   "metadata": {},
   "outputs": [],
   "source": [
    "import pandas as pd\n",
    "import numpy as np\n",
    "import seaborn as sns\n",
    "from scipy.stats import moment, median_abs_deviation\n",
    "from scipy import ndimage\n",
    "from scipy.interpolate import lagrange\n",
    "from scipy.stats import norm\n",
    "import matplotlib.pyplot as plt\n",
    "import math"
   ]
  },
  {
   "cell_type": "code",
   "execution_count": 183,
   "id": "da7d2ed3-2eca-45b1-a383-c3cd40666432",
   "metadata": {},
   "outputs": [],
   "source": [
    "bins = np.random.normal(0, 2.5, size=(10, 1))"
   ]
  },
  {
   "cell_type": "code",
   "execution_count": 3,
   "id": "20ace7c7-abc8-49ca-a60a-39b8d4a0b365",
   "metadata": {},
   "outputs": [],
   "source": [
    "bins = norm.rvs(size=10)"
   ]
  },
  {
   "cell_type": "code",
   "execution_count": 184,
   "id": "dd5b1f82-f909-4365-aa21-30759eba5f51",
   "metadata": {},
   "outputs": [
    {
     "data": {
      "text/plain": [
       "array([[-0.78537943],\n",
       "       [ 1.04759402],\n",
       "       [-4.43944588],\n",
       "       [-1.94416881],\n",
       "       [ 0.44554663],\n",
       "       [-0.89965212],\n",
       "       [ 0.73267653],\n",
       "       [ 0.26117242],\n",
       "       [-2.43388421],\n",
       "       [ 1.61242362]])"
      ]
     },
     "execution_count": 184,
     "metadata": {},
     "output_type": "execute_result"
    }
   ],
   "source": [
    "bins"
   ]
  },
  {
   "cell_type": "code",
   "execution_count": 185,
   "id": "647a6ff7-18b3-484b-be33-dfb25167c17d",
   "metadata": {},
   "outputs": [],
   "source": [
    "df = pd.DataFrame(bins)"
   ]
  },
  {
   "cell_type": "code",
   "execution_count": 186,
   "id": "868fcc79-7ec2-44c4-bb6f-ecce14db84e1",
   "metadata": {},
   "outputs": [
    {
     "data": {
      "text/html": [
       "<div>\n",
       "<style scoped>\n",
       "    .dataframe tbody tr th:only-of-type {\n",
       "        vertical-align: middle;\n",
       "    }\n",
       "\n",
       "    .dataframe tbody tr th {\n",
       "        vertical-align: top;\n",
       "    }\n",
       "\n",
       "    .dataframe thead th {\n",
       "        text-align: right;\n",
       "    }\n",
       "</style>\n",
       "<table border=\"1\" class=\"dataframe\">\n",
       "  <thead>\n",
       "    <tr style=\"text-align: right;\">\n",
       "      <th></th>\n",
       "      <th>0</th>\n",
       "    </tr>\n",
       "  </thead>\n",
       "  <tbody>\n",
       "    <tr>\n",
       "      <th>0</th>\n",
       "      <td>-0.785379</td>\n",
       "    </tr>\n",
       "    <tr>\n",
       "      <th>1</th>\n",
       "      <td>1.047594</td>\n",
       "    </tr>\n",
       "    <tr>\n",
       "      <th>2</th>\n",
       "      <td>-4.439446</td>\n",
       "    </tr>\n",
       "    <tr>\n",
       "      <th>3</th>\n",
       "      <td>-1.944169</td>\n",
       "    </tr>\n",
       "    <tr>\n",
       "      <th>4</th>\n",
       "      <td>0.445547</td>\n",
       "    </tr>\n",
       "    <tr>\n",
       "      <th>5</th>\n",
       "      <td>-0.899652</td>\n",
       "    </tr>\n",
       "    <tr>\n",
       "      <th>6</th>\n",
       "      <td>0.732677</td>\n",
       "    </tr>\n",
       "    <tr>\n",
       "      <th>7</th>\n",
       "      <td>0.261172</td>\n",
       "    </tr>\n",
       "    <tr>\n",
       "      <th>8</th>\n",
       "      <td>-2.433884</td>\n",
       "    </tr>\n",
       "    <tr>\n",
       "      <th>9</th>\n",
       "      <td>1.612424</td>\n",
       "    </tr>\n",
       "  </tbody>\n",
       "</table>\n",
       "</div>"
      ],
      "text/plain": [
       "          0\n",
       "0 -0.785379\n",
       "1  1.047594\n",
       "2 -4.439446\n",
       "3 -1.944169\n",
       "4  0.445547\n",
       "5 -0.899652\n",
       "6  0.732677\n",
       "7  0.261172\n",
       "8 -2.433884\n",
       "9  1.612424"
      ]
     },
     "execution_count": 186,
     "metadata": {},
     "output_type": "execute_result"
    }
   ],
   "source": [
    "df"
   ]
  },
  {
   "cell_type": "code",
   "execution_count": 187,
   "id": "7f82730a-9b52-4752-ba22-ac713a352089",
   "metadata": {},
   "outputs": [
    {
     "data": {
      "text/plain": [
       "<Axes: ylabel='Density'>"
      ]
     },
     "execution_count": 187,
     "metadata": {},
     "output_type": "execute_result"
    },
    {
     "data": {
      "image/png": "[encoded data removed]",
      "text/plain": [
       "<Figure size 640x480 with 1 Axes>"
      ]
     },
     "metadata": {},
     "output_type": "display_data"
    }
   ],
   "source": [
    "sns.kdeplot(data=df)"
   ]
  },
  {
   "cell_type": "code",
   "execution_count": 188,
   "id": "5cb82d77-f5f2-41a6-8f88-28bba1d77fdc",
   "metadata": {},
   "outputs": [
    {
     "data": {
      "text/html": [
       "<div>\n",
       "<style scoped>\n",
       "    .dataframe tbody tr th:only-of-type {\n",
       "        vertical-align: middle;\n",
       "    }\n",
       "\n",
       "    .dataframe tbody tr th {\n",
       "        vertical-align: top;\n",
       "    }\n",
       "\n",
       "    .dataframe thead th {\n",
       "        text-align: right;\n",
       "    }\n",
       "</style>\n",
       "<table border=\"1\" class=\"dataframe\">\n",
       "  <thead>\n",
       "    <tr style=\"text-align: right;\">\n",
       "      <th></th>\n",
       "      <th>0</th>\n",
       "    </tr>\n",
       "  </thead>\n",
       "  <tbody>\n",
       "    <tr>\n",
       "      <th>count</th>\n",
       "      <td>10.000000</td>\n",
       "    </tr>\n",
       "    <tr>\n",
       "      <th>mean</th>\n",
       "      <td>-0.640312</td>\n",
       "    </tr>\n",
       "    <tr>\n",
       "      <th>std</th>\n",
       "      <td>1.863073</td>\n",
       "    </tr>\n",
       "    <tr>\n",
       "      <th>min</th>\n",
       "      <td>-4.439446</td>\n",
       "    </tr>\n",
       "    <tr>\n",
       "      <th>25%</th>\n",
       "      <td>-1.683040</td>\n",
       "    </tr>\n",
       "    <tr>\n",
       "      <th>50%</th>\n",
       "      <td>-0.262104</td>\n",
       "    </tr>\n",
       "    <tr>\n",
       "      <th>75%</th>\n",
       "      <td>0.660894</td>\n",
       "    </tr>\n",
       "    <tr>\n",
       "      <th>max</th>\n",
       "      <td>1.612424</td>\n",
       "    </tr>\n",
       "  </tbody>\n",
       "</table>\n",
       "</div>"
      ],
      "text/plain": [
       "               0\n",
       "count  10.000000\n",
       "mean   -0.640312\n",
       "std     1.863073\n",
       "min    -4.439446\n",
       "25%    -1.683040\n",
       "50%    -0.262104\n",
       "75%     0.660894\n",
       "max     1.612424"
      ]
     },
     "execution_count": 188,
     "metadata": {},
     "output_type": "execute_result"
    }
   ],
   "source": [
    "df.describe(include='all')"
   ]
  },
  {
   "cell_type": "code",
   "execution_count": 189,
   "id": "5c38830e-19a4-41ef-a8bc-ebd4665b8780",
   "metadata": {},
   "outputs": [],
   "source": [
    "means = df.mean().to_list()[0]"
   ]
  },
  {
   "cell_type": "code",
   "execution_count": 190,
   "id": "9ae396c9-f8af-4933-9856-b61db75ef50e",
   "metadata": {},
   "outputs": [
    {
     "data": {
      "text/plain": [
       "-0.6403117241601425"
      ]
     },
     "execution_count": 190,
     "metadata": {},
     "output_type": "execute_result"
    }
   ],
   "source": [
    "means"
   ]
  },
  {
   "cell_type": "code",
   "execution_count": 191,
   "id": "170d1018-15eb-484f-be9f-dcba6234916e",
   "metadata": {},
   "outputs": [
    {
     "data": {
      "text/plain": [
       "array([26.10421855])"
      ]
     },
     "execution_count": 191,
     "metadata": {},
     "output_type": "execute_result"
    }
   ],
   "source": [
    "moment(df, order=4, center=None)"
   ]
  },
  {
   "cell_type": "code",
   "execution_count": 192,
   "id": "441c9c90-0f9f-4ef8-a31a-f97a2d7eb843",
   "metadata": {},
   "outputs": [
    {
     "data": {
      "text/plain": [
       "array([26.10421855])"
      ]
     },
     "execution_count": 192,
     "metadata": {},
     "output_type": "execute_result"
    }
   ],
   "source": [
    "moment(df, order=4, center=means)"
   ]
  },
  {
   "cell_type": "code",
   "execution_count": 193,
   "id": "6a22afdc-3a8a-4bf2-bcf8-6d59c61439a9",
   "metadata": {},
   "outputs": [
    {
     "data": {
      "text/plain": [
       "array([3.12393691])"
      ]
     },
     "execution_count": 193,
     "metadata": {},
     "output_type": "execute_result"
    }
   ],
   "source": [
    "moment(df, order=2, center=means)"
   ]
  },
  {
   "cell_type": "code",
   "execution_count": 194,
   "id": "cdababba-594c-4594-a2db-eb38ed02088b",
   "metadata": {},
   "outputs": [
    {
     "data": {
      "text/plain": [
       "array([1.76746624])"
      ]
     },
     "execution_count": 194,
     "metadata": {},
     "output_type": "execute_result"
    }
   ],
   "source": [
    "(moment(df, order=2, center=means))**(1/2)"
   ]
  },
  {
   "cell_type": "code",
   "execution_count": 195,
   "id": "4bf7315a-1410-4135-b1bd-0de5f3e94829",
   "metadata": {},
   "outputs": [
    {
     "data": {
      "text/plain": [
       "-0.2621035074101897"
      ]
     },
     "execution_count": 195,
     "metadata": {},
     "output_type": "execute_result"
    }
   ],
   "source": [
    "ndimage.median(df)"
   ]
  },
  {
   "cell_type": "code",
   "execution_count": 196,
   "id": "b4bb0c99-0f31-4298-9e05-1a9f34ed4710",
   "metadata": {},
   "outputs": [
    {
     "data": {
      "text/plain": [
       "1.1522387790035968"
      ]
     },
     "execution_count": 196,
     "metadata": {},
     "output_type": "execute_result"
    }
   ],
   "source": [
    "median_abs_deviation(df)[0]"
   ]
  },
  {
   "cell_type": "code",
   "execution_count": 197,
   "id": "7b0d3941-b686-4b32-b9ff-a8b4d519b7da",
   "metadata": {},
   "outputs": [],
   "source": [
    "n = len(bins)\n",
    "i = 0\n",
    "if (n / 4).is_integer():\n",
    "    i = n / 4\n",
    "else:\n",
    "    i = int(n / 4) + 1"
   ]
  },
  {
   "cell_type": "code",
   "execution_count": 198,
   "id": "90f5147a-baaf-4359-a79f-b4ed0bbda327",
   "metadata": {},
   "outputs": [
    {
     "data": {
      "text/plain": [
       "3"
      ]
     },
     "execution_count": 198,
     "metadata": {},
     "output_type": "execute_result"
    }
   ],
   "source": [
    "i"
   ]
  },
  {
   "cell_type": "code",
   "execution_count": 199,
   "id": "ca02f104-095b-4729-846c-c371148da79e",
   "metadata": {},
   "outputs": [],
   "source": [
    "z_1_4 = bins[i]\n",
    "z_3_4 = bins[n - i + 1]"
   ]
  },
  {
   "cell_type": "code",
   "execution_count": 200,
   "id": "92782347-74cd-47bb-b28e-77a5f60bedcd",
   "metadata": {},
   "outputs": [
    {
     "data": {
      "text/plain": [
       "array([-1.94416881])"
      ]
     },
     "execution_count": 200,
     "metadata": {},
     "output_type": "execute_result"
    }
   ],
   "source": [
    "z_1_4"
   ]
  },
  {
   "cell_type": "code",
   "execution_count": 201,
   "id": "bdd067e7-adbd-417a-9508-fae018033095",
   "metadata": {},
   "outputs": [
    {
     "data": {
      "text/plain": [
       "array([-2.43388421])"
      ]
     },
     "execution_count": 201,
     "metadata": {},
     "output_type": "execute_result"
    }
   ],
   "source": [
    "z_3_4"
   ]
  },
  {
   "cell_type": "code",
   "execution_count": 202,
   "id": "6dd49e69-9762-4912-934c-bbbf5b832809",
   "metadata": {},
   "outputs": [],
   "source": [
    "tq = (1/2)*(z_1_4 + z_3_4)"
   ]
  },
  {
   "cell_type": "code",
   "execution_count": 203,
   "id": "c2966f71-022f-4f07-97e0-82703d0ef08f",
   "metadata": {},
   "outputs": [
    {
     "data": {
      "text/plain": [
       "array([-2.18902651])"
      ]
     },
     "execution_count": 203,
     "metadata": {},
     "output_type": "execute_result"
    }
   ],
   "source": [
    "tq"
   ]
  },
  {
   "cell_type": "code",
   "execution_count": 204,
   "id": "2e5236c1-4004-4c29-ac02-4c9616562995",
   "metadata": {},
   "outputs": [],
   "source": [
    "tr = (1/2)*(min(bins)+max(bins))"
   ]
  },
  {
   "cell_type": "code",
   "execution_count": 205,
   "id": "6022b4f8-2cbd-415c-9c70-6e9e01d76fa9",
   "metadata": {},
   "outputs": [
    {
     "data": {
      "text/plain": [
       "array([-1.41351113])"
      ]
     },
     "execution_count": 205,
     "metadata": {},
     "output_type": "execute_result"
    }
   ],
   "source": [
    "tr"
   ]
  },
  {
   "cell_type": "code",
   "execution_count": 206,
   "id": "b32f5b54-432e-42de-b291-30a461df4115",
   "metadata": {},
   "outputs": [],
   "source": [
    "q = z_3_4 - z_1_4"
   ]
  },
  {
   "cell_type": "code",
   "execution_count": 207,
   "id": "add7c00e-f403-4759-a1f4-d03e057d96b3",
   "metadata": {},
   "outputs": [
    {
     "data": {
      "text/plain": [
       "array([-0.48971541])"
      ]
     },
     "execution_count": 207,
     "metadata": {},
     "output_type": "execute_result"
    }
   ],
   "source": [
    "q"
   ]
  },
  {
   "cell_type": "code",
   "execution_count": 208,
   "id": "4e4ca03f-2dc0-4ac4-9481-759e0f566852",
   "metadata": {},
   "outputs": [],
   "source": [
    "R = max(bins) - min(bins)"
   ]
  },
  {
   "cell_type": "code",
   "execution_count": 209,
   "id": "47769212-b082-4c11-b2ce-4333cf124ca9",
   "metadata": {},
   "outputs": [
    {
     "data": {
      "text/plain": [
       "array([6.05186951])"
      ]
     },
     "execution_count": 209,
     "metadata": {},
     "output_type": "execute_result"
    }
   ],
   "source": [
    "R"
   ]
  },
  {
   "cell_type": "code",
   "execution_count": 210,
   "id": "e0d2d6ac-1b75-4856-b950-d93f0268eea2",
   "metadata": {},
   "outputs": [],
   "source": [
    "mistakes = []\n",
    "mistakes_quart_1_4 = []\n",
    "mistakes_quart_3_4 = []\n",
    "mx = 0"
   ]
  },
  {
   "cell_type": "code",
   "execution_count": 211,
   "id": "51d5f71d-2fed-4989-b1d5-b7838c0703fa",
   "metadata": {},
   "outputs": [],
   "source": [
    "z_1_4 = 0.158655\n",
    "z_3_4 = 0.841345"
   ]
  },
  {
   "cell_type": "code",
   "execution_count": 212,
   "id": "1ba08014-55e6-49ac-b33c-100fedd0ea51",
   "metadata": {},
   "outputs": [],
   "source": [
    "for i in range(1000):\n",
    "    select = np.random.normal(0, 2.5, size=(10, 1))\n",
    "    mistakes.append(select.mean() - mx)\n",
    "    \n",
    "    select = pd.DataFrame(select)\n",
    "    select.quantile([0.25, 0.75]).loc[0.75].to_list()[0]\n",
    "    \n",
    "    mistakes_quart_1_4.append(select.quantile([0.25, 0.75]).loc[0.25].to_list()[0] - z_1_4)\n",
    "    mistakes_quart_3_4.append(select.quantile([0.25, 0.75]).loc[0.75].to_list()[0] - z_3_4)"
   ]
  },
  {
   "cell_type": "code",
   "execution_count": 213,
   "id": "26a5ef18-049e-4048-8e3a-26f30ff6e954",
   "metadata": {},
   "outputs": [],
   "source": [
    "mistakes_data = pd.DataFrame(mistakes)\n",
    "mistakes_quart_1_4 = pd.DataFrame(mistakes_quart_1_4)\n",
    "mistakes_quart_3_4 = pd.DataFrame(mistakes_quart_3_4)"
   ]
  },
  {
   "cell_type": "code",
   "execution_count": 214,
   "id": "5cef9cb8-74e9-4a3c-94a9-c47a5101967b",
   "metadata": {},
   "outputs": [
    {
     "data": {
      "text/html": [
       "<div>\n",
       "<style scoped>\n",
       "    .dataframe tbody tr th:only-of-type {\n",
       "        vertical-align: middle;\n",
       "    }\n",
       "\n",
       "    .dataframe tbody tr th {\n",
       "        vertical-align: top;\n",
       "    }\n",
       "\n",
       "    .dataframe thead th {\n",
       "        text-align: right;\n",
       "    }\n",
       "</style>\n",
       "<table border=\"1\" class=\"dataframe\">\n",
       "  <thead>\n",
       "    <tr style=\"text-align: right;\">\n",
       "      <th></th>\n",
       "      <th>0</th>\n",
       "    </tr>\n",
       "  </thead>\n",
       "  <tbody>\n",
       "    <tr>\n",
       "      <th>count</th>\n",
       "      <td>1000.000000</td>\n",
       "    </tr>\n",
       "    <tr>\n",
       "      <th>mean</th>\n",
       "      <td>0.064904</td>\n",
       "    </tr>\n",
       "    <tr>\n",
       "      <th>std</th>\n",
       "      <td>0.794797</td>\n",
       "    </tr>\n",
       "    <tr>\n",
       "      <th>min</th>\n",
       "      <td>-2.489363</td>\n",
       "    </tr>\n",
       "    <tr>\n",
       "      <th>25%</th>\n",
       "      <td>-0.475008</td>\n",
       "    </tr>\n",
       "    <tr>\n",
       "      <th>50%</th>\n",
       "      <td>0.050836</td>\n",
       "    </tr>\n",
       "    <tr>\n",
       "      <th>75%</th>\n",
       "      <td>0.600196</td>\n",
       "    </tr>\n",
       "    <tr>\n",
       "      <th>max</th>\n",
       "      <td>2.605347</td>\n",
       "    </tr>\n",
       "  </tbody>\n",
       "</table>\n",
       "</div>"
      ],
      "text/plain": [
       "                 0\n",
       "count  1000.000000\n",
       "mean      0.064904\n",
       "std       0.794797\n",
       "min      -2.489363\n",
       "25%      -0.475008\n",
       "50%       0.050836\n",
       "75%       0.600196\n",
       "max       2.605347"
      ]
     },
     "execution_count": 214,
     "metadata": {},
     "output_type": "execute_result"
    }
   ],
   "source": [
    "mistakes_data.describe()"
   ]
  },
  {
   "cell_type": "code",
   "execution_count": 215,
   "id": "3c34deb7-19ed-4ca7-8089-da16f9f84db0",
   "metadata": {},
   "outputs": [],
   "source": [
    "means = mistakes_data.mean().to_list()[0]"
   ]
  },
  {
   "cell_type": "code",
   "execution_count": 216,
   "id": "b1f1dd2e-5844-4faa-9a4b-cbb1468705dd",
   "metadata": {},
   "outputs": [
    {
     "data": {
      "text/plain": [
       "0.064903597149539"
      ]
     },
     "execution_count": 216,
     "metadata": {},
     "output_type": "execute_result"
    }
   ],
   "source": [
    "means"
   ]
  },
  {
   "cell_type": "code",
   "execution_count": 217,
   "id": "c1d0ee7e-cc51-4dc0-aabe-ec5259e9c552",
   "metadata": {},
   "outputs": [
    {
     "data": {
      "text/plain": [
       "array([0.63107071])"
      ]
     },
     "execution_count": 217,
     "metadata": {},
     "output_type": "execute_result"
    }
   ],
   "source": [
    "moment(mistakes_data, order=2, center=means)"
   ]
  },
  {
   "cell_type": "code",
   "execution_count": 218,
   "id": "5691a554-890f-4181-b58a-a530bab35235",
   "metadata": {},
   "outputs": [],
   "source": [
    "means = mistakes_quart_1_4.mean().to_list()[0]"
   ]
  },
  {
   "cell_type": "code",
   "execution_count": 219,
   "id": "acb5dfaf-557b-481b-9da2-afe55113e5f8",
   "metadata": {},
   "outputs": [
    {
     "data": {
      "text/plain": [
       "-1.5625743067666389"
      ]
     },
     "execution_count": 219,
     "metadata": {},
     "output_type": "execute_result"
    }
   ],
   "source": [
    "means"
   ]
  },
  {
   "cell_type": "code",
   "execution_count": 220,
   "id": "95f291e1-ad7c-45ed-a77f-fec912dc951d",
   "metadata": {},
   "outputs": [
    {
     "data": {
      "text/plain": [
       "array([3.27975504])"
      ]
     },
     "execution_count": 220,
     "metadata": {},
     "output_type": "execute_result"
    }
   ],
   "source": [
    "moment(mistakes_data, order=2, center=means)"
   ]
  },
  {
   "cell_type": "code",
   "execution_count": 221,
   "id": "5e906394-132f-4b5c-b153-7e107e41e2b5",
   "metadata": {},
   "outputs": [],
   "source": [
    "means = mistakes_quart_3_4.mean().to_list()[0]"
   ]
  },
  {
   "cell_type": "code",
   "execution_count": 222,
   "id": "2d76f3fa-e5d4-41f0-8ac3-bb7cf9614fbe",
   "metadata": {},
   "outputs": [
    {
     "data": {
      "text/plain": [
       "0.7166737225130553"
      ]
     },
     "execution_count": 222,
     "metadata": {},
     "output_type": "execute_result"
    }
   ],
   "source": [
    "means"
   ]
  },
  {
   "cell_type": "code",
   "execution_count": 223,
   "id": "dcf095bd-0765-47b2-820c-ddf63711bddc",
   "metadata": {},
   "outputs": [
    {
     "data": {
      "text/plain": [
       "array([1.05587501])"
      ]
     },
     "execution_count": 223,
     "metadata": {},
     "output_type": "execute_result"
    }
   ],
   "source": [
    "moment(mistakes_data, order=2, center=means)"
   ]
  },
  {
   "cell_type": "code",
   "execution_count": 224,
   "id": "3f41eda2-71de-4ae6-a771-0b957d0805ba",
   "metadata": {},
   "outputs": [
    {
     "data": {
      "text/plain": [
       "array([[<Axes: title={'center': '0'}>]], dtype=object)"
      ]
     },
     "execution_count": 224,
     "metadata": {},
     "output_type": "execute_result"
    },
    {
     "data": {
      "image/png": "[encoded data removed]",
      "text/plain": [
       "<Figure size 640x480 with 1 Axes>"
      ]
     },
     "metadata": {},
     "output_type": "display_data"
    },
    {
     "data": {
      "image/png": "[encoded data removed]",
      "text/plain": [
       "<Figure size 640x480 with 1 Axes>"
      ]
     },
     "metadata": {},
     "output_type": "display_data"
    },
    {
     "data": {
      "image/png": "[encoded data removed]",
      "text/plain": [
       "<Figure size 640x480 with 1 Axes>"
      ]
     },
     "metadata": {},
     "output_type": "display_data"
    }
   ],
   "source": [
    "mistakes_data.hist()\n",
    "mistakes_quart_1_4.hist()\n",
    "mistakes_quart_3_4.hist()"
   ]
  },
  {
   "cell_type": "code",
   "execution_count": 225,
   "id": "43668d5f-117b-4e00-81a1-b1f878e692c0",
   "metadata": {},
   "outputs": [
    {
     "data": {
      "text/plain": [
       "0.6001961164848126"
      ]
     },
     "execution_count": 225,
     "metadata": {},
     "output_type": "execute_result"
    }
   ],
   "source": [
    "mistakes_data.quantile([0.25, 0.75]).loc[0.75].to_list()[0]"
   ]
  },
  {
   "cell_type": "code",
   "execution_count": 226,
   "id": "68bd01f5-6c43-40df-b723-c2826910ed1d",
   "metadata": {},
   "outputs": [
    {
     "data": {
      "text/html": [
       "<div>\n",
       "<style scoped>\n",
       "    .dataframe tbody tr th:only-of-type {\n",
       "        vertical-align: middle;\n",
       "    }\n",
       "\n",
       "    .dataframe tbody tr th {\n",
       "        vertical-align: top;\n",
       "    }\n",
       "\n",
       "    .dataframe thead th {\n",
       "        text-align: right;\n",
       "    }\n",
       "</style>\n",
       "<table border=\"1\" class=\"dataframe\">\n",
       "  <thead>\n",
       "    <tr style=\"text-align: right;\">\n",
       "      <th></th>\n",
       "      <th>0</th>\n",
       "    </tr>\n",
       "  </thead>\n",
       "  <tbody>\n",
       "    <tr>\n",
       "      <th>0</th>\n",
       "      <td>2.048344</td>\n",
       "    </tr>\n",
       "    <tr>\n",
       "      <th>1</th>\n",
       "      <td>-0.022092</td>\n",
       "    </tr>\n",
       "    <tr>\n",
       "      <th>2</th>\n",
       "      <td>1.209094</td>\n",
       "    </tr>\n",
       "    <tr>\n",
       "      <th>3</th>\n",
       "      <td>-0.163236</td>\n",
       "    </tr>\n",
       "    <tr>\n",
       "      <th>4</th>\n",
       "      <td>0.253587</td>\n",
       "    </tr>\n",
       "    <tr>\n",
       "      <th>...</th>\n",
       "      <td>...</td>\n",
       "    </tr>\n",
       "    <tr>\n",
       "      <th>995</th>\n",
       "      <td>-0.001201</td>\n",
       "    </tr>\n",
       "    <tr>\n",
       "      <th>996</th>\n",
       "      <td>-0.742224</td>\n",
       "    </tr>\n",
       "    <tr>\n",
       "      <th>997</th>\n",
       "      <td>0.356061</td>\n",
       "    </tr>\n",
       "    <tr>\n",
       "      <th>998</th>\n",
       "      <td>1.137393</td>\n",
       "    </tr>\n",
       "    <tr>\n",
       "      <th>999</th>\n",
       "      <td>1.627936</td>\n",
       "    </tr>\n",
       "  </tbody>\n",
       "</table>\n",
       "<p>1000 rows × 1 columns</p>\n",
       "</div>"
      ],
      "text/plain": [
       "            0\n",
       "0    2.048344\n",
       "1   -0.022092\n",
       "2    1.209094\n",
       "3   -0.163236\n",
       "4    0.253587\n",
       "..        ...\n",
       "995 -0.001201\n",
       "996 -0.742224\n",
       "997  0.356061\n",
       "998  1.137393\n",
       "999  1.627936\n",
       "\n",
       "[1000 rows x 1 columns]"
      ]
     },
     "execution_count": 226,
     "metadata": {},
     "output_type": "execute_result"
    }
   ],
   "source": [
    "mistakes_data\n",
    "mistakes_quart_1_4\n",
    "mistakes_quart_3_4"
   ]
  },
  {
   "cell_type": "code",
   "execution_count": 227,
   "id": "17d9b876-d3c1-4ceb-a97a-0b54d568ca8f",
   "metadata": {},
   "outputs": [],
   "source": [
    "BIG_mistakes = pd.concat([mistakes_data, mistakes_quart_1_4, mistakes_quart_3_4])"
   ]
  },
  {
   "cell_type": "code",
   "execution_count": 228,
   "id": "156601b6-4dd7-42ed-b7e4-c19008897aeb",
   "metadata": {},
   "outputs": [
    {
     "data": {
      "text/plain": [
       "<Axes: ylabel='Count'>"
      ]
     },
     "execution_count": 228,
     "metadata": {},
     "output_type": "execute_result"
    },
    {
     "data": {
      "image/png": "[encoded data removed]",
      "text/plain": [
       "<Figure size 640x480 with 1 Axes>"
      ]
     },
     "metadata": {},
     "output_type": "display_data"
    }
   ],
   "source": [
    "sns.histplot(data=BIG_mistakes)"
   ]
  },
  {
   "cell_type": "code",
   "execution_count": 229,
   "id": "cd203004-df02-4683-be42-9a427b97f4f1",
   "metadata": {},
   "outputs": [],
   "source": [
    "mistakes_arr = mistakes_data.to_numpy()"
   ]
  },
  {
   "cell_type": "code",
   "execution_count": 230,
   "id": "99cd691a-e754-4077-9279-47f4fe9aaf7d",
   "metadata": {
    "scrolled": true
   },
   "outputs": [],
   "source": [
    "mistakes_arr = mistakes_arr.tolist()"
   ]
  },
  {
   "cell_type": "code",
   "execution_count": 231,
   "id": "54d61c5e-4237-49ac-8fd8-adf2b722b8c1",
   "metadata": {},
   "outputs": [],
   "source": [
    "k = int(1 + 3.322 * math.log10(len(mistakes_arr)))"
   ]
  },
  {
   "cell_type": "code",
   "execution_count": 232,
   "id": "3ae832da-c55f-4919-8cbb-22489e67ef09",
   "metadata": {},
   "outputs": [],
   "source": [
    "H = (max(mistakes_arr)[0] - min(mistakes_arr)[0]) / k"
   ]
  },
  {
   "cell_type": "code",
   "execution_count": 233,
   "id": "e5962792-f56f-4cf4-b11b-743d91f7ef17",
   "metadata": {},
   "outputs": [
    {
     "data": {
      "text/plain": [
       "0.5094710352363047"
      ]
     },
     "execution_count": 233,
     "metadata": {},
     "output_type": "execute_result"
    }
   ],
   "source": [
    "H"
   ]
  },
  {
   "cell_type": "code",
   "execution_count": 234,
   "id": "335aa62d-edcb-40a3-8447-23d888d39290",
   "metadata": {},
   "outputs": [],
   "source": [
    "new_ar = []\n",
    "x = min(mistakes_arr)[0]\n",
    "while x < max(mistakes_arr)[0]:\n",
    "    x += H\n",
    "    new_ar.append(x)"
   ]
  },
  {
   "cell_type": "code",
   "execution_count": 235,
   "id": "2ba76799-147c-4bd4-acc1-0ea8564b3b6b",
   "metadata": {},
   "outputs": [
    {
     "data": {
      "text/plain": [
       "[-1.97989216223412,\n",
       " -1.4704211269978154,\n",
       " -0.9609500917615107,\n",
       " -0.45147905652520604,\n",
       " 0.057991978711098624,\n",
       " 0.5674630139474033,\n",
       " 1.0769340491837078,\n",
       " 1.5864050844200124,\n",
       " 2.095876119656317,\n",
       " 2.6053471548926215]"
      ]
     },
     "execution_count": 235,
     "metadata": {},
     "output_type": "execute_result"
    }
   ],
   "source": [
    "new_ar"
   ]
  },
  {
   "cell_type": "code",
   "execution_count": 236,
   "id": "37f0b347-fc26-4a30-ac86-18d0e8bed83c",
   "metadata": {},
   "outputs": [
    {
     "data": {
      "image/png": "[encoded data removed]",
      "text/plain": [
       "<Figure size 640x480 with 1 Axes>"
      ]
     },
     "metadata": {},
     "output_type": "display_data"
    }
   ],
   "source": [
    "values, bins, _  = plt.hist(mistakes_data, density=True)"
   ]
  },
  {
   "cell_type": "code",
   "execution_count": 237,
   "id": "65727c48-aa40-4787-96f7-311cc88154ff",
   "metadata": {},
   "outputs": [
    {
     "data": {
      "text/plain": [
       "0.9999999999999999"
      ]
     },
     "execution_count": 237,
     "metadata": {},
     "output_type": "execute_result"
    }
   ],
   "source": [
    "sum(np.diff(bins)*values)"
   ]
  },
  {
   "cell_type": "code",
   "execution_count": 265,
   "id": "6c507ef2-ffb7-4a4e-822d-a2bb3474b889",
   "metadata": {},
   "outputs": [
    {
     "data": {
      "image/png": "[encoded data removed]",
      "text/plain": [
       "<Figure size 640x480 with 1 Axes>"
      ]
     },
     "metadata": {},
     "output_type": "display_data"
    }
   ],
   "source": [
    "values, bins, w  = plt.hist(mistakes_data, bins=new_ar, density=True)"
   ]
  },
  {
   "cell_type": "code",
   "execution_count": 266,
   "id": "022e5f9b-7d90-4954-a6e1-651679e6f451",
   "metadata": {},
   "outputs": [
    {
     "data": {
      "text/plain": [
       "<BarContainer object of 9 artists>"
      ]
     },
     "execution_count": 266,
     "metadata": {},
     "output_type": "execute_result"
    }
   ],
   "source": [
    "w"
   ]
  },
  {
   "cell_type": "code",
   "execution_count": 267,
   "id": "6fc91424-fb41-4409-a4cc-b3471244d15e",
   "metadata": {},
   "outputs": [
    {
     "data": {
      "text/plain": [
       "1.0"
      ]
     },
     "execution_count": 267,
     "metadata": {},
     "output_type": "execute_result"
    }
   ],
   "source": [
    "sum(np.diff(bins)*values)"
   ]
  },
  {
   "cell_type": "code",
   "execution_count": 268,
   "id": "a3dbe803-6e36-4052-a9dd-2bc9e128e8a8",
   "metadata": {},
   "outputs": [
    {
     "data": {
      "text/plain": [
       "array([0.03748099, 0.13019711, 0.34324694, 0.47738942, 0.45371721,\n",
       "       0.311684  , 0.1440059 , 0.05523514, 0.00986342])"
      ]
     },
     "execution_count": 268,
     "metadata": {},
     "output_type": "execute_result"
    }
   ],
   "source": [
    "values"
   ]
  },
  {
   "cell_type": "code",
   "execution_count": 269,
   "id": "5646af03-1dd6-4f95-98f1-ddcc1a61a830",
   "metadata": {},
   "outputs": [
    {
     "data": {
      "text/plain": [
       "array([-1.97989216, -1.47042113, -0.96095009, -0.45147906,  0.05799198,\n",
       "        0.56746301,  1.07693405,  1.58640508,  2.09587612,  2.60534715])"
      ]
     },
     "execution_count": 269,
     "metadata": {},
     "output_type": "execute_result"
    }
   ],
   "source": [
    "bins"
   ]
  },
  {
   "cell_type": "code",
   "execution_count": 270,
   "id": "738a15d7-c0d7-49fe-9c97-11d0a7d09dee",
   "metadata": {},
   "outputs": [],
   "source": [
    "bins = bins[:-1] + np.diff(bins) / 2"
   ]
  },
  {
   "cell_type": "code",
   "execution_count": 271,
   "id": "bf1fc869-c9d2-401b-a948-7d464ed9f31a",
   "metadata": {},
   "outputs": [
    {
     "data": {
      "text/plain": [
       "(array([0.03748099, 0.13019711, 0.34324694, 0.47738942, 0.45371721,\n",
       "        0.311684  , 0.1440059 , 0.05523514, 0.00986342]),\n",
       " array([-1.97989216, -1.47042113, -0.96095009, -0.45147906,  0.05799198,\n",
       "         0.56746301,  1.07693405,  1.58640508,  2.09587612,  2.60534715]),\n",
       " <BarContainer object of 9 artists>)"
      ]
     },
     "execution_count": 271,
     "metadata": {},
     "output_type": "execute_result"
    },
    {
     "data": {
      "image/png": "[encoded data removed]",
      "text/plain": [
       "<Figure size 640x480 with 1 Axes>"
      ]
     },
     "metadata": {},
     "output_type": "display_data"
    }
   ],
   "source": [
    "plt.plot(bins, values)\n",
    "plt.hist(mistakes_data, bins=new_ar, density=True)"
   ]
  },
  {
   "cell_type": "code",
   "execution_count": 272,
   "id": "bf038dc9-a495-466e-ad95-401479afebda",
   "metadata": {},
   "outputs": [],
   "source": [
    "gfg = np.random.standard_cauchy(100)"
   ]
  },
  {
   "cell_type": "code",
   "execution_count": 277,
   "id": "dd36b998-3490-45ac-b09e-e498e1a3d2e7",
   "metadata": {},
   "outputs": [
    {
     "data": {
      "text/plain": [
       "<Axes: ylabel='Density'>"
      ]
     },
     "execution_count": 277,
     "metadata": {},
     "output_type": "execute_result"
    },
    {
     "data": {
      "image/png": "[encoded data removed]",
      "text/plain": [
       "<Figure size 640x480 with 1 Axes>"
      ]
     },
     "metadata": {},
     "output_type": "display_data"
    }
   ],
   "source": [
    "sns.kdeplot(data=gfg)"
   ]
  },
  {
   "cell_type": "code",
   "execution_count": 274,
   "id": "20429c55-88c3-4c9b-bb37-1dafe4fac169",
   "metadata": {},
   "outputs": [
    {
     "ename": "TypeError",
     "evalue": "linspace() missing 1 required positional argument: 'stop'",
     "output_type": "error",
     "traceback": [
      "\u001b[1;31m---------------------------------------------------------------------------\u001b[0m",
      "\u001b[1;31mTypeError\u001b[0m                                 Traceback (most recent call last)",
      "Cell \u001b[1;32mIn[274], line 1\u001b[0m\n\u001b[1;32m----> 1\u001b[0m np\u001b[38;5;241m.\u001b[39mlinspace(\u001b[38;5;241m100\u001b[39m)\n",
      "\u001b[1;31mTypeError\u001b[0m: linspace() missing 1 required positional argument: 'stop'"
     ]
    }
   ],
   "source": [
    "np.linspace(100)"
   ]
  },
  {
   "cell_type": "code",
   "execution_count": null,
   "id": "e00a479c-e967-42ef-bebd-bc30a55793b0",
   "metadata": {},
   "outputs": [],
   "source": []
  },
  {
   "cell_type": "code",
   "execution_count": null,
   "id": "7225a237-f1dd-4754-a29f-ac48b77d7f4e",
   "metadata": {},
   "outputs": [],
   "source": []
  },
  {
   "cell_type": "code",
   "execution_count": null,
   "id": "348c5251-aac8-4b44-bc15-5e246f2dc185",
   "metadata": {},
   "outputs": [],
   "source": []
  },
  {
   "cell_type": "code",
   "execution_count": null,
   "id": "c525330b-bac8-44cf-b661-113e8c5aeb9d",
   "metadata": {},
   "outputs": [],
   "source": []
  },
  {
   "cell_type": "code",
   "execution_count": null,
   "id": "7152146b-5a19-4043-9c46-eff20cef6fe3",
   "metadata": {},
   "outputs": [],
   "source": []
  },
  {
   "cell_type": "code",
   "execution_count": null,
   "id": "4151e741-ded1-4caf-ac70-b5981e92e845",
   "metadata": {},
   "outputs": [],
   "source": []
  },
  {
   "cell_type": "code",
   "execution_count": null,
   "id": "d418bb13-f84b-4f96-8b8a-065a5ad4dec7",
   "metadata": {},
   "outputs": [],
   "source": []
  },
  {
   "cell_type": "code",
   "execution_count": null,
   "id": "f05a9fd8-1ca5-451d-aa74-843a93e9494a",
   "metadata": {},
   "outputs": [],
   "source": []
  }
 ],
 "metadata": {
  "kernelspec": {
   "display_name": "Python 3 (ipykernel)",
   "language": "python",
   "name": "python3"
  },
  "language_info": {
   "codemirror_mode": {
    "name": "ipython",
    "version": 3
   },
   "file_extension": ".py",
   "mimetype": "text/x-python",
   "name": "python",
   "nbconvert_exporter": "python",
   "pygments_lexer": "ipython3",
   "version": "3.12.4"
  }
 },
 "nbformat": 4,
 "nbformat_minor": 5
}
