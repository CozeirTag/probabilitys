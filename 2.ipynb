{
 "cells": [
  {
   "cell_type": "code",
   "execution_count": 58,
   "id": "1028e26c-fe37-430b-b42e-02fd92afc5c8",
   "metadata": {},
   "outputs": [],
   "source": [
    "import numpy as np\n",
    "import pandas as pd\n",
    "import seaborn as sns\n",
    "import scipy.stats as st"
   ]
  },
  {
   "cell_type": "code",
   "execution_count": 2,
   "id": "e1ebba54-299f-46fc-b0da-0e930c11ad73",
   "metadata": {},
   "outputs": [],
   "source": [
    "mx = 0\n",
    "mistakes = []"
   ]
  },
  {
   "cell_type": "code",
   "execution_count": 3,
   "id": "808627a2-585c-4ed8-b052-943d77355bba",
   "metadata": {},
   "outputs": [],
   "source": [
    "for i in range(1000):\n",
    "    select = np.random.normal(0, 2.5, size=(10, 1))\n",
    "    mistakes.append(select.mean() - mx)"
   ]
  },
  {
   "cell_type": "code",
   "execution_count": 4,
   "id": "c8763931-11fe-44ca-96cc-ca19780b9878",
   "metadata": {},
   "outputs": [],
   "source": [
    "d = pd.DataFrame(mistakes)"
   ]
  },
  {
   "cell_type": "code",
   "execution_count": 14,
   "id": "d440d89e-3ef4-4825-ade3-83be6d73209b",
   "metadata": {},
   "outputs": [
    {
     "data": {
      "text/html": [
       "<div>\n",
       "<style scoped>\n",
       "    .dataframe tbody tr th:only-of-type {\n",
       "        vertical-align: middle;\n",
       "    }\n",
       "\n",
       "    .dataframe tbody tr th {\n",
       "        vertical-align: top;\n",
       "    }\n",
       "\n",
       "    .dataframe thead th {\n",
       "        text-align: right;\n",
       "    }\n",
       "</style>\n",
       "<table border=\"1\" class=\"dataframe\">\n",
       "  <thead>\n",
       "    <tr style=\"text-align: right;\">\n",
       "      <th></th>\n",
       "      <th>0</th>\n",
       "    </tr>\n",
       "  </thead>\n",
       "  <tbody>\n",
       "    <tr>\n",
       "      <th>1.0</th>\n",
       "      <td>2.783381</td>\n",
       "    </tr>\n",
       "  </tbody>\n",
       "</table>\n",
       "</div>"
      ],
      "text/plain": [
       "            0\n",
       "1.0  2.783381"
      ]
     },
     "execution_count": 14,
     "metadata": {},
     "output_type": "execute_result"
    }
   ],
   "source": [
    "d.quantile([0.9999999])"
   ]
  },
  {
   "cell_type": "code",
   "execution_count": 38,
   "id": "5740efe3-2501-4bab-a138-7267d8e53117",
   "metadata": {},
   "outputs": [],
   "source": [
    "xar = d.var()[0]**(1/2)"
   ]
  },
  {
   "cell_type": "code",
   "execution_count": 39,
   "id": "d995ead3-6eec-4e76-854c-468b4040b5d7",
   "metadata": {},
   "outputs": [
    {
     "data": {
      "text/plain": [
       "0.7745918074489389"
      ]
     },
     "execution_count": 39,
     "metadata": {},
     "output_type": "execute_result"
    }
   ],
   "source": [
    "xar"
   ]
  },
  {
   "cell_type": "code",
   "execution_count": 40,
   "id": "3d757310-fba7-47e9-8629-379f4f8f0c79",
   "metadata": {},
   "outputs": [],
   "source": [
    "x_ch = d.mean()[0]"
   ]
  },
  {
   "cell_type": "code",
   "execution_count": 42,
   "id": "cc199d4f-7e57-42e1-aced-8c7f9c31296d",
   "metadata": {},
   "outputs": [
    {
     "data": {
      "text/plain": [
       "-0.0006303613653299465"
      ]
     },
     "execution_count": 42,
     "metadata": {},
     "output_type": "execute_result"
    }
   ],
   "source": [
    "x_ch"
   ]
  },
  {
   "cell_type": "code",
   "execution_count": 120,
   "id": "a8de1ae0-9488-4635-a729-bc65e657b5b7",
   "metadata": {},
   "outputs": [],
   "source": [
    "alpha = 0.05"
   ]
  },
  {
   "cell_type": "code",
   "execution_count": 121,
   "id": "1c7a969b-4b55-414e-9fd9-3b09fbcfc7e9",
   "metadata": {},
   "outputs": [],
   "source": [
    "left = x_ch - ((xar * st.t.ppf(1 - alpha / 2, len(d) - 1)) / ((len(d) - 1)**(1/2)))\n",
    "right = x_ch + ((xar * st.t.ppf(1 - alpha / 2, len(d) - 1)) / ((len(d) - 1)**(1/2)))"
   ]
  },
  {
   "cell_type": "code",
   "execution_count": 122,
   "id": "ac222955-788f-41d6-b0fa-1cf0164ed5b0",
   "metadata": {},
   "outputs": [
    {
     "name": "stdout",
     "output_type": "stream",
     "text": [
      "0.16644687112257028  < a <  0.40477442780428985\n"
     ]
    }
   ],
   "source": [
    "print(left ,' < a < ', right)"
   ]
  },
  {
   "cell_type": "code",
   "execution_count": 123,
   "id": "e2ee95dc-b04a-4f79-bafb-8604048bee3e",
   "metadata": {},
   "outputs": [
    {
     "data": {
      "text/plain": [
       "1.9623414611334487"
      ]
     },
     "execution_count": 123,
     "metadata": {},
     "output_type": "execute_result"
    }
   ],
   "source": [
    "st.t.ppf(1 - alpha / 2, len(d) - 1)"
   ]
  },
  {
   "cell_type": "code",
   "execution_count": 124,
   "id": "c6e48a4f-a2b1-4af0-9eba-7c662d7d9b78",
   "metadata": {},
   "outputs": [],
   "source": [
    "left = (xar * len(d)**(1/2)) / (st.chi2.ppf(1 - alpha / 2, len(d) - 1))\n",
    "right = (xar * len(d)**(1/2)) / (st.chi2.ppf(alpha / 2, len(d) - 1))"
   ]
  },
  {
   "cell_type": "code",
   "execution_count": 125,
   "id": "c06987cf-4585-4a82-a7de-591b47114c2c",
   "metadata": {},
   "outputs": [
    {
     "name": "stdout",
     "output_type": "stream",
     "text": [
      "0.05576082050206758  < sigma <  0.06645665789824343\n"
     ]
    }
   ],
   "source": [
    "print(left ,' < sigma < ', right)"
   ]
  },
  {
   "cell_type": "code",
   "execution_count": 92,
   "id": "a2ab2fda-81e3-4bca-840e-ddc547f0373e",
   "metadata": {
    "scrolled": true
   },
   "outputs": [],
   "source": [
    "logic = st.logistic.rvs(size=(100, 1))"
   ]
  },
  {
   "cell_type": "code",
   "execution_count": 126,
   "id": "d17e5913-66e1-4da3-9567-eec05d0f19f2",
   "metadata": {},
   "outputs": [],
   "source": [
    "alpha = 0.05"
   ]
  },
  {
   "cell_type": "code",
   "execution_count": 127,
   "id": "ce01c81e-9913-4431-a425-ea63acd8e5b3",
   "metadata": {},
   "outputs": [],
   "source": [
    "x_ch = logic.mean()"
   ]
  },
  {
   "cell_type": "code",
   "execution_count": 135,
   "id": "66098069-8a27-4457-8b4e-6fd586651359",
   "metadata": {},
   "outputs": [
    {
     "data": {
      "text/plain": [
       "0.28561064946343007"
      ]
     },
     "execution_count": 135,
     "metadata": {},
     "output_type": "execute_result"
    }
   ],
   "source": [
    "x_ch"
   ]
  },
  {
   "cell_type": "code",
   "execution_count": 128,
   "id": "020b648b-72b6-41d9-ae44-214535444f14",
   "metadata": {},
   "outputs": [],
   "source": [
    "xar = logic.var()**(1/2)"
   ]
  },
  {
   "cell_type": "code",
   "execution_count": 129,
   "id": "7b244b23-a83d-46d8-8045-e2368225b386",
   "metadata": {},
   "outputs": [],
   "source": [
    "left = x_ch - ((xar * st.norm.ppf(1 - alpha / 2)) / (len(logic)**(1/2)))\n",
    "right = x_ch + ((xar * st.norm.ppf(1 - alpha / 2)) / (len(logic)**(1/2)))"
   ]
  },
  {
   "cell_type": "code",
   "execution_count": 130,
   "id": "d13dd07a-5d7c-4282-a33c-1d44b6f88228",
   "metadata": {},
   "outputs": [
    {
     "name": "stdout",
     "output_type": "stream",
     "text": [
      "-0.090573523947381  < a <  0.6617948228742412\n"
     ]
    }
   ],
   "source": [
    "print(left, ' < a < ', right)"
   ]
  },
  {
   "cell_type": "code",
   "execution_count": 131,
   "id": "f95b4cf6-a757-4189-a8f8-bbe01c0d4653",
   "metadata": {},
   "outputs": [],
   "source": [
    "e = st.moment(logic, order=4, center=x_ch)[0]"
   ]
  },
  {
   "cell_type": "code",
   "execution_count": 132,
   "id": "6c2f6425-f311-4c6f-b2b4-3eeeece8cb56",
   "metadata": {},
   "outputs": [
    {
     "data": {
      "text/plain": [
       "69.70193737430002"
      ]
     },
     "execution_count": 132,
     "metadata": {},
     "output_type": "execute_result"
    }
   ],
   "source": [
    "e"
   ]
  },
  {
   "cell_type": "code",
   "execution_count": 133,
   "id": "39ddbeae-14e8-47c8-bc3e-85b59f547ce2",
   "metadata": {},
   "outputs": [],
   "source": [
    "left = xar * (1 - (1/2) * st.norm.ppf(1 - alpha / 2) * ((e + 2) / len(logic)))\n",
    "right = xar * (1 + (1/2) * st.norm.ppf(1 - alpha / 2) * ((e + 2) / len(logic)))"
   ]
  },
  {
   "cell_type": "code",
   "execution_count": 134,
   "id": "0463ac2b-9ebe-4735-bd07-f58a56191600",
   "metadata": {},
   "outputs": [
    {
     "name": "stdout",
     "output_type": "stream",
     "text": [
      "0.5706855734074944  < sigma <  3.2679989777179737\n"
     ]
    }
   ],
   "source": [
    "print(left, ' < sigma < ', right)"
   ]
  },
  {
   "cell_type": "markdown",
   "id": "55643667-7d9e-42a9-896b-97457072aadf",
   "metadata": {},
   "source": [
    "# Критерий Пирсона"
   ]
  },
  {
   "cell_type": "code",
   "execution_count": 434,
   "id": "cae2d92f-33a8-424a-a682-47b71723c566",
   "metadata": {},
   "outputs": [],
   "source": [
    "import numpy as np\n",
    "import pandas as pd\n",
    "import seaborn as sns\n",
    "import scipy.stats as st\n",
    "import math"
   ]
  },
  {
   "cell_type": "code",
   "execution_count": 472,
   "id": "32ec70c8-abc5-41a4-b6cb-346b65ab2ae4",
   "metadata": {},
   "outputs": [],
   "source": [
    "select1 = np.random.normal(0, 2.5, size=(100, 1))\n",
    "n = len(select1)\n",
    "df = pd.DataFrame(select1)\n",
    "mx = df.mean()[0]\n",
    "dx = df.var()[0]\n",
    "alpha = 0.05"
   ]
  },
  {
   "cell_type": "code",
   "execution_count": 436,
   "id": "76adc007-f3dc-49cb-b132-73b9648219a2",
   "metadata": {},
   "outputs": [],
   "source": [
    "intervals = np.arange(min(select1)[0] + abs(min(select1)[0] - max(select1)[0]) / 6, max(select1)[0] + abs(min(select1)[0] - max(select1)[0]) / 6, abs(min(select1)[0] - max(select1)[0]) / 6)"
   ]
  },
  {
   "cell_type": "code",
   "execution_count": 437,
   "id": "80162b40-f95b-486d-9cd6-def52c3aa566",
   "metadata": {},
   "outputs": [],
   "source": [
    "per = {i + 1: 0 for i in range(len(intervals))}\n",
    "for x in select1:\n",
    "    for i in range(len(intervals)):\n",
    "        if (x[0] < intervals[i]) or ((x[0] - intervals[i]) < 10**-10):\n",
    "            per[i + 1] += 1\n",
    "            break"
   ]
  },
  {
   "cell_type": "code",
   "execution_count": 438,
   "id": "c540962f-1be8-47ff-9838-8ebe01bf7372",
   "metadata": {},
   "outputs": [
    {
     "data": {
      "text/plain": [
       "{1: 4, 2: 8, 3: 29, 4: 29, 5: 23, 6: 7}"
      ]
     },
     "execution_count": 438,
     "metadata": {},
     "output_type": "execute_result"
    }
   ],
   "source": [
    "per"
   ]
  },
  {
   "cell_type": "markdown",
   "id": "545f8da6-a08a-45a4-8959-a2136656e39d",
   "metadata": {},
   "source": [
    "не пон"
   ]
  },
  {
   "cell_type": "code",
   "execution_count": 439,
   "id": "7fa18bc7-2fd7-4d44-af6b-015996cce403",
   "metadata": {},
   "outputs": [],
   "source": [
    "xi = [(min(select1)[0] + intervals[0]) / 2]\n",
    "for i in range(1, len(intervals)):\n",
    "    xi.append((intervals[i - 1] + intervals[i]) / 2)"
   ]
  },
  {
   "cell_type": "markdown",
   "id": "70d82203-4ca4-4d26-b16f-c186aae8a434",
   "metadata": {},
   "source": [
    "mx = 0\n",
    "for i in range(len(xi)):\n",
    "    mx += xi[i] * per[i + 1]\n",
    "mx / len(per)"
   ]
  },
  {
   "cell_type": "markdown",
   "id": "97a091ed-6673-4622-912a-99a9ee3dffa3",
   "metadata": {},
   "source": [
    "конец не пон"
   ]
  },
  {
   "cell_type": "markdown",
   "id": "726eecbf-d736-463c-a0d8-667345428adb",
   "metadata": {},
   "source": [
    "Из инета"
   ]
  },
  {
   "cell_type": "code",
   "execution_count": 440,
   "id": "007c7149-47c2-4f73-b77f-4dfa6386df29",
   "metadata": {},
   "outputs": [],
   "source": [
    "n_i = []\n",
    "h = abs(min(select1)[0] - max(select1)[0]) / 6\n",
    "for z in xi:\n",
    "    g = (z - mx) / (dx)**(1/2)\n",
    "    n_i.append((h*len(select1)/((dx)**(1/2))) * (1 / ((2*math.pi)**(1/2)) * math.exp(-g**2 / 2)))"
   ]
  },
  {
   "cell_type": "code",
   "execution_count": 441,
   "id": "7e7ff217-bd14-4793-906e-fe9a0c909530",
   "metadata": {},
   "outputs": [
    {
     "data": {
      "text/plain": [
       "[1.9790522783021678,\n",
       " 10.584497206772395,\n",
       " 27.20237598385057,\n",
       " 33.59441522279038,\n",
       " 19.936594369787894,\n",
       " 5.685366945364109]"
      ]
     },
     "execution_count": 441,
     "metadata": {},
     "output_type": "execute_result"
    }
   ],
   "source": [
    "n_i"
   ]
  },
  {
   "cell_type": "code",
   "execution_count": 442,
   "id": "8dc2aa15-95b6-413f-91f1-36d513003591",
   "metadata": {},
   "outputs": [
    {
     "data": {
      "text/plain": [
       "98.98230200686753"
      ]
     },
     "execution_count": 442,
     "metadata": {},
     "output_type": "execute_result"
    }
   ],
   "source": [
    "sum(n_i)"
   ]
  },
  {
   "cell_type": "code",
   "execution_count": 443,
   "id": "92caeea8-62bc-4f65-908e-1e05891d3c06",
   "metadata": {},
   "outputs": [],
   "source": [
    "s = 0\n",
    "for i in range(len(per)):\n",
    "    s += (per[i + 1] - n_i[i])**2 / n_i[i]"
   ]
  },
  {
   "cell_type": "code",
   "execution_count": 444,
   "id": "2b576c81-906c-46d4-9ace-3d684115f77c",
   "metadata": {},
   "outputs": [
    {
     "data": {
      "text/plain": [
       "4.216636439921708"
      ]
     },
     "execution_count": 444,
     "metadata": {},
     "output_type": "execute_result"
    }
   ],
   "source": [
    "s"
   ]
  },
  {
   "cell_type": "code",
   "execution_count": 445,
   "id": "931434fa-b69c-4251-b45b-784a487f5070",
   "metadata": {},
   "outputs": [],
   "source": [
    "k = len(per) - 2 - 1"
   ]
  },
  {
   "cell_type": "code",
   "execution_count": 446,
   "id": "db618ba9-df4b-4a33-93d3-6862e5eca103",
   "metadata": {},
   "outputs": [
    {
     "data": {
      "text/plain": [
       "7.814727903251179"
      ]
     },
     "execution_count": 446,
     "metadata": {},
     "output_type": "execute_result"
    }
   ],
   "source": [
    "st.chi2.ppf(1 - alpha, k)"
   ]
  },
  {
   "cell_type": "code",
   "execution_count": 447,
   "id": "5947677f-9191-4099-b6a5-3bf7e9985239",
   "metadata": {},
   "outputs": [
    {
     "data": {
      "text/plain": [
       "True"
      ]
     },
     "execution_count": 447,
     "metadata": {},
     "output_type": "execute_result"
    }
   ],
   "source": [
    "s < st.chi2.ppf(1 - alpha, k)"
   ]
  },
  {
   "cell_type": "markdown",
   "id": "698f84a9-0853-4052-ba35-ed82ad2cd321",
   "metadata": {},
   "source": [
    "Из лекций"
   ]
  },
  {
   "cell_type": "code",
   "execution_count": 133,
   "id": "93a09c03-eaa0-4fe2-aec8-b5a1d5b7f5f7",
   "metadata": {},
   "outputs": [],
   "source": [
    "sqrt_dx = dx**(1/2)\n",
    "p_i = [st.norm.cdf(intervals[0]) - st.norm.cdf(min(select1)[0])]\n",
    "for i in range(1, len(intervals)):\n",
    "    p_i.append(st.norm.cdf(intervals[i]) - st.norm.cdf(intervals[i - 1]))"
   ]
  },
  {
   "cell_type": "markdown",
   "id": "8ea0230b-2091-4ad2-8d6a-e6495f17a2f6",
   "metadata": {},
   "source": [
    "Почему инт функция Лапласа это стандартно нормальное распределение"
   ]
  },
  {
   "cell_type": "markdown",
   "id": "3fe616b4-b462-4c84-92ef-327f9b812a55",
   "metadata": {},
   "source": [
    "не пон"
   ]
  },
  {
   "cell_type": "code",
   "execution_count": 48,
   "id": "5e2ac0c1-b556-487f-9d28-37391d914e68",
   "metadata": {},
   "outputs": [
    {
     "data": {
      "text/plain": [
       "{1: 2, 2: 14, 3: 30, 4: 34, 5: 14, 6: 6}"
      ]
     },
     "execution_count": 48,
     "metadata": {},
     "output_type": "execute_result"
    }
   ],
   "source": [
    "per"
   ]
  },
  {
   "cell_type": "code",
   "execution_count": 130,
   "id": "f0efbba1-7374-464e-b910-def55a4868df",
   "metadata": {},
   "outputs": [
    {
     "data": {
      "text/plain": [
       "array([-3.5684493 , -1.65306052,  0.26232825,  2.17771703,  4.0931058 ,\n",
       "        6.00849458])"
      ]
     },
     "execution_count": 130,
     "metadata": {},
     "output_type": "execute_result"
    }
   ],
   "source": [
    "intervals"
   ]
  },
  {
   "cell_type": "code",
   "execution_count": 134,
   "id": "f4849388-3c17-4683-a464-a12ad85f3eef",
   "metadata": {},
   "outputs": [
    {
     "data": {
      "text/plain": [
       "[0.00017952935262493093,\n",
       " 0.048979723121223215,\n",
       " 0.554306535593661,\n",
       " 0.38182063592627513,\n",
       " 0.014692273527227129,\n",
       " 2.1280732931505675e-05]"
      ]
     },
     "execution_count": 134,
     "metadata": {},
     "output_type": "execute_result"
    }
   ],
   "source": [
    "p_i"
   ]
  },
  {
   "cell_type": "code",
   "execution_count": 135,
   "id": "fa6e8ff0-c520-41e7-bf4c-7bb03eef3f3f",
   "metadata": {},
   "outputs": [],
   "source": [
    "s = 0\n",
    "for i in range(len(per)):\n",
    "    s += (per[i + 1] - sum(per.values()) * p_i[i])**2 / (sum(per.values()) * p_i[i])"
   ]
  },
  {
   "cell_type": "code",
   "execution_count": 136,
   "id": "590ea87e-b8f8-4d1a-bb37-134c125b2e32",
   "metadata": {},
   "outputs": [
    {
     "data": {
      "text/plain": [
       "18423.693469767513"
      ]
     },
     "execution_count": 136,
     "metadata": {},
     "output_type": "execute_result"
    }
   ],
   "source": [
    "s"
   ]
  },
  {
   "cell_type": "markdown",
   "id": "102fc58e-781e-422b-bdc3-a41fee399a21",
   "metadata": {},
   "source": [
    "конец не пон"
   ]
  },
  {
   "cell_type": "code",
   "execution_count": null,
   "id": "07277b12-601b-4205-beed-cbaf6884c2a6",
   "metadata": {},
   "outputs": [],
   "source": []
  },
  {
   "cell_type": "code",
   "execution_count": 512,
   "id": "5941496d-f13f-460e-baf9-3bc09fb0d997",
   "metadata": {},
   "outputs": [],
   "source": [
    "select1 = np.random.normal(0, 2.5, size=(100, 1))\n",
    "n = len(select1)\n",
    "df = pd.DataFrame(select1)\n",
    "mx = df.mean()[0]\n",
    "dx = df.var()[0]**(1/2)\n",
    "alpha = 0.05"
   ]
  },
  {
   "cell_type": "code",
   "execution_count": 513,
   "id": "256e1515-4c67-4e56-acbc-94c03b94021f",
   "metadata": {},
   "outputs": [],
   "source": [
    "intervals = np.arange(min(select1)[0] + abs(min(select1)[0] - max(select1)[0]) / 10, max(select1)[0] + abs(min(select1)[0] - max(select1)[0]) / 10, abs(min(select1)[0] - max(select1)[0]) / 10)"
   ]
  },
  {
   "cell_type": "code",
   "execution_count": 514,
   "id": "46c47517-fdd5-426d-96fa-9142b3bef2b4",
   "metadata": {},
   "outputs": [],
   "source": [
    "per = {i + 1: 0 for i in range(len(intervals))}\n",
    "for x in select1:\n",
    "    for i in range(len(intervals)):\n",
    "        if (x[0] < intervals[i]) or ((x[0] - intervals[i]) < 10**-10):\n",
    "            per[i + 1] += 1\n",
    "            break"
   ]
  },
  {
   "cell_type": "code",
   "execution_count": 515,
   "id": "a8df7490-faa0-45b3-8748-885b473eae0b",
   "metadata": {},
   "outputs": [
    {
     "data": {
      "text/plain": [
       "{1: 7, 2: 12, 3: 17, 4: 15, 5: 12, 6: 13, 7: 9, 8: 8, 9: 5, 10: 2}"
      ]
     },
     "execution_count": 515,
     "metadata": {},
     "output_type": "execute_result"
    }
   ],
   "source": [
    "per"
   ]
  },
  {
   "cell_type": "code",
   "execution_count": 516,
   "id": "95ab3a0a-a57f-4abb-b4dd-af26a3bc0c56",
   "metadata": {},
   "outputs": [],
   "source": [
    "p = []\n",
    "for i in per:\n",
    "    p.append(per[i] / n)"
   ]
  },
  {
   "cell_type": "code",
   "execution_count": 517,
   "id": "0b1b1dd7-43d4-427a-b47c-fda40a434db3",
   "metadata": {
    "scrolled": true
   },
   "outputs": [
    {
     "data": {
      "text/plain": [
       "[0.07, 0.12, 0.17, 0.15, 0.12, 0.13, 0.09, 0.08, 0.05, 0.02]"
      ]
     },
     "execution_count": 517,
     "metadata": {},
     "output_type": "execute_result"
    }
   ],
   "source": [
    "p"
   ]
  },
  {
   "cell_type": "code",
   "execution_count": 518,
   "id": "8941bd08-7eab-4a99-a64d-3f3c9f977145",
   "metadata": {},
   "outputs": [],
   "source": [
    "xi = [(min(select1)[0] + intervals[0]) / 2]\n",
    "for i in range(1, len(intervals)):\n",
    "    xi.append((intervals[i - 1] + intervals[i]) / 2)"
   ]
  },
  {
   "cell_type": "code",
   "execution_count": 519,
   "id": "ae8f9b31-28a8-4e75-8c3d-12ba708190ce",
   "metadata": {},
   "outputs": [],
   "source": [
    "z = []\n",
    "for x in xi:\n",
    "    z.append((x - mx) / dx)"
   ]
  },
  {
   "cell_type": "code",
   "execution_count": 520,
   "id": "0a5246fc-1856-4427-a41b-c8eddd608cf4",
   "metadata": {},
   "outputs": [],
   "source": [
    "fi = []\n",
    "for zi in z:\n",
    "    fi.append(n * ((abs(min(select1)[0] - max(select1)[0]) / 10) / dx) * st.norm.pdf(zi))"
   ]
  },
  {
   "cell_type": "code",
   "execution_count": 521,
   "id": "645878e8-58f3-43bf-94d7-efa968edfc23",
   "metadata": {},
   "outputs": [
    {
     "data": {
      "text/plain": [
       "[4.642922269273793,\n",
       " 8.50657245351108,\n",
       " 12.937401082814203,\n",
       " 16.333103852257434,\n",
       " 17.11668463236241,\n",
       " 14.89017558401498,\n",
       " 10.752494602127726,\n",
       " 6.445370571106924,\n",
       " 3.207124317215462,\n",
       " 1.324685986404267]"
      ]
     },
     "execution_count": 521,
     "metadata": {},
     "output_type": "execute_result"
    }
   ],
   "source": [
    "fi"
   ]
  },
  {
   "cell_type": "code",
   "execution_count": 522,
   "id": "ee958f6b-35ec-4220-89e8-c00bbc7ed1e8",
   "metadata": {},
   "outputs": [
    {
     "data": {
      "text/plain": [
       "{1: 7, 2: 12, 3: 17, 4: 15, 5: 12, 6: 13, 7: 9, 8: 8, 9: 5, 10: 2}"
      ]
     },
     "execution_count": 522,
     "metadata": {},
     "output_type": "execute_result"
    }
   ],
   "source": [
    "per"
   ]
  },
  {
   "cell_type": "code",
   "execution_count": 523,
   "id": "aa9b5a11-83db-4860-b6c1-b2fc4cc7ba13",
   "metadata": {},
   "outputs": [],
   "source": [
    "k = len(per) - 3"
   ]
  },
  {
   "cell_type": "code",
   "execution_count": 524,
   "id": "8454f886-4cb6-486b-b6d4-9199dc33d710",
   "metadata": {},
   "outputs": [
    {
     "data": {
      "text/plain": [
       "7"
      ]
     },
     "execution_count": 524,
     "metadata": {},
     "output_type": "execute_result"
    }
   ],
   "source": [
    "k"
   ]
  },
  {
   "cell_type": "code",
   "execution_count": 533,
   "id": "88e8d238-2fc9-4f8b-b489-191bdab28dae",
   "metadata": {},
   "outputs": [],
   "source": [
    "s = 0\n",
    "for i in range(len(per)):\n",
    "    s += (per[i + 1] - fi[i])**2 / fi[i]"
   ]
  },
  {
   "cell_type": "code",
   "execution_count": 534,
   "id": "df8ca986-22c5-4e5d-8ac4-7e3f95d86699",
   "metadata": {},
   "outputs": [
    {
     "data": {
      "text/plain": [
       "7.792440936152712"
      ]
     },
     "execution_count": 534,
     "metadata": {},
     "output_type": "execute_result"
    }
   ],
   "source": [
    "s"
   ]
  },
  {
   "cell_type": "code",
   "execution_count": 527,
   "id": "d456d09f-280c-4089-ad8a-33f9e79c0f0b",
   "metadata": {},
   "outputs": [],
   "source": [
    "chi2_alpha = st.chi2.ppf(1 - alpha, k)"
   ]
  },
  {
   "cell_type": "code",
   "execution_count": 528,
   "id": "aab0966d-0688-466f-89a4-9a163574eb25",
   "metadata": {},
   "outputs": [
    {
     "data": {
      "text/plain": [
       "14.067140449340169"
      ]
     },
     "execution_count": 528,
     "metadata": {},
     "output_type": "execute_result"
    }
   ],
   "source": [
    "chi2_alpha"
   ]
  },
  {
   "cell_type": "code",
   "execution_count": 529,
   "id": "dd9dfec7-eba4-4298-9568-a86af250bbd2",
   "metadata": {},
   "outputs": [
    {
     "data": {
      "text/plain": [
       "True"
      ]
     },
     "execution_count": 529,
     "metadata": {},
     "output_type": "execute_result"
    }
   ],
   "source": [
    "s < chi2_alpha"
   ]
  },
  {
   "cell_type": "markdown",
   "id": "18542762-c0aa-4d41-81df-b6a4a219d2cc",
   "metadata": {},
   "source": [
    "как в лекции"
   ]
  },
  {
   "cell_type": "code",
   "execution_count": 535,
   "id": "42503579-0677-4fa8-b324-5fac6f077af0",
   "metadata": {},
   "outputs": [],
   "source": [
    "s = 0\n",
    "for i in range(len(per)):\n",
    "    s += (per[i + 1] - st.norm.pdf(z[i]))**2 / (n * z[i])"
   ]
  },
  {
   "cell_type": "code",
   "execution_count": 536,
   "id": "77d8a5a3-3b70-479a-952f-e46070c0c929",
   "metadata": {},
   "outputs": [
    {
     "data": {
      "text/plain": [
       "5.166754361554772"
      ]
     },
     "execution_count": 536,
     "metadata": {},
     "output_type": "execute_result"
    }
   ],
   "source": [
    "s"
   ]
  },
  {
   "cell_type": "code",
   "execution_count": 537,
   "id": "44b7f090-3f5b-4437-ba2c-31d4995b92f5",
   "metadata": {},
   "outputs": [
    {
     "data": {
      "text/plain": [
       "True"
      ]
     },
     "execution_count": 537,
     "metadata": {},
     "output_type": "execute_result"
    }
   ],
   "source": [
    "s < chi2_alpha"
   ]
  },
  {
   "cell_type": "markdown",
   "id": "e4b350f6-df4e-4e48-929b-717a1d6caf86",
   "metadata": {},
   "source": [
    "не норм распределение"
   ]
  },
  {
   "cell_type": "code",
   "execution_count": 603,
   "id": "d29fc4ac-e685-4cbd-893c-40a9a38c8dc2",
   "metadata": {},
   "outputs": [],
   "source": [
    "select1 = st.logistic.rvs(size=(100, 1))\n",
    "n = len(select1)\n",
    "df = pd.DataFrame(select1)\n",
    "mx = df.mean()[0]\n",
    "dx = df.var()[0]**(1/2)\n",
    "alpha = 0.05"
   ]
  },
  {
   "cell_type": "code",
   "execution_count": 604,
   "id": "1956300e-e92f-4597-95c2-fb22ccaf4228",
   "metadata": {},
   "outputs": [],
   "source": [
    "intervals = np.arange(min(select1)[0] + abs(min(select1)[0] - max(select1)[0]) / 10, max(select1)[0] + abs(min(select1)[0] - max(select1)[0]) / 10, abs(min(select1)[0] - max(select1)[0]) / 10)"
   ]
  },
  {
   "cell_type": "code",
   "execution_count": 605,
   "id": "5021aed5-5c12-4bca-8738-7d6f2358346b",
   "metadata": {},
   "outputs": [],
   "source": [
    "per = {i + 1: 0 for i in range(len(intervals))}\n",
    "for x in select1:\n",
    "    for i in range(len(intervals)):\n",
    "        if (x[0] < intervals[i]) or ((x[0] - intervals[i]) < 10**-10):\n",
    "            per[i + 1] += 1\n",
    "            break"
   ]
  },
  {
   "cell_type": "code",
   "execution_count": 606,
   "id": "faf88f6c-9540-4e96-955b-1554de424860",
   "metadata": {},
   "outputs": [
    {
     "data": {
      "text/plain": [
       "{1: 2, 2: 1, 3: 0, 4: 3, 5: 16, 6: 25, 7: 20, 8: 16, 9: 10, 10: 7}"
      ]
     },
     "execution_count": 606,
     "metadata": {},
     "output_type": "execute_result"
    }
   ],
   "source": [
    "per"
   ]
  },
  {
   "cell_type": "code",
   "execution_count": 607,
   "id": "cc99cf2f-7139-458a-b744-fc92859eb208",
   "metadata": {},
   "outputs": [],
   "source": [
    "xi = [(min(select1)[0] + intervals[0]) / 2]\n",
    "for i in range(1, len(intervals)):\n",
    "    xi.append((intervals[i - 1] + intervals[i]) / 2)"
   ]
  },
  {
   "cell_type": "code",
   "execution_count": 608,
   "id": "c4f578be-6809-44a3-b24d-0f712ec1f3ec",
   "metadata": {},
   "outputs": [],
   "source": [
    "z = []\n",
    "for x in xi:\n",
    "    z.append((x - mx) / dx)"
   ]
  },
  {
   "cell_type": "code",
   "execution_count": 609,
   "id": "15074f76-235a-4dbb-a9e4-607a54e472c5",
   "metadata": {},
   "outputs": [],
   "source": [
    "fi = []\n",
    "for zi in z:\n",
    "    fi.append(n * ((abs(min(select1)[0] - max(select1)[0]) / 10) / dx) * st.norm.pdf(zi))"
   ]
  },
  {
   "cell_type": "code",
   "execution_count": 610,
   "id": "96fea63f-044f-4e97-8aa1-9e5056aa596c",
   "metadata": {},
   "outputs": [
    {
     "data": {
      "text/plain": [
       "[0.1722082569559962,\n",
       " 0.8128104226024183,\n",
       " 2.8452059844403292,\n",
       " 7.386306409888697,\n",
       " 14.220998239172125,\n",
       " 20.3058887369424,\n",
       " 21.503199214025233,\n",
       " 16.887809108249964,\n",
       " 9.836321173273847,\n",
       " 4.248946345194766]"
      ]
     },
     "execution_count": 610,
     "metadata": {},
     "output_type": "execute_result"
    }
   ],
   "source": [
    "fi"
   ]
  },
  {
   "cell_type": "code",
   "execution_count": 611,
   "id": "b696b43a-2fad-435d-a2fd-175a7bf8411a",
   "metadata": {},
   "outputs": [],
   "source": [
    "k = len(per) - 3"
   ]
  },
  {
   "cell_type": "code",
   "execution_count": 612,
   "id": "0074794c-1fa2-465a-809e-7e2206498da3",
   "metadata": {},
   "outputs": [],
   "source": [
    "s = 0\n",
    "for i in range(len(per)):\n",
    "    s += (per[i + 1] - fi[i])**2 / fi[i]"
   ]
  },
  {
   "cell_type": "code",
   "execution_count": 613,
   "id": "62e763a8-bc6d-4cc2-bd0a-a225479e175d",
   "metadata": {},
   "outputs": [],
   "source": [
    "chi2_alpha = st.chi2.ppf(1 - alpha, k)"
   ]
  },
  {
   "cell_type": "code",
   "execution_count": 614,
   "id": "b7420f92-3251-49a8-ab3b-b26fc5d80e87",
   "metadata": {},
   "outputs": [
    {
     "data": {
      "text/plain": [
       "14.067140449340169"
      ]
     },
     "execution_count": 614,
     "metadata": {},
     "output_type": "execute_result"
    }
   ],
   "source": [
    "chi2_alpha"
   ]
  },
  {
   "cell_type": "code",
   "execution_count": 615,
   "id": "a6573c68-fa1c-4d89-b9fd-85222a022f52",
   "metadata": {},
   "outputs": [
    {
     "data": {
      "text/plain": [
       "28.13637238242327"
      ]
     },
     "execution_count": 615,
     "metadata": {},
     "output_type": "execute_result"
    }
   ],
   "source": [
    "s"
   ]
  },
  {
   "cell_type": "code",
   "execution_count": 616,
   "id": "7dbe402a-044f-45b1-808b-0e5086fd270f",
   "metadata": {},
   "outputs": [
    {
     "data": {
      "text/plain": [
       "False"
      ]
     },
     "execution_count": 616,
     "metadata": {},
     "output_type": "execute_result"
    }
   ],
   "source": [
    "s < chi2_alpha"
   ]
  },
  {
   "cell_type": "markdown",
   "id": "0d08b66f-52f0-48af-90b3-10e7859b39fa",
   "metadata": {},
   "source": [
    "как в лекции"
   ]
  },
  {
   "cell_type": "code",
   "execution_count": 617,
   "id": "7ef19713-d969-4afc-995e-179bd19ae754",
   "metadata": {},
   "outputs": [],
   "source": [
    "s = 0\n",
    "for i in range(len(per)):\n",
    "    s += (per[i + 1] - st.norm.pdf(z[i]))**2 / (n * z[i])"
   ]
  },
  {
   "cell_type": "code",
   "execution_count": 618,
   "id": "b9d95af8-19b0-418b-8c2c-2928d362e8e2",
   "metadata": {},
   "outputs": [
    {
     "data": {
      "text/plain": [
       "8.484783219274048"
      ]
     },
     "execution_count": 618,
     "metadata": {},
     "output_type": "execute_result"
    }
   ],
   "source": [
    "s"
   ]
  },
  {
   "cell_type": "code",
   "execution_count": 619,
   "id": "27a491af-29e9-4886-9607-5d188532aa63",
   "metadata": {},
   "outputs": [
    {
     "data": {
      "text/plain": [
       "True"
      ]
     },
     "execution_count": 619,
     "metadata": {},
     "output_type": "execute_result"
    }
   ],
   "source": [
    "s < chi2_alpha"
   ]
  },
  {
   "cell_type": "code",
   "execution_count": null,
   "id": "79f5b9f4-6f0b-4ef1-8507-7a878bc9c616",
   "metadata": {},
   "outputs": [],
   "source": []
  }
 ],
 "metadata": {
  "kernelspec": {
   "display_name": "Python 3 (ipykernel)",
   "language": "python",
   "name": "python3"
  },
  "language_info": {
   "codemirror_mode": {
    "name": "ipython",
    "version": 3
   },
   "file_extension": ".py",
   "mimetype": "text/x-python",
   "name": "python",
   "nbconvert_exporter": "python",
   "pygments_lexer": "ipython3",
   "version": "3.12.4"
  }
 },
 "nbformat": 4,
 "nbformat_minor": 5
}
