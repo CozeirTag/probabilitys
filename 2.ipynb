{
 "cells": [
  {
   "cell_type": "code",
   "execution_count": 58,
   "id": "1028e26c-fe37-430b-b42e-02fd92afc5c8",
   "metadata": {},
   "outputs": [],
   "source": [
    "import numpy as np\n",
    "import pandas as pd\n",
    "import seaborn as sns\n",
    "import scipy.stats as st"
   ]
  },
  {
   "cell_type": "code",
   "execution_count": 2,
   "id": "e1ebba54-299f-46fc-b0da-0e930c11ad73",
   "metadata": {},
   "outputs": [],
   "source": [
    "mx = 0\n",
    "mistakes = []"
   ]
  },
  {
   "cell_type": "code",
   "execution_count": 3,
   "id": "808627a2-585c-4ed8-b052-943d77355bba",
   "metadata": {},
   "outputs": [],
   "source": [
    "for i in range(1000):\n",
    "    select = np.random.normal(0, 2.5, size=(10, 1))\n",
    "    mistakes.append(select.mean() - mx)"
   ]
  },
  {
   "cell_type": "code",
   "execution_count": 4,
   "id": "c8763931-11fe-44ca-96cc-ca19780b9878",
   "metadata": {},
   "outputs": [],
   "source": [
    "d = pd.DataFrame(mistakes)"
   ]
  },
  {
   "cell_type": "code",
   "execution_count": 14,
   "id": "d440d89e-3ef4-4825-ade3-83be6d73209b",
   "metadata": {},
   "outputs": [
    {
     "data": {
      "text/html": [
       "<div>\n",
       "<style scoped>\n",
       "    .dataframe tbody tr th:only-of-type {\n",
       "        vertical-align: middle;\n",
       "    }\n",
       "\n",
       "    .dataframe tbody tr th {\n",
       "        vertical-align: top;\n",
       "    }\n",
       "\n",
       "    .dataframe thead th {\n",
       "        text-align: right;\n",
       "    }\n",
       "</style>\n",
       "<table border=\"1\" class=\"dataframe\">\n",
       "  <thead>\n",
       "    <tr style=\"text-align: right;\">\n",
       "      <th></th>\n",
       "      <th>0</th>\n",
       "    </tr>\n",
       "  </thead>\n",
       "  <tbody>\n",
       "    <tr>\n",
       "      <th>1.0</th>\n",
       "      <td>2.783381</td>\n",
       "    </tr>\n",
       "  </tbody>\n",
       "</table>\n",
       "</div>"
      ],
      "text/plain": [
       "            0\n",
       "1.0  2.783381"
      ]
     },
     "execution_count": 14,
     "metadata": {},
     "output_type": "execute_result"
    }
   ],
   "source": [
    "d.quantile([0.9999999])"
   ]
  },
  {
   "cell_type": "code",
   "execution_count": 38,
   "id": "5740efe3-2501-4bab-a138-7267d8e53117",
   "metadata": {},
   "outputs": [],
   "source": [
    "xar = d.var()[0]**(1/2)"
   ]
  },
  {
   "cell_type": "code",
   "execution_count": 39,
   "id": "d995ead3-6eec-4e76-854c-468b4040b5d7",
   "metadata": {},
   "outputs": [
    {
     "data": {
      "text/plain": [
       "0.7745918074489389"
      ]
     },
     "execution_count": 39,
     "metadata": {},
     "output_type": "execute_result"
    }
   ],
   "source": [
    "xar"
   ]
  },
  {
   "cell_type": "code",
   "execution_count": 40,
   "id": "3d757310-fba7-47e9-8629-379f4f8f0c79",
   "metadata": {},
   "outputs": [],
   "source": [
    "x_ch = d.mean()[0]"
   ]
  },
  {
   "cell_type": "code",
   "execution_count": 42,
   "id": "cc199d4f-7e57-42e1-aced-8c7f9c31296d",
   "metadata": {},
   "outputs": [
    {
     "data": {
      "text/plain": [
       "-0.0006303613653299465"
      ]
     },
     "execution_count": 42,
     "metadata": {},
     "output_type": "execute_result"
    }
   ],
   "source": [
    "x_ch"
   ]
  },
  {
   "cell_type": "code",
   "execution_count": 120,
   "id": "a8de1ae0-9488-4635-a729-bc65e657b5b7",
   "metadata": {},
   "outputs": [],
   "source": [
    "alpha = 0.05"
   ]
  },
  {
   "cell_type": "code",
   "execution_count": 121,
   "id": "1c7a969b-4b55-414e-9fd9-3b09fbcfc7e9",
   "metadata": {},
   "outputs": [],
   "source": [
    "left = x_ch - ((xar * st.t.ppf(1 - alpha / 2, len(d) - 1)) / ((len(d) - 1)**(1/2)))\n",
    "right = x_ch + ((xar * st.t.ppf(1 - alpha / 2, len(d) - 1)) / ((len(d) - 1)**(1/2)))"
   ]
  },
  {
   "cell_type": "code",
   "execution_count": 122,
   "id": "ac222955-788f-41d6-b0fa-1cf0164ed5b0",
   "metadata": {},
   "outputs": [
    {
     "name": "stdout",
     "output_type": "stream",
     "text": [
      "0.16644687112257028  < a <  0.40477442780428985\n"
     ]
    }
   ],
   "source": [
    "print(left ,' < a < ', right)"
   ]
  },
  {
   "cell_type": "code",
   "execution_count": 123,
   "id": "e2ee95dc-b04a-4f79-bafb-8604048bee3e",
   "metadata": {},
   "outputs": [
    {
     "data": {
      "text/plain": [
       "1.9623414611334487"
      ]
     },
     "execution_count": 123,
     "metadata": {},
     "output_type": "execute_result"
    }
   ],
   "source": [
    "st.t.ppf(1 - alpha / 2, len(d) - 1)"
   ]
  },
  {
   "cell_type": "code",
   "execution_count": 124,
   "id": "c6e48a4f-a2b1-4af0-9eba-7c662d7d9b78",
   "metadata": {},
   "outputs": [],
   "source": [
    "left = (xar * len(d)**(1/2)) / (st.chi2.ppf(1 - alpha / 2, len(d) - 1))\n",
    "right = (xar * len(d)**(1/2)) / (st.chi2.ppf(alpha / 2, len(d) - 1))"
   ]
  },
  {
   "cell_type": "code",
   "execution_count": 125,
   "id": "c06987cf-4585-4a82-a7de-591b47114c2c",
   "metadata": {},
   "outputs": [
    {
     "name": "stdout",
     "output_type": "stream",
     "text": [
      "0.05576082050206758  < sigma <  0.06645665789824343\n"
     ]
    }
   ],
   "source": [
    "print(left ,' < sigma < ', right)"
   ]
  },
  {
   "cell_type": "code",
   "execution_count": 92,
   "id": "a2ab2fda-81e3-4bca-840e-ddc547f0373e",
   "metadata": {
    "scrolled": true
   },
   "outputs": [],
   "source": [
    "logic = st.logistic.rvs(size=(100, 1))"
   ]
  },
  {
   "cell_type": "code",
   "execution_count": 126,
   "id": "d17e5913-66e1-4da3-9567-eec05d0f19f2",
   "metadata": {},
   "outputs": [],
   "source": [
    "alpha = 0.05"
   ]
  },
  {
   "cell_type": "code",
   "execution_count": 127,
   "id": "ce01c81e-9913-4431-a425-ea63acd8e5b3",
   "metadata": {},
   "outputs": [],
   "source": [
    "x_ch = logic.mean()"
   ]
  },
  {
   "cell_type": "code",
   "execution_count": 135,
   "id": "66098069-8a27-4457-8b4e-6fd586651359",
   "metadata": {},
   "outputs": [
    {
     "data": {
      "text/plain": [
       "0.28561064946343007"
      ]
     },
     "execution_count": 135,
     "metadata": {},
     "output_type": "execute_result"
    }
   ],
   "source": [
    "x_ch"
   ]
  },
  {
   "cell_type": "code",
   "execution_count": 128,
   "id": "020b648b-72b6-41d9-ae44-214535444f14",
   "metadata": {},
   "outputs": [],
   "source": [
    "xar = logic.var()**(1/2)"
   ]
  },
  {
   "cell_type": "code",
   "execution_count": 129,
   "id": "7b244b23-a83d-46d8-8045-e2368225b386",
   "metadata": {},
   "outputs": [],
   "source": [
    "left = x_ch - ((xar * st.norm.ppf(1 - alpha / 2)) / (len(logic)**(1/2)))\n",
    "right = x_ch + ((xar * st.norm.ppf(1 - alpha / 2)) / (len(logic)**(1/2)))"
   ]
  },
  {
   "cell_type": "code",
   "execution_count": 130,
   "id": "d13dd07a-5d7c-4282-a33c-1d44b6f88228",
   "metadata": {},
   "outputs": [
    {
     "name": "stdout",
     "output_type": "stream",
     "text": [
      "-0.090573523947381  < a <  0.6617948228742412\n"
     ]
    }
   ],
   "source": [
    "print(left, ' < a < ', right)"
   ]
  },
  {
   "cell_type": "code",
   "execution_count": 131,
   "id": "f95b4cf6-a757-4189-a8f8-bbe01c0d4653",
   "metadata": {},
   "outputs": [],
   "source": [
    "e = st.moment(logic, order=4, center=x_ch)[0]"
   ]
  },
  {
   "cell_type": "code",
   "execution_count": 132,
   "id": "6c2f6425-f311-4c6f-b2b4-3eeeece8cb56",
   "metadata": {},
   "outputs": [
    {
     "data": {
      "text/plain": [
       "69.70193737430002"
      ]
     },
     "execution_count": 132,
     "metadata": {},
     "output_type": "execute_result"
    }
   ],
   "source": [
    "e"
   ]
  },
  {
   "cell_type": "code",
   "execution_count": 133,
   "id": "39ddbeae-14e8-47c8-bc3e-85b59f547ce2",
   "metadata": {},
   "outputs": [],
   "source": [
    "left = xar * (1 - (1/2) * st.norm.ppf(1 - alpha / 2) * ((e + 2) / len(logic)))\n",
    "right = xar * (1 + (1/2) * st.norm.ppf(1 - alpha / 2) * ((e + 2) / len(logic)))"
   ]
  },
  {
   "cell_type": "code",
   "execution_count": 134,
   "id": "0463ac2b-9ebe-4735-bd07-f58a56191600",
   "metadata": {},
   "outputs": [
    {
     "name": "stdout",
     "output_type": "stream",
     "text": [
      "0.5706855734074944  < sigma <  3.2679989777179737\n"
     ]
    }
   ],
   "source": [
    "print(left, ' < sigma < ', right)"
   ]
  },
  {
   "cell_type": "markdown",
   "id": "55643667-7d9e-42a9-896b-97457072aadf",
   "metadata": {},
   "source": [
    "# Критерий Пирсона"
   ]
  },
  {
   "cell_type": "code",
   "execution_count": 99,
   "id": "cae2d92f-33a8-424a-a682-47b71723c566",
   "metadata": {},
   "outputs": [
    {
     "data": {
      "text/plain": [
       "9.487729036781154"
      ]
     },
     "execution_count": 99,
     "metadata": {},
     "output_type": "execute_result"
    }
   ],
   "source": [
    "import numpy as np\n",
    "import pandas as pd\n",
    "import seaborn as sns\n",
    "import scipy.stats as st\n",
    "import math\n",
    "st.chi2.ppf(1 - alpha, 4)"
   ]
  },
  {
   "cell_type": "code",
   "execution_count": 78,
   "id": "32ec70c8-abc5-41a4-b6cb-346b65ab2ae4",
   "metadata": {},
   "outputs": [],
   "source": [
    "select1 = np.random.normal(0, 2.5, size=(100, 1))\n",
    "df = pd.DataFrame(select1)\n",
    "mx = df.mean()[0]\n",
    "dx = df.var()[0]\n",
    "alpha = 0.05"
   ]
  },
  {
   "cell_type": "code",
   "execution_count": 79,
   "id": "76adc007-f3dc-49cb-b132-73b9648219a2",
   "metadata": {},
   "outputs": [],
   "source": [
    "intervals = np.arange(min(select1)[0] + abs(min(select1)[0] - max(select1)[0]) / 6, max(select1)[0] + abs(min(select1)[0] - max(select1)[0]) / 6, abs(min(select1)[0] - max(select1)[0]) / 6)"
   ]
  },
  {
   "cell_type": "code",
   "execution_count": 80,
   "id": "80162b40-f95b-486d-9cd6-def52c3aa566",
   "metadata": {},
   "outputs": [],
   "source": [
    "per = {i + 1: 0 for i in range(len(intervals))}\n",
    "for x in select1:\n",
    "    for i in range(len(intervals)):\n",
    "        if x < intervals[i]:\n",
    "            per[i + 1] += 1\n",
    "            break"
   ]
  },
  {
   "cell_type": "markdown",
   "id": "545f8da6-a08a-45a4-8959-a2136656e39d",
   "metadata": {},
   "source": [
    "не пон"
   ]
  },
  {
   "cell_type": "code",
   "execution_count": 65,
   "id": "7fa18bc7-2fd7-4d44-af6b-015996cce403",
   "metadata": {},
   "outputs": [],
   "source": [
    "xi = [(min(select1)[0] + intervals[0]) / 2]\n",
    "for i in range(1, len(intervals)):\n",
    "    xi.append((intervals[i - 1] + intervals[i]) / 2)"
   ]
  },
  {
   "cell_type": "code",
   "execution_count": 67,
   "id": "8b52ce7b-ce48-4b62-b6cc-3fba7fb9025e",
   "metadata": {},
   "outputs": [
    {
     "data": {
      "text/plain": [
       "1.0668360101784924"
      ]
     },
     "execution_count": 67,
     "metadata": {},
     "output_type": "execute_result"
    }
   ],
   "source": [
    "mx = 0\n",
    "for i in range(len(xi)):\n",
    "    mx += xi[i] * per[i + 1]\n",
    "mx / len(per)"
   ]
  },
  {
   "cell_type": "markdown",
   "id": "97a091ed-6673-4622-912a-99a9ee3dffa3",
   "metadata": {},
   "source": [
    "конец не пон"
   ]
  },
  {
   "cell_type": "markdown",
   "id": "726eecbf-d736-463c-a0d8-667345428adb",
   "metadata": {},
   "source": [
    "Из инета"
   ]
  },
  {
   "cell_type": "code",
   "execution_count": 118,
   "id": "007c7149-47c2-4f73-b77f-4dfa6386df29",
   "metadata": {},
   "outputs": [],
   "source": [
    "n_i = []\n",
    "h = abs(min(select1)[0] - max(select1)[0]) / 6\n",
    "for z in xi:\n",
    "    g = (z - mx) / (dx)**(1/2)\n",
    "    n_i.append((h*100/((dx)**(1/2))) * (1 / ((2*math.pi)**(1/2)) * math.exp(-g**2 / 2)))"
   ]
  },
  {
   "cell_type": "code",
   "execution_count": 121,
   "id": "7e7ff217-bd14-4793-906e-fe9a0c909530",
   "metadata": {},
   "outputs": [
    {
     "data": {
      "text/plain": [
       "[7.116385642478968,\n",
       " 20.127617884841335,\n",
       " 30.868375892920955,\n",
       " 25.66987054099397,\n",
       " 11.575028627971552,\n",
       " 2.8301468213135164]"
      ]
     },
     "execution_count": 121,
     "metadata": {},
     "output_type": "execute_result"
    }
   ],
   "source": [
    "n_i"
   ]
  },
  {
   "cell_type": "code",
   "execution_count": 122,
   "id": "8dc2aa15-95b6-413f-91f1-36d513003591",
   "metadata": {},
   "outputs": [
    {
     "data": {
      "text/plain": [
       "98.18742541052029"
      ]
     },
     "execution_count": 122,
     "metadata": {},
     "output_type": "execute_result"
    }
   ],
   "source": [
    "sum(n_i)"
   ]
  },
  {
   "cell_type": "code",
   "execution_count": 123,
   "id": "92caeea8-62bc-4f65-908e-1e05891d3c06",
   "metadata": {},
   "outputs": [],
   "source": [
    "s = 0\n",
    "for i in range(len(per)):\n",
    "    s += (per[i + 1] - n_i[i])**2 / n_i[i]"
   ]
  },
  {
   "cell_type": "code",
   "execution_count": 124,
   "id": "2b576c81-906c-46d4-9ace-3d684115f77c",
   "metadata": {},
   "outputs": [
    {
     "data": {
      "text/plain": [
       "5.273814897140496"
      ]
     },
     "execution_count": 124,
     "metadata": {},
     "output_type": "execute_result"
    }
   ],
   "source": [
    "s"
   ]
  },
  {
   "cell_type": "code",
   "execution_count": 125,
   "id": "931434fa-b69c-4251-b45b-784a487f5070",
   "metadata": {},
   "outputs": [],
   "source": [
    "k = len(per) - 2 - 1"
   ]
  },
  {
   "cell_type": "code",
   "execution_count": 126,
   "id": "db618ba9-df4b-4a33-93d3-6862e5eca103",
   "metadata": {},
   "outputs": [
    {
     "data": {
      "text/plain": [
       "7.814727903251179"
      ]
     },
     "execution_count": 126,
     "metadata": {},
     "output_type": "execute_result"
    }
   ],
   "source": [
    "st.chi2.ppf(1 - alpha, k)"
   ]
  },
  {
   "cell_type": "code",
   "execution_count": 127,
   "id": "5947677f-9191-4099-b6a5-3bf7e9985239",
   "metadata": {},
   "outputs": [
    {
     "data": {
      "text/plain": [
       "True"
      ]
     },
     "execution_count": 127,
     "metadata": {},
     "output_type": "execute_result"
    }
   ],
   "source": [
    "s < st.chi2.ppf(1 - alpha, k)"
   ]
  },
  {
   "cell_type": "markdown",
   "id": "698f84a9-0853-4052-ba35-ed82ad2cd321",
   "metadata": {},
   "source": [
    "Из лекций"
   ]
  },
  {
   "cell_type": "code",
   "execution_count": 133,
   "id": "93a09c03-eaa0-4fe2-aec8-b5a1d5b7f5f7",
   "metadata": {},
   "outputs": [],
   "source": [
    "sqrt_dx = dx**(1/2)\n",
    "p_i = [st.norm.cdf(intervals[0]) - st.norm.cdf(min(select1)[0])]\n",
    "for i in range(1, len(intervals)):\n",
    "    p_i.append(st.norm.cdf(intervals[i]) - st.norm.cdf(intervals[i - 1]))"
   ]
  },
  {
   "cell_type": "markdown",
   "id": "8ea0230b-2091-4ad2-8d6a-e6495f17a2f6",
   "metadata": {},
   "source": [
    "Почему инт функция Лапласа это стандартно нормальное распределение"
   ]
  },
  {
   "cell_type": "markdown",
   "id": "3fe616b4-b462-4c84-92ef-327f9b812a55",
   "metadata": {},
   "source": [
    "не пон"
   ]
  },
  {
   "cell_type": "code",
   "execution_count": 129,
   "id": "5e2ac0c1-b556-487f-9d28-37391d914e68",
   "metadata": {},
   "outputs": [
    {
     "data": {
      "text/plain": [
       "{1: 5, 2: 20, 3: 35, 4: 22, 5: 12, 6: 6}"
      ]
     },
     "execution_count": 129,
     "metadata": {},
     "output_type": "execute_result"
    }
   ],
   "source": [
    "per"
   ]
  },
  {
   "cell_type": "code",
   "execution_count": 130,
   "id": "f0efbba1-7374-464e-b910-def55a4868df",
   "metadata": {},
   "outputs": [
    {
     "data": {
      "text/plain": [
       "array([-3.5684493 , -1.65306052,  0.26232825,  2.17771703,  4.0931058 ,\n",
       "        6.00849458])"
      ]
     },
     "execution_count": 130,
     "metadata": {},
     "output_type": "execute_result"
    }
   ],
   "source": [
    "intervals"
   ]
  },
  {
   "cell_type": "code",
   "execution_count": 134,
   "id": "f4849388-3c17-4683-a464-a12ad85f3eef",
   "metadata": {},
   "outputs": [
    {
     "data": {
      "text/plain": [
       "[0.00017952935262493093,\n",
       " 0.048979723121223215,\n",
       " 0.554306535593661,\n",
       " 0.38182063592627513,\n",
       " 0.014692273527227129,\n",
       " 2.1280732931505675e-05]"
      ]
     },
     "execution_count": 134,
     "metadata": {},
     "output_type": "execute_result"
    }
   ],
   "source": [
    "p_i"
   ]
  },
  {
   "cell_type": "code",
   "execution_count": 135,
   "id": "fa6e8ff0-c520-41e7-bf4c-7bb03eef3f3f",
   "metadata": {},
   "outputs": [],
   "source": [
    "s = 0\n",
    "for i in range(len(per)):\n",
    "    s += (per[i + 1] - sum(per.values()) * p_i[i])**2 / (sum(per.values()) * p_i[i])"
   ]
  },
  {
   "cell_type": "code",
   "execution_count": 136,
   "id": "590ea87e-b8f8-4d1a-bb37-134c125b2e32",
   "metadata": {},
   "outputs": [
    {
     "data": {
      "text/plain": [
       "18423.693469767513"
      ]
     },
     "execution_count": 136,
     "metadata": {},
     "output_type": "execute_result"
    }
   ],
   "source": [
    "s"
   ]
  },
  {
   "cell_type": "markdown",
   "id": "102fc58e-781e-422b-bdc3-a41fee399a21",
   "metadata": {},
   "source": [
    "конец не пон"
   ]
  },
  {
   "cell_type": "code",
   "execution_count": null,
   "id": "721d1fde-f9ad-4582-a0da-2866339b8bfd",
   "metadata": {},
   "outputs": [],
   "source": []
  }
 ],
 "metadata": {
  "kernelspec": {
   "display_name": "Python 3 (ipykernel)",
   "language": "python",
   "name": "python3"
  },
  "language_info": {
   "codemirror_mode": {
    "name": "ipython",
    "version": 3
   },
   "file_extension": ".py",
   "mimetype": "text/x-python",
   "name": "python",
   "nbconvert_exporter": "python",
   "pygments_lexer": "ipython3",
   "version": "3.12.4"
  }
 },
 "nbformat": 4,
 "nbformat_minor": 5
}
