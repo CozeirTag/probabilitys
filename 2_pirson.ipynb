{
 "cells": [
  {
   "cell_type": "code",
   "execution_count": 594,
   "id": "6c2ca61a-9630-4fb2-9d5f-1e797c01a6e2",
   "metadata": {},
   "outputs": [],
   "source": [
    "import numpy as np\n",
    "import pandas as pd\n",
    "import seaborn as sns\n",
    "import scipy.stats as st\n",
    "import math"
   ]
  },
  {
   "cell_type": "code",
   "execution_count": 595,
   "id": "0d06e288-77f4-4d46-b079-c99c02b9b812",
   "metadata": {},
   "outputs": [],
   "source": [
    "select = st.norm.rvs(size=1000, loc=3, scale=2)\n",
    "n = len(select)\n",
    "df = pd.DataFrame(select)\n",
    "mx = df.mean()[0]\n",
    "dx = df.var()[0]**(1/2)\n",
    "alpha = 0.05"
   ]
  },
  {
   "cell_type": "code",
   "execution_count": 596,
   "id": "0c823693-a2c2-4c4e-a58c-17f40a9f0c38",
   "metadata": {},
   "outputs": [],
   "source": [
    "k = 1 + int(1.78 * (len(select))**(1/3))"
   ]
  },
  {
   "cell_type": "code",
   "execution_count": 597,
   "id": "54b67c09-76bf-4e82-ad4a-6c08da23db3b",
   "metadata": {},
   "outputs": [
    {
     "data": {
      "text/plain": [
       "18"
      ]
     },
     "execution_count": 597,
     "metadata": {},
     "output_type": "execute_result"
    }
   ],
   "source": [
    "k"
   ]
  },
  {
   "cell_type": "code",
   "execution_count": 598,
   "id": "fd2c55b7-f441-4472-8e06-5e6005403002",
   "metadata": {},
   "outputs": [],
   "source": [
    "intervals = np.arange(min(select), max(select), abs(min(select) - max(select)) / k)"
   ]
  },
  {
   "cell_type": "code",
   "execution_count": 599,
   "id": "a370b13e-f7e1-4f6f-9b33-ad9e41cdc808",
   "metadata": {},
   "outputs": [
    {
     "data": {
      "text/plain": [
       "array([-5.83458802, -5.01783839, -4.20108877, -3.38433915, -2.56758952,\n",
       "       -1.7508399 , -0.93409028, -0.11734066,  0.69940897,  1.51615859,\n",
       "        2.33290821,  3.14965784,  3.96640746,  4.78315708,  5.5999067 ,\n",
       "        6.41665633,  7.23340595,  8.05015557])"
      ]
     },
     "execution_count": 599,
     "metadata": {},
     "output_type": "execute_result"
    }
   ],
   "source": [
    "intervals"
   ]
  },
  {
   "cell_type": "code",
   "execution_count": 600,
   "id": "fd31cd33-ff82-48b3-8923-38b8950bb3a9",
   "metadata": {},
   "outputs": [
    {
     "data": {
      "text/plain": [
       "(-5.834588015458953, 8.050155572215964)"
      ]
     },
     "execution_count": 600,
     "metadata": {},
     "output_type": "execute_result"
    }
   ],
   "source": [
    "min(intervals), max(intervals)"
   ]
  },
  {
   "cell_type": "code",
   "execution_count": 601,
   "id": "15e4c18d-9041-4aae-ad6f-9a2fe612efcd",
   "metadata": {},
   "outputs": [],
   "source": [
    "p = [st.norm.cdf(intervals[0], loc=mx, scale=dx) - st.norm.cdf(min(select), loc=mx, scale=dx)]\n",
    "for i in range(1, len(intervals)):\n",
    "    p.append(st.norm.cdf(intervals[i], loc=mx, scale=dx) - st.norm.cdf(intervals[i - 1], loc=mx, scale=dx))"
   ]
  },
  {
   "cell_type": "code",
   "execution_count": 602,
   "id": "b51b3268-aeab-4f41-8bef-afaabc099bf4",
   "metadata": {},
   "outputs": [
    {
     "data": {
      "text/plain": [
       "[0.0,\n",
       " 2.8655206076828158e-05,\n",
       " 0.00013756134186870996,\n",
       " 0.0005640898446464674,\n",
       " 0.0019759539402620457,\n",
       " 0.005912868284704796,\n",
       " 0.015115656645150456,\n",
       " 0.033012320728668956,\n",
       " 0.06159652328984657,\n",
       " 0.09819204262322817,\n",
       " 0.13373437224200807,\n",
       " 0.15561839499524577,\n",
       " 0.1547149113105959,\n",
       " 0.13141855296933702,\n",
       " 0.09537445603903172,\n",
       " 0.059136239022465786,\n",
       " 0.03132670342005228,\n",
       " 0.014177709063306176]"
      ]
     },
     "execution_count": 602,
     "metadata": {},
     "output_type": "execute_result"
    }
   ],
   "source": [
    "p"
   ]
  },
  {
   "cell_type": "code",
   "execution_count": 603,
   "id": "7e9d2d6c-2592-47e0-8c2b-a0b212f51e06",
   "metadata": {},
   "outputs": [],
   "source": [
    "per = {i: 0 for i in range(len(intervals))}\n",
    "for x in select:\n",
    "    for i in range(len(intervals)):\n",
    "        if (x < intervals[i]) or ((x - intervals[i]) < 10**-10):\n",
    "            per[i] += 1\n",
    "            break"
   ]
  },
  {
   "cell_type": "code",
   "execution_count": 604,
   "id": "d0ce009e-8773-456c-9a33-0133731e12df",
   "metadata": {},
   "outputs": [
    {
     "data": {
      "text/plain": [
       "{0: 1,\n",
       " 1: 0,\n",
       " 2: 1,\n",
       " 3: 0,\n",
       " 4: 1,\n",
       " 5: 3,\n",
       " 6: 16,\n",
       " 7: 37,\n",
       " 8: 65,\n",
       " 9: 96,\n",
       " 10: 133,\n",
       " 11: 144,\n",
       " 12: 148,\n",
       " 13: 135,\n",
       " 14: 103,\n",
       " 15: 66,\n",
       " 16: 36,\n",
       " 17: 12}"
      ]
     },
     "execution_count": 604,
     "metadata": {},
     "output_type": "execute_result"
    }
   ],
   "source": [
    "per"
   ]
  },
  {
   "cell_type": "code",
   "execution_count": 605,
   "id": "e094a4e1-96a3-4efd-aab0-ed0f1dc66115",
   "metadata": {},
   "outputs": [
    {
     "data": {
      "text/plain": [
       "18"
      ]
     },
     "execution_count": 605,
     "metadata": {},
     "output_type": "execute_result"
    }
   ],
   "source": [
    "len(intervals)"
   ]
  },
  {
   "cell_type": "code",
   "execution_count": 606,
   "id": "f6d6b574-d8e3-4fff-a412-315070d22f81",
   "metadata": {},
   "outputs": [],
   "source": [
    "for i in range(len(intervals)):\n",
    "    if n * p[i] < 5:\n",
    "        if i == 0:\n",
    "            intervals[i] = 0\n",
    "        elif i + 1 == len(intervals):\n",
    "            intervals[i - 1] = 0\n",
    "        else:\n",
    "            min_per = list(per.values()).index(min(per[i - 1], per[i + 1]))\n",
    "            if min_per < i:\n",
    "                intervals[i - 1] = 0\n",
    "            else:\n",
    "                intervals[i] = 0"
   ]
  },
  {
   "cell_type": "code",
   "execution_count": 607,
   "id": "613363ce-4c31-4b48-adfe-5ac461fa41d1",
   "metadata": {},
   "outputs": [
    {
     "data": {
      "text/plain": [
       "array([ 0.        ,  0.        ,  0.        ,  0.        , -2.56758952,\n",
       "       -1.7508399 , -0.93409028, -0.11734066,  0.69940897,  1.51615859,\n",
       "        2.33290821,  3.14965784,  3.96640746,  4.78315708,  5.5999067 ,\n",
       "        6.41665633,  7.23340595,  8.05015557])"
      ]
     },
     "execution_count": 607,
     "metadata": {},
     "output_type": "execute_result"
    }
   ],
   "source": [
    "intervals"
   ]
  },
  {
   "cell_type": "code",
   "execution_count": 608,
   "id": "47ef2e2f-2302-4c28-aa2f-b7cc0ff9b194",
   "metadata": {},
   "outputs": [
    {
     "data": {
      "text/plain": [
       "array([-2.56758952, -1.7508399 , -0.93409028, -0.11734066,  0.69940897,\n",
       "        1.51615859,  2.33290821,  3.14965784,  3.96640746,  4.78315708,\n",
       "        5.5999067 ,  6.41665633,  7.23340595,  8.05015557])"
      ]
     },
     "execution_count": 608,
     "metadata": {},
     "output_type": "execute_result"
    }
   ],
   "source": [
    "intervals = np.delete(intervals, np.where(intervals == 0))\n",
    "intervals"
   ]
  },
  {
   "cell_type": "code",
   "execution_count": 609,
   "id": "50a5ca03-1da5-4cb5-8bfe-6488723e5639",
   "metadata": {},
   "outputs": [],
   "source": [
    "per = {i + 1: 0 for i in range(len(intervals))}\n",
    "for x in select:\n",
    "    for i in range(len(intervals)):\n",
    "        if (x < intervals[i]) or ((x - intervals[i]) < 10**-10):\n",
    "            per[i + 1] += 1\n",
    "            break"
   ]
  },
  {
   "cell_type": "code",
   "execution_count": 610,
   "id": "a33894be-a948-4dca-bd09-3bd9f6fbc79e",
   "metadata": {},
   "outputs": [
    {
     "data": {
      "text/plain": [
       "{1: 3,\n",
       " 2: 3,\n",
       " 3: 16,\n",
       " 4: 37,\n",
       " 5: 65,\n",
       " 6: 96,\n",
       " 7: 133,\n",
       " 8: 144,\n",
       " 9: 148,\n",
       " 10: 135,\n",
       " 11: 103,\n",
       " 12: 66,\n",
       " 13: 36,\n",
       " 14: 12}"
      ]
     },
     "execution_count": 610,
     "metadata": {},
     "output_type": "execute_result"
    }
   ],
   "source": [
    "per"
   ]
  },
  {
   "cell_type": "code",
   "execution_count": 611,
   "id": "4bf9f7c6-7923-4bb1-8a99-c6f382291bdc",
   "metadata": {},
   "outputs": [],
   "source": [
    "p = [st.norm.cdf(intervals[0], loc=mx, scale=dx) - st.norm.cdf(min(select), loc=mx, scale=dx)]\n",
    "for i in range(1, len(intervals)):\n",
    "    p.append(st.norm.cdf(intervals[i], loc=mx, scale=dx) - st.norm.cdf(intervals[i - 1], loc=mx, scale=dx))"
   ]
  },
  {
   "cell_type": "code",
   "execution_count": 612,
   "id": "d62561ef-49a9-4601-9fa5-fabb2c92d37d",
   "metadata": {},
   "outputs": [
    {
     "data": {
      "text/plain": [
       "[0.002706260332854051,\n",
       " 0.005912868284704796,\n",
       " 0.015115656645150456,\n",
       " 0.033012320728668956,\n",
       " 0.06159652328984657,\n",
       " 0.09819204262322817,\n",
       " 0.13373437224200807,\n",
       " 0.15561839499524577,\n",
       " 0.1547149113105959,\n",
       " 0.13141855296933702,\n",
       " 0.09537445603903172,\n",
       " 0.059136239022465786,\n",
       " 0.03132670342005228,\n",
       " 0.014177709063306176]"
      ]
     },
     "execution_count": 612,
     "metadata": {},
     "output_type": "execute_result"
    }
   ],
   "source": [
    "p"
   ]
  },
  {
   "cell_type": "code",
   "execution_count": 613,
   "id": "eef359bb-2981-45e1-ae40-486aee55ee5e",
   "metadata": {},
   "outputs": [],
   "source": [
    "s = 0\n",
    "for i in range(len(per)):\n",
    "    if p[i] == 0:\n",
    "        pz = 10**-6\n",
    "        s += ((per[i + 1] - n*pz)**2) / (n * pz)\n",
    "    else:\n",
    "        s += ((per[i + 1] - n*p[i])**2) / (n * p[i])"
   ]
  },
  {
   "cell_type": "code",
   "execution_count": 614,
   "id": "d7bcca26-e78e-4673-bd7b-78729eb8511b",
   "metadata": {},
   "outputs": [
    {
     "data": {
      "text/plain": [
       "5.935774102087979"
      ]
     },
     "execution_count": 614,
     "metadata": {},
     "output_type": "execute_result"
    }
   ],
   "source": [
    "s"
   ]
  },
  {
   "cell_type": "code",
   "execution_count": 615,
   "id": "98c896b3-f4d7-4a98-9b51-0e07365090fa",
   "metadata": {},
   "outputs": [],
   "source": [
    "chi2_alpha = st.chi2.ppf(1 - alpha, len(p) - 2 - 1)"
   ]
  },
  {
   "cell_type": "code",
   "execution_count": 616,
   "id": "5521fe4e-8745-45cf-92a0-9302e20bfaa8",
   "metadata": {},
   "outputs": [
    {
     "data": {
      "text/plain": [
       "19.67513757268249"
      ]
     },
     "execution_count": 616,
     "metadata": {},
     "output_type": "execute_result"
    }
   ],
   "source": [
    "chi2_alpha"
   ]
  },
  {
   "cell_type": "code",
   "execution_count": 617,
   "id": "a339dd57-58e2-426b-a625-99eb157a5dbd",
   "metadata": {},
   "outputs": [
    {
     "data": {
      "text/plain": [
       "True"
      ]
     },
     "execution_count": 617,
     "metadata": {},
     "output_type": "execute_result"
    }
   ],
   "source": [
    "s < chi2_alpha"
   ]
  },
  {
   "cell_type": "code",
   "execution_count": null,
   "id": "4189fd2a-6bfb-44ca-9f08-e010caa4ee6e",
   "metadata": {},
   "outputs": [],
   "source": []
  },
  {
   "cell_type": "code",
   "execution_count": 637,
   "id": "6e1686e2-0a52-4e24-8a4f-52f6cdc1c765",
   "metadata": {},
   "outputs": [],
   "source": [
    "select = st.norm.rvs(size=1000, loc=3, scale=2)\n",
    "n = len(select)\n",
    "df = pd.DataFrame(select)\n",
    "mx = df.mean()[0]\n",
    "dx = (3 * df.var()[0])**(1/2) / math.pi\n",
    "alpha = 0.05"
   ]
  },
  {
   "cell_type": "code",
   "execution_count": 638,
   "id": "ee3d1cb0-605a-40c7-9e37-5548b1c19a08",
   "metadata": {},
   "outputs": [],
   "source": [
    "k = 1 + int(1.78 * (len(select))**(1/3))"
   ]
  },
  {
   "cell_type": "code",
   "execution_count": 639,
   "id": "ae181125-1af3-4b87-80ff-5e882b32117e",
   "metadata": {},
   "outputs": [],
   "source": [
    "intervals = np.arange(min(select), max(select), abs(min(select) - max(select)) / k)"
   ]
  },
  {
   "cell_type": "code",
   "execution_count": 640,
   "id": "2d9ad7d7-7683-4eef-9adf-5b931a3f6034",
   "metadata": {},
   "outputs": [],
   "source": [
    "p = [st.logistic.cdf(intervals[0], loc=mx, scale=dx) - st.logistic.cdf(min(select), loc=mx, scale=dx)]\n",
    "for i in range(1, len(intervals)):\n",
    "    p.append(st.logistic.cdf(intervals[i], loc=mx, scale=dx) - st.logistic.cdf(intervals[i - 1], loc=mx, scale=dx))"
   ]
  },
  {
   "cell_type": "code",
   "execution_count": 641,
   "id": "4ce9ae1e-abfb-431a-ab28-8ca938f5948b",
   "metadata": {},
   "outputs": [],
   "source": [
    "per = {i: 0 for i in range(len(intervals))}\n",
    "for x in select:\n",
    "    for i in range(len(intervals)):\n",
    "        if (x < intervals[i]) or ((x - intervals[i]) < 10**-10):\n",
    "            per[i] += 1\n",
    "            break"
   ]
  },
  {
   "cell_type": "code",
   "execution_count": 642,
   "id": "461b2ca2-c434-44d5-9c6e-4ff60401b538",
   "metadata": {},
   "outputs": [],
   "source": [
    "for i in range(len(intervals)):\n",
    "    if n * p[i] < 5:\n",
    "        if i == 0:\n",
    "            intervals[i] = 0\n",
    "        elif i + 1 == len(intervals):\n",
    "            intervals[i - 1] = 0\n",
    "        else:\n",
    "            min_per = list(per.values()).index(min(per[i - 1], per[i + 1]))\n",
    "            if min_per < i:\n",
    "                intervals[i - 1] = 0\n",
    "            else:\n",
    "                intervals[i] = 0"
   ]
  },
  {
   "cell_type": "code",
   "execution_count": 643,
   "id": "e6d49311-aac1-4fe6-b2fd-a8daabda3317",
   "metadata": {},
   "outputs": [
    {
     "data": {
      "text/plain": [
       "array([-2.54861664, -1.85059305, -1.15256946, -0.45454587,  0.24347772,\n",
       "        0.94150132,  1.63952491,  2.3375485 ,  3.03557209,  3.73359569,\n",
       "        4.43161928,  5.12964287,  5.82766646,  6.52569006,  7.22371365,\n",
       "        7.92173724,  8.61976083])"
      ]
     },
     "execution_count": 643,
     "metadata": {},
     "output_type": "execute_result"
    }
   ],
   "source": [
    "intervals = np.delete(intervals, np.where(intervals == 0))\n",
    "intervals"
   ]
  },
  {
   "cell_type": "code",
   "execution_count": 644,
   "id": "bfbbcc67-6f1b-4bf1-9da4-bd098ed4e12f",
   "metadata": {},
   "outputs": [],
   "source": [
    "per = {i + 1: 0 for i in range(len(intervals))}\n",
    "for x in select:\n",
    "    for i in range(len(intervals)):\n",
    "        if (x < intervals[i]) or ((x - intervals[i]) < 10**-10):\n",
    "            per[i + 1] += 1\n",
    "            break"
   ]
  },
  {
   "cell_type": "code",
   "execution_count": 645,
   "id": "06c56605-33be-4cc2-9433-5c70e0f1c71b",
   "metadata": {},
   "outputs": [],
   "source": [
    "p = [st.logistic.cdf(intervals[0], loc=mx, scale=dx) - st.logistic.cdf(min(select), loc=mx, scale=dx)]\n",
    "for i in range(1, len(intervals)):\n",
    "    p.append(st.logistic.cdf(intervals[i], loc=mx, scale=dx) - st.logistic.cdf(intervals[i - 1], loc=mx, scale=dx))"
   ]
  },
  {
   "cell_type": "code",
   "execution_count": 646,
   "id": "41b5f522-d310-4ef1-90c2-0b2d31c17b45",
   "metadata": {},
   "outputs": [],
   "source": [
    "s = 0\n",
    "for i in range(len(per)):\n",
    "    if p[i] == 0:\n",
    "        pz = 10**-6\n",
    "        s += ((per[i + 1] - n*pz)**2) / (n * pz)\n",
    "    else:\n",
    "        s += ((per[i + 1] - n*p[i])**2) / (n * p[i])"
   ]
  },
  {
   "cell_type": "code",
   "execution_count": 647,
   "id": "c4298023-dc45-4dc9-8b5a-f3b0f644fc3d",
   "metadata": {},
   "outputs": [],
   "source": [
    "chi2_alpha = st.chi2.ppf(1 - alpha, len(p) - 2 - 1)"
   ]
  },
  {
   "cell_type": "code",
   "execution_count": 648,
   "id": "f9d6a977-6e77-4e97-8834-09a36022fd1e",
   "metadata": {},
   "outputs": [
    {
     "data": {
      "text/plain": [
       "False"
      ]
     },
     "execution_count": 648,
     "metadata": {},
     "output_type": "execute_result"
    }
   ],
   "source": [
    "s < chi2_alpha"
   ]
  },
  {
   "cell_type": "code",
   "execution_count": 649,
   "id": "dfd215b0-1454-4171-abaf-e634e93c9ac5",
   "metadata": {},
   "outputs": [
    {
     "data": {
      "text/plain": [
       "23.684791304840576"
      ]
     },
     "execution_count": 649,
     "metadata": {},
     "output_type": "execute_result"
    }
   ],
   "source": [
    "chi2_alpha"
   ]
  },
  {
   "cell_type": "code",
   "execution_count": 650,
   "id": "c3b7f9f0-8305-44d8-9c72-9cb4d165f1a8",
   "metadata": {},
   "outputs": [
    {
     "data": {
      "text/plain": [
       "31.950492419323957"
      ]
     },
     "execution_count": 650,
     "metadata": {},
     "output_type": "execute_result"
    }
   ],
   "source": [
    "s"
   ]
  },
  {
   "cell_type": "code",
   "execution_count": null,
   "id": "d46f1c5b-3730-4351-b6ac-dfa4c4312433",
   "metadata": {},
   "outputs": [],
   "source": []
  }
 ],
 "metadata": {
  "kernelspec": {
   "display_name": "Python 3 (ipykernel)",
   "language": "python",
   "name": "python3"
  },
  "language_info": {
   "codemirror_mode": {
    "name": "ipython",
    "version": 3
   },
   "file_extension": ".py",
   "mimetype": "text/x-python",
   "name": "python",
   "nbconvert_exporter": "python",
   "pygments_lexer": "ipython3",
   "version": "3.12.4"
  }
 },
 "nbformat": 4,
 "nbformat_minor": 5
}
