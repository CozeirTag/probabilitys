{
 "cells": [
  {
   "cell_type": "markdown",
   "id": "43c109ca-5818-4563-a0cd-3b4821a610b7",
   "metadata": {
    "jp-MarkdownHeadingCollapsed": true
   },
   "source": [
    "# Отбор нужных данных"
   ]
  },
  {
   "cell_type": "code",
   "execution_count": 1,
   "id": "7b1756ff-c085-4c10-a73c-7d68ac1f27d9",
   "metadata": {},
   "outputs": [],
   "source": [
    "import pandas as pd\n",
    "import seaborn as sns\n",
    "import scipy.stats as st\n",
    "import numpy as np"
   ]
  },
  {
   "cell_type": "code",
   "execution_count": 2,
   "id": "f771d639-4f1c-4148-988e-c776f63ea4c3",
   "metadata": {},
   "outputs": [],
   "source": [
    "vw_golf = pd.read_csv('vw.csv')"
   ]
  },
  {
   "cell_type": "code",
   "execution_count": 3,
   "id": "01573d1d-10cc-4e2c-ab81-b4e735b78735",
   "metadata": {},
   "outputs": [],
   "source": [
    "vw_golf = vw_golf[(vw_golf['model'] == ' Golf') & (vw_golf['transmission'] == 'Automatic') & (vw_golf['fuelType'] == 'Petrol')]"
   ]
  },
  {
   "cell_type": "code",
   "execution_count": 4,
   "id": "d76f0102-3cd3-4d18-a46b-43dada802ecf",
   "metadata": {},
   "outputs": [
    {
     "data": {
      "text/html": [
       "<div>\n",
       "<style scoped>\n",
       "    .dataframe tbody tr th:only-of-type {\n",
       "        vertical-align: middle;\n",
       "    }\n",
       "\n",
       "    .dataframe tbody tr th {\n",
       "        vertical-align: top;\n",
       "    }\n",
       "\n",
       "    .dataframe thead th {\n",
       "        text-align: right;\n",
       "    }\n",
       "</style>\n",
       "<table border=\"1\" class=\"dataframe\">\n",
       "  <thead>\n",
       "    <tr style=\"text-align: right;\">\n",
       "      <th></th>\n",
       "      <th>model</th>\n",
       "      <th>year</th>\n",
       "      <th>price</th>\n",
       "      <th>transmission</th>\n",
       "      <th>mileage</th>\n",
       "      <th>fuelType</th>\n",
       "      <th>tax</th>\n",
       "      <th>mpg</th>\n",
       "      <th>engineSize</th>\n",
       "    </tr>\n",
       "  </thead>\n",
       "  <tbody>\n",
       "    <tr>\n",
       "      <th>734</th>\n",
       "      <td>Golf</td>\n",
       "      <td>2019</td>\n",
       "      <td>36000</td>\n",
       "      <td>Automatic</td>\n",
       "      <td>4000</td>\n",
       "      <td>Petrol</td>\n",
       "      <td>145</td>\n",
       "      <td>32.8</td>\n",
       "      <td>2.0</td>\n",
       "    </tr>\n",
       "    <tr>\n",
       "      <th>735</th>\n",
       "      <td>Golf</td>\n",
       "      <td>2015</td>\n",
       "      <td>19390</td>\n",
       "      <td>Automatic</td>\n",
       "      <td>20031</td>\n",
       "      <td>Petrol</td>\n",
       "      <td>200</td>\n",
       "      <td>40.4</td>\n",
       "      <td>2.0</td>\n",
       "    </tr>\n",
       "    <tr>\n",
       "      <th>736</th>\n",
       "      <td>Golf</td>\n",
       "      <td>2019</td>\n",
       "      <td>16290</td>\n",
       "      <td>Automatic</td>\n",
       "      <td>14821</td>\n",
       "      <td>Petrol</td>\n",
       "      <td>145</td>\n",
       "      <td>44.8</td>\n",
       "      <td>1.0</td>\n",
       "    </tr>\n",
       "    <tr>\n",
       "      <th>737</th>\n",
       "      <td>Golf</td>\n",
       "      <td>2017</td>\n",
       "      <td>16491</td>\n",
       "      <td>Automatic</td>\n",
       "      <td>20693</td>\n",
       "      <td>Petrol</td>\n",
       "      <td>20</td>\n",
       "      <td>60.1</td>\n",
       "      <td>1.4</td>\n",
       "    </tr>\n",
       "    <tr>\n",
       "      <th>738</th>\n",
       "      <td>Golf</td>\n",
       "      <td>2019</td>\n",
       "      <td>16119</td>\n",
       "      <td>Automatic</td>\n",
       "      <td>14882</td>\n",
       "      <td>Petrol</td>\n",
       "      <td>145</td>\n",
       "      <td>44.8</td>\n",
       "      <td>1.0</td>\n",
       "    </tr>\n",
       "    <tr>\n",
       "      <th>...</th>\n",
       "      <td>...</td>\n",
       "      <td>...</td>\n",
       "      <td>...</td>\n",
       "      <td>...</td>\n",
       "      <td>...</td>\n",
       "      <td>...</td>\n",
       "      <td>...</td>\n",
       "      <td>...</td>\n",
       "      <td>...</td>\n",
       "    </tr>\n",
       "    <tr>\n",
       "      <th>5570</th>\n",
       "      <td>Golf</td>\n",
       "      <td>2019</td>\n",
       "      <td>28999</td>\n",
       "      <td>Automatic</td>\n",
       "      <td>3972</td>\n",
       "      <td>Petrol</td>\n",
       "      <td>150</td>\n",
       "      <td>32.8</td>\n",
       "      <td>2.0</td>\n",
       "    </tr>\n",
       "    <tr>\n",
       "      <th>5576</th>\n",
       "      <td>Golf</td>\n",
       "      <td>2019</td>\n",
       "      <td>28999</td>\n",
       "      <td>Automatic</td>\n",
       "      <td>1201</td>\n",
       "      <td>Petrol</td>\n",
       "      <td>145</td>\n",
       "      <td>32.8</td>\n",
       "      <td>2.0</td>\n",
       "    </tr>\n",
       "    <tr>\n",
       "      <th>5579</th>\n",
       "      <td>Golf</td>\n",
       "      <td>2019</td>\n",
       "      <td>28999</td>\n",
       "      <td>Automatic</td>\n",
       "      <td>1000</td>\n",
       "      <td>Petrol</td>\n",
       "      <td>145</td>\n",
       "      <td>32.8</td>\n",
       "      <td>2.0</td>\n",
       "    </tr>\n",
       "    <tr>\n",
       "      <th>5590</th>\n",
       "      <td>Golf</td>\n",
       "      <td>2019</td>\n",
       "      <td>18950</td>\n",
       "      <td>Automatic</td>\n",
       "      <td>1591</td>\n",
       "      <td>Petrol</td>\n",
       "      <td>145</td>\n",
       "      <td>44.8</td>\n",
       "      <td>1.5</td>\n",
       "    </tr>\n",
       "    <tr>\n",
       "      <th>5592</th>\n",
       "      <td>Golf</td>\n",
       "      <td>2016</td>\n",
       "      <td>11950</td>\n",
       "      <td>Automatic</td>\n",
       "      <td>41725</td>\n",
       "      <td>Petrol</td>\n",
       "      <td>30</td>\n",
       "      <td>53.3</td>\n",
       "      <td>1.4</td>\n",
       "    </tr>\n",
       "  </tbody>\n",
       "</table>\n",
       "<p>324 rows × 9 columns</p>\n",
       "</div>"
      ],
      "text/plain": [
       "      model  year  price transmission  mileage fuelType  tax   mpg  engineSize\n",
       "734    Golf  2019  36000    Automatic     4000   Petrol  145  32.8         2.0\n",
       "735    Golf  2015  19390    Automatic    20031   Petrol  200  40.4         2.0\n",
       "736    Golf  2019  16290    Automatic    14821   Petrol  145  44.8         1.0\n",
       "737    Golf  2017  16491    Automatic    20693   Petrol   20  60.1         1.4\n",
       "738    Golf  2019  16119    Automatic    14882   Petrol  145  44.8         1.0\n",
       "...     ...   ...    ...          ...      ...      ...  ...   ...         ...\n",
       "5570   Golf  2019  28999    Automatic     3972   Petrol  150  32.8         2.0\n",
       "5576   Golf  2019  28999    Automatic     1201   Petrol  145  32.8         2.0\n",
       "5579   Golf  2019  28999    Automatic     1000   Petrol  145  32.8         2.0\n",
       "5590   Golf  2019  18950    Automatic     1591   Petrol  145  44.8         1.5\n",
       "5592   Golf  2016  11950    Automatic    41725   Petrol   30  53.3         1.4\n",
       "\n",
       "[324 rows x 9 columns]"
      ]
     },
     "execution_count": 4,
     "metadata": {},
     "output_type": "execute_result"
    }
   ],
   "source": [
    "vw_golf"
   ]
  },
  {
   "cell_type": "code",
   "execution_count": 5,
   "id": "04a0b16f-4e3f-43cb-8eae-0e2b42c278a6",
   "metadata": {},
   "outputs": [],
   "source": [
    "vw_golf['age'] = 2020 - vw_golf['year']"
   ]
  },
  {
   "cell_type": "code",
   "execution_count": 6,
   "id": "1a77be49-141d-4f0b-810b-962cf52fcc85",
   "metadata": {},
   "outputs": [
    {
     "data": {
      "text/html": [
       "<div>\n",
       "<style scoped>\n",
       "    .dataframe tbody tr th:only-of-type {\n",
       "        vertical-align: middle;\n",
       "    }\n",
       "\n",
       "    .dataframe tbody tr th {\n",
       "        vertical-align: top;\n",
       "    }\n",
       "\n",
       "    .dataframe thead th {\n",
       "        text-align: right;\n",
       "    }\n",
       "</style>\n",
       "<table border=\"1\" class=\"dataframe\">\n",
       "  <thead>\n",
       "    <tr style=\"text-align: right;\">\n",
       "      <th></th>\n",
       "      <th>model</th>\n",
       "      <th>year</th>\n",
       "      <th>price</th>\n",
       "      <th>transmission</th>\n",
       "      <th>mileage</th>\n",
       "      <th>fuelType</th>\n",
       "      <th>tax</th>\n",
       "      <th>mpg</th>\n",
       "      <th>engineSize</th>\n",
       "      <th>age</th>\n",
       "    </tr>\n",
       "  </thead>\n",
       "  <tbody>\n",
       "    <tr>\n",
       "      <th>734</th>\n",
       "      <td>Golf</td>\n",
       "      <td>2019</td>\n",
       "      <td>36000</td>\n",
       "      <td>Automatic</td>\n",
       "      <td>4000</td>\n",
       "      <td>Petrol</td>\n",
       "      <td>145</td>\n",
       "      <td>32.8</td>\n",
       "      <td>2.0</td>\n",
       "      <td>1</td>\n",
       "    </tr>\n",
       "    <tr>\n",
       "      <th>735</th>\n",
       "      <td>Golf</td>\n",
       "      <td>2015</td>\n",
       "      <td>19390</td>\n",
       "      <td>Automatic</td>\n",
       "      <td>20031</td>\n",
       "      <td>Petrol</td>\n",
       "      <td>200</td>\n",
       "      <td>40.4</td>\n",
       "      <td>2.0</td>\n",
       "      <td>5</td>\n",
       "    </tr>\n",
       "    <tr>\n",
       "      <th>736</th>\n",
       "      <td>Golf</td>\n",
       "      <td>2019</td>\n",
       "      <td>16290</td>\n",
       "      <td>Automatic</td>\n",
       "      <td>14821</td>\n",
       "      <td>Petrol</td>\n",
       "      <td>145</td>\n",
       "      <td>44.8</td>\n",
       "      <td>1.0</td>\n",
       "      <td>1</td>\n",
       "    </tr>\n",
       "    <tr>\n",
       "      <th>737</th>\n",
       "      <td>Golf</td>\n",
       "      <td>2017</td>\n",
       "      <td>16491</td>\n",
       "      <td>Automatic</td>\n",
       "      <td>20693</td>\n",
       "      <td>Petrol</td>\n",
       "      <td>20</td>\n",
       "      <td>60.1</td>\n",
       "      <td>1.4</td>\n",
       "      <td>3</td>\n",
       "    </tr>\n",
       "    <tr>\n",
       "      <th>738</th>\n",
       "      <td>Golf</td>\n",
       "      <td>2019</td>\n",
       "      <td>16119</td>\n",
       "      <td>Automatic</td>\n",
       "      <td>14882</td>\n",
       "      <td>Petrol</td>\n",
       "      <td>145</td>\n",
       "      <td>44.8</td>\n",
       "      <td>1.0</td>\n",
       "      <td>1</td>\n",
       "    </tr>\n",
       "    <tr>\n",
       "      <th>...</th>\n",
       "      <td>...</td>\n",
       "      <td>...</td>\n",
       "      <td>...</td>\n",
       "      <td>...</td>\n",
       "      <td>...</td>\n",
       "      <td>...</td>\n",
       "      <td>...</td>\n",
       "      <td>...</td>\n",
       "      <td>...</td>\n",
       "      <td>...</td>\n",
       "    </tr>\n",
       "    <tr>\n",
       "      <th>5570</th>\n",
       "      <td>Golf</td>\n",
       "      <td>2019</td>\n",
       "      <td>28999</td>\n",
       "      <td>Automatic</td>\n",
       "      <td>3972</td>\n",
       "      <td>Petrol</td>\n",
       "      <td>150</td>\n",
       "      <td>32.8</td>\n",
       "      <td>2.0</td>\n",
       "      <td>1</td>\n",
       "    </tr>\n",
       "    <tr>\n",
       "      <th>5576</th>\n",
       "      <td>Golf</td>\n",
       "      <td>2019</td>\n",
       "      <td>28999</td>\n",
       "      <td>Automatic</td>\n",
       "      <td>1201</td>\n",
       "      <td>Petrol</td>\n",
       "      <td>145</td>\n",
       "      <td>32.8</td>\n",
       "      <td>2.0</td>\n",
       "      <td>1</td>\n",
       "    </tr>\n",
       "    <tr>\n",
       "      <th>5579</th>\n",
       "      <td>Golf</td>\n",
       "      <td>2019</td>\n",
       "      <td>28999</td>\n",
       "      <td>Automatic</td>\n",
       "      <td>1000</td>\n",
       "      <td>Petrol</td>\n",
       "      <td>145</td>\n",
       "      <td>32.8</td>\n",
       "      <td>2.0</td>\n",
       "      <td>1</td>\n",
       "    </tr>\n",
       "    <tr>\n",
       "      <th>5590</th>\n",
       "      <td>Golf</td>\n",
       "      <td>2019</td>\n",
       "      <td>18950</td>\n",
       "      <td>Automatic</td>\n",
       "      <td>1591</td>\n",
       "      <td>Petrol</td>\n",
       "      <td>145</td>\n",
       "      <td>44.8</td>\n",
       "      <td>1.5</td>\n",
       "      <td>1</td>\n",
       "    </tr>\n",
       "    <tr>\n",
       "      <th>5592</th>\n",
       "      <td>Golf</td>\n",
       "      <td>2016</td>\n",
       "      <td>11950</td>\n",
       "      <td>Automatic</td>\n",
       "      <td>41725</td>\n",
       "      <td>Petrol</td>\n",
       "      <td>30</td>\n",
       "      <td>53.3</td>\n",
       "      <td>1.4</td>\n",
       "      <td>4</td>\n",
       "    </tr>\n",
       "  </tbody>\n",
       "</table>\n",
       "<p>324 rows × 10 columns</p>\n",
       "</div>"
      ],
      "text/plain": [
       "      model  year  price transmission  mileage fuelType  tax   mpg  \\\n",
       "734    Golf  2019  36000    Automatic     4000   Petrol  145  32.8   \n",
       "735    Golf  2015  19390    Automatic    20031   Petrol  200  40.4   \n",
       "736    Golf  2019  16290    Automatic    14821   Petrol  145  44.8   \n",
       "737    Golf  2017  16491    Automatic    20693   Petrol   20  60.1   \n",
       "738    Golf  2019  16119    Automatic    14882   Petrol  145  44.8   \n",
       "...     ...   ...    ...          ...      ...      ...  ...   ...   \n",
       "5570   Golf  2019  28999    Automatic     3972   Petrol  150  32.8   \n",
       "5576   Golf  2019  28999    Automatic     1201   Petrol  145  32.8   \n",
       "5579   Golf  2019  28999    Automatic     1000   Petrol  145  32.8   \n",
       "5590   Golf  2019  18950    Automatic     1591   Petrol  145  44.8   \n",
       "5592   Golf  2016  11950    Automatic    41725   Petrol   30  53.3   \n",
       "\n",
       "      engineSize  age  \n",
       "734          2.0    1  \n",
       "735          2.0    5  \n",
       "736          1.0    1  \n",
       "737          1.4    3  \n",
       "738          1.0    1  \n",
       "...          ...  ...  \n",
       "5570         2.0    1  \n",
       "5576         2.0    1  \n",
       "5579         2.0    1  \n",
       "5590         1.5    1  \n",
       "5592         1.4    4  \n",
       "\n",
       "[324 rows x 10 columns]"
      ]
     },
     "execution_count": 6,
     "metadata": {},
     "output_type": "execute_result"
    }
   ],
   "source": [
    "vw_golf"
   ]
  },
  {
   "cell_type": "markdown",
   "id": "fc817959-d1b8-43ca-aa44-d4530097cea2",
   "metadata": {
    "jp-MarkdownHeadingCollapsed": true
   },
   "source": [
    "# VW Golf с бензиновым двигателем и автоматической коробкой передач на вторичном рынке (не из салона) разных возрастов и пробегов"
   ]
  },
  {
   "cell_type": "code",
   "execution_count": 7,
   "id": "5a57cb4c-f28c-4154-a8af-6d7e627bb798",
   "metadata": {},
   "outputs": [],
   "source": [
    "vw_golf = vw_golf[['age', 'price', 'mileage']]"
   ]
  },
  {
   "cell_type": "code",
   "execution_count": 8,
   "id": "c2d37cf6-6e5f-4f1d-8b3a-869345f1040d",
   "metadata": {},
   "outputs": [
    {
     "data": {
      "text/html": [
       "<div>\n",
       "<style scoped>\n",
       "    .dataframe tbody tr th:only-of-type {\n",
       "        vertical-align: middle;\n",
       "    }\n",
       "\n",
       "    .dataframe tbody tr th {\n",
       "        vertical-align: top;\n",
       "    }\n",
       "\n",
       "    .dataframe thead th {\n",
       "        text-align: right;\n",
       "    }\n",
       "</style>\n",
       "<table border=\"1\" class=\"dataframe\">\n",
       "  <thead>\n",
       "    <tr style=\"text-align: right;\">\n",
       "      <th></th>\n",
       "      <th>age</th>\n",
       "      <th>price</th>\n",
       "      <th>mileage</th>\n",
       "    </tr>\n",
       "  </thead>\n",
       "  <tbody>\n",
       "    <tr>\n",
       "      <th>734</th>\n",
       "      <td>1</td>\n",
       "      <td>36000</td>\n",
       "      <td>4000</td>\n",
       "    </tr>\n",
       "    <tr>\n",
       "      <th>735</th>\n",
       "      <td>5</td>\n",
       "      <td>19390</td>\n",
       "      <td>20031</td>\n",
       "    </tr>\n",
       "    <tr>\n",
       "      <th>736</th>\n",
       "      <td>1</td>\n",
       "      <td>16290</td>\n",
       "      <td>14821</td>\n",
       "    </tr>\n",
       "    <tr>\n",
       "      <th>737</th>\n",
       "      <td>3</td>\n",
       "      <td>16491</td>\n",
       "      <td>20693</td>\n",
       "    </tr>\n",
       "    <tr>\n",
       "      <th>738</th>\n",
       "      <td>1</td>\n",
       "      <td>16119</td>\n",
       "      <td>14882</td>\n",
       "    </tr>\n",
       "    <tr>\n",
       "      <th>...</th>\n",
       "      <td>...</td>\n",
       "      <td>...</td>\n",
       "      <td>...</td>\n",
       "    </tr>\n",
       "    <tr>\n",
       "      <th>5570</th>\n",
       "      <td>1</td>\n",
       "      <td>28999</td>\n",
       "      <td>3972</td>\n",
       "    </tr>\n",
       "    <tr>\n",
       "      <th>5576</th>\n",
       "      <td>1</td>\n",
       "      <td>28999</td>\n",
       "      <td>1201</td>\n",
       "    </tr>\n",
       "    <tr>\n",
       "      <th>5579</th>\n",
       "      <td>1</td>\n",
       "      <td>28999</td>\n",
       "      <td>1000</td>\n",
       "    </tr>\n",
       "    <tr>\n",
       "      <th>5590</th>\n",
       "      <td>1</td>\n",
       "      <td>18950</td>\n",
       "      <td>1591</td>\n",
       "    </tr>\n",
       "    <tr>\n",
       "      <th>5592</th>\n",
       "      <td>4</td>\n",
       "      <td>11950</td>\n",
       "      <td>41725</td>\n",
       "    </tr>\n",
       "  </tbody>\n",
       "</table>\n",
       "<p>324 rows × 3 columns</p>\n",
       "</div>"
      ],
      "text/plain": [
       "      age  price  mileage\n",
       "734     1  36000     4000\n",
       "735     5  19390    20031\n",
       "736     1  16290    14821\n",
       "737     3  16491    20693\n",
       "738     1  16119    14882\n",
       "...   ...    ...      ...\n",
       "5570    1  28999     3972\n",
       "5576    1  28999     1201\n",
       "5579    1  28999     1000\n",
       "5590    1  18950     1591\n",
       "5592    4  11950    41725\n",
       "\n",
       "[324 rows x 3 columns]"
      ]
     },
     "execution_count": 8,
     "metadata": {},
     "output_type": "execute_result"
    }
   ],
   "source": [
    "vw_golf"
   ]
  },
  {
   "cell_type": "markdown",
   "id": "a4fbfd13-84bf-4327-b8fb-67ee61d8067b",
   "metadata": {},
   "source": [
    "Цена в фунтах, пробег в милях, возраст в годах"
   ]
  },
  {
   "cell_type": "markdown",
   "id": "807adb6d-5796-447e-acba-af4aadf5985b",
   "metadata": {},
   "source": [
    "Все возраста из выборки"
   ]
  },
  {
   "cell_type": "code",
   "execution_count": 9,
   "id": "e367c4f0-efbe-47b4-bb14-19fafe600d69",
   "metadata": {},
   "outputs": [
    {
     "data": {
      "text/plain": [
       "[0, 1, 2, 3, 4, 5, 6, 7, 8, 9, 11]"
      ]
     },
     "execution_count": 9,
     "metadata": {},
     "output_type": "execute_result"
    }
   ],
   "source": [
    "sorted(vw_golf['age'].unique())"
   ]
  },
  {
   "cell_type": "markdown",
   "id": "8d0ad128-40ec-40e5-be79-532e19f5a7f0",
   "metadata": {
    "jp-MarkdownHeadingCollapsed": true
   },
   "source": [
    "# Исследуем выборки по возрастам"
   ]
  },
  {
   "cell_type": "markdown",
   "id": "de94c43e-f6ea-4ff6-9af8-fabf82d32a7c",
   "metadata": {},
   "source": [
    "## Машины возрастом до 1 года (age = 0)"
   ]
  },
  {
   "cell_type": "code",
   "execution_count": 10,
   "id": "643f0aa0-9a75-4da1-988c-298a5e2754c7",
   "metadata": {},
   "outputs": [
    {
     "data": {
      "text/html": [
       "<div>\n",
       "<style scoped>\n",
       "    .dataframe tbody tr th:only-of-type {\n",
       "        vertical-align: middle;\n",
       "    }\n",
       "\n",
       "    .dataframe tbody tr th {\n",
       "        vertical-align: top;\n",
       "    }\n",
       "\n",
       "    .dataframe thead th {\n",
       "        text-align: right;\n",
       "    }\n",
       "</style>\n",
       "<table border=\"1\" class=\"dataframe\">\n",
       "  <thead>\n",
       "    <tr style=\"text-align: right;\">\n",
       "      <th></th>\n",
       "      <th>age</th>\n",
       "      <th>price</th>\n",
       "      <th>mileage</th>\n",
       "    </tr>\n",
       "  </thead>\n",
       "  <tbody>\n",
       "    <tr>\n",
       "      <th>3321</th>\n",
       "      <td>0</td>\n",
       "      <td>33980</td>\n",
       "      <td>9918</td>\n",
       "    </tr>\n",
       "    <tr>\n",
       "      <th>4350</th>\n",
       "      <td>0</td>\n",
       "      <td>30999</td>\n",
       "      <td>1425</td>\n",
       "    </tr>\n",
       "    <tr>\n",
       "      <th>4561</th>\n",
       "      <td>0</td>\n",
       "      <td>32442</td>\n",
       "      <td>6530</td>\n",
       "    </tr>\n",
       "    <tr>\n",
       "      <th>4567</th>\n",
       "      <td>0</td>\n",
       "      <td>27989</td>\n",
       "      <td>8256</td>\n",
       "    </tr>\n",
       "    <tr>\n",
       "      <th>4569</th>\n",
       "      <td>0</td>\n",
       "      <td>31989</td>\n",
       "      <td>2756</td>\n",
       "    </tr>\n",
       "    <tr>\n",
       "      <th>4570</th>\n",
       "      <td>0</td>\n",
       "      <td>33792</td>\n",
       "      <td>156</td>\n",
       "    </tr>\n",
       "    <tr>\n",
       "      <th>4846</th>\n",
       "      <td>0</td>\n",
       "      <td>24500</td>\n",
       "      <td>1000</td>\n",
       "    </tr>\n",
       "    <tr>\n",
       "      <th>4945</th>\n",
       "      <td>0</td>\n",
       "      <td>24450</td>\n",
       "      <td>1000</td>\n",
       "    </tr>\n",
       "    <tr>\n",
       "      <th>4967</th>\n",
       "      <td>0</td>\n",
       "      <td>39950</td>\n",
       "      <td>1000</td>\n",
       "    </tr>\n",
       "    <tr>\n",
       "      <th>4985</th>\n",
       "      <td>0</td>\n",
       "      <td>28640</td>\n",
       "      <td>100</td>\n",
       "    </tr>\n",
       "    <tr>\n",
       "      <th>4992</th>\n",
       "      <td>0</td>\n",
       "      <td>23890</td>\n",
       "      <td>50</td>\n",
       "    </tr>\n",
       "    <tr>\n",
       "      <th>5014</th>\n",
       "      <td>0</td>\n",
       "      <td>31989</td>\n",
       "      <td>2419</td>\n",
       "    </tr>\n",
       "    <tr>\n",
       "      <th>5039</th>\n",
       "      <td>0</td>\n",
       "      <td>24990</td>\n",
       "      <td>100</td>\n",
       "    </tr>\n",
       "    <tr>\n",
       "      <th>5047</th>\n",
       "      <td>0</td>\n",
       "      <td>33990</td>\n",
       "      <td>100</td>\n",
       "    </tr>\n",
       "    <tr>\n",
       "      <th>5051</th>\n",
       "      <td>0</td>\n",
       "      <td>22290</td>\n",
       "      <td>1654</td>\n",
       "    </tr>\n",
       "    <tr>\n",
       "      <th>5059</th>\n",
       "      <td>0</td>\n",
       "      <td>24990</td>\n",
       "      <td>844</td>\n",
       "    </tr>\n",
       "    <tr>\n",
       "      <th>5081</th>\n",
       "      <td>0</td>\n",
       "      <td>27990</td>\n",
       "      <td>390</td>\n",
       "    </tr>\n",
       "    <tr>\n",
       "      <th>5291</th>\n",
       "      <td>0</td>\n",
       "      <td>28840</td>\n",
       "      <td>4000</td>\n",
       "    </tr>\n",
       "    <tr>\n",
       "      <th>5409</th>\n",
       "      <td>0</td>\n",
       "      <td>21000</td>\n",
       "      <td>300</td>\n",
       "    </tr>\n",
       "    <tr>\n",
       "      <th>5424</th>\n",
       "      <td>0</td>\n",
       "      <td>22980</td>\n",
       "      <td>1936</td>\n",
       "    </tr>\n",
       "  </tbody>\n",
       "</table>\n",
       "</div>"
      ],
      "text/plain": [
       "      age  price  mileage\n",
       "3321    0  33980     9918\n",
       "4350    0  30999     1425\n",
       "4561    0  32442     6530\n",
       "4567    0  27989     8256\n",
       "4569    0  31989     2756\n",
       "4570    0  33792      156\n",
       "4846    0  24500     1000\n",
       "4945    0  24450     1000\n",
       "4967    0  39950     1000\n",
       "4985    0  28640      100\n",
       "4992    0  23890       50\n",
       "5014    0  31989     2419\n",
       "5039    0  24990      100\n",
       "5047    0  33990      100\n",
       "5051    0  22290     1654\n",
       "5059    0  24990      844\n",
       "5081    0  27990      390\n",
       "5291    0  28840     4000\n",
       "5409    0  21000      300\n",
       "5424    0  22980     1936"
      ]
     },
     "execution_count": 10,
     "metadata": {},
     "output_type": "execute_result"
    }
   ],
   "source": [
    "vw_golf[vw_golf['age'] == 0]"
   ]
  },
  {
   "cell_type": "markdown",
   "id": "8eb5eb53-9d3b-4d00-bd84-96c1444295df",
   "metadata": {},
   "source": [
    "Количество элементов выборки, выборочное среднее, дисперсия и средне квадратичное отклонение цены и пробега"
   ]
  },
  {
   "cell_type": "code",
   "execution_count": 11,
   "id": "bd5fddd5-8ef8-40fc-a470-59e5398b07ef",
   "metadata": {},
   "outputs": [
    {
     "data": {
      "text/plain": [
       "20"
      ]
     },
     "execution_count": 11,
     "metadata": {},
     "output_type": "execute_result"
    }
   ],
   "source": [
    "len(vw_golf[vw_golf['age'] == 0])"
   ]
  },
  {
   "cell_type": "markdown",
   "id": "8207a043-7efa-4d76-a345-c8e5c63f3702",
   "metadata": {},
   "source": [
    "Цена"
   ]
  },
  {
   "cell_type": "code",
   "execution_count": 12,
   "id": "36ac3b5b-8c20-4c3e-8ecd-25e4b5066f1e",
   "metadata": {},
   "outputs": [
    {
     "data": {
      "text/plain": [
       "28584.0"
      ]
     },
     "execution_count": 12,
     "metadata": {},
     "output_type": "execute_result"
    }
   ],
   "source": [
    "vw_golf[vw_golf['age'] == 0]['price'].mean()"
   ]
  },
  {
   "cell_type": "code",
   "execution_count": 13,
   "id": "4e469bbd-18fe-46ab-a63e-2e53a126ade7",
   "metadata": {},
   "outputs": [
    {
     "data": {
      "text/plain": [
       "24710709.05263158"
      ]
     },
     "execution_count": 13,
     "metadata": {},
     "output_type": "execute_result"
    }
   ],
   "source": [
    "vw_golf[vw_golf['age'] == 0]['price'].var()"
   ]
  },
  {
   "cell_type": "code",
   "execution_count": 14,
   "id": "18400626-8773-462b-8ae1-aca9f7898c80",
   "metadata": {},
   "outputs": [
    {
     "data": {
      "text/plain": [
       "4970.986728269507"
      ]
     },
     "execution_count": 14,
     "metadata": {},
     "output_type": "execute_result"
    }
   ],
   "source": [
    "vw_golf[vw_golf['age'] == 0]['price'].var()**(1/2)"
   ]
  },
  {
   "cell_type": "markdown",
   "id": "6d339832-4d69-4f39-b891-e1fcc57027cc",
   "metadata": {},
   "source": [
    "Пробег"
   ]
  },
  {
   "cell_type": "code",
   "execution_count": 15,
   "id": "78b6fbf9-e659-41f1-8f0e-880b5a31f526",
   "metadata": {},
   "outputs": [
    {
     "data": {
      "text/plain": [
       "2196.7"
      ]
     },
     "execution_count": 15,
     "metadata": {},
     "output_type": "execute_result"
    }
   ],
   "source": [
    "vw_golf[vw_golf['age'] == 0]['mileage'].mean()"
   ]
  },
  {
   "cell_type": "code",
   "execution_count": 16,
   "id": "f5677ad3-8bc0-44f5-abfa-bb53df214919",
   "metadata": {},
   "outputs": [
    {
     "data": {
      "text/plain": [
       "8138534.11578947"
      ]
     },
     "execution_count": 16,
     "metadata": {},
     "output_type": "execute_result"
    }
   ],
   "source": [
    "vw_golf[vw_golf['age'] == 0]['mileage'].var()"
   ]
  },
  {
   "cell_type": "code",
   "execution_count": 17,
   "id": "c80dd4ec-d80a-4fc0-947f-9d6ce3599848",
   "metadata": {},
   "outputs": [
    {
     "data": {
      "text/plain": [
       "2852.8116158957064"
      ]
     },
     "execution_count": 17,
     "metadata": {},
     "output_type": "execute_result"
    }
   ],
   "source": [
    "vw_golf[vw_golf['age'] == 0]['mileage'].var()**(1/2)"
   ]
  },
  {
   "cell_type": "markdown",
   "id": "d1d5c0b1-9e7d-41bc-8f7c-4c2bb047decc",
   "metadata": {},
   "source": [
    "## Машины возрастом от 1 года до 2 лет (age = 1)"
   ]
  },
  {
   "cell_type": "code",
   "execution_count": 18,
   "id": "4360f91d-18b5-4921-888e-49808fd6670c",
   "metadata": {},
   "outputs": [],
   "source": [
    "age = 1"
   ]
  },
  {
   "cell_type": "code",
   "execution_count": 19,
   "id": "d9124e63-c7aa-4b5d-ac35-75954e49f261",
   "metadata": {},
   "outputs": [
    {
     "data": {
      "text/html": [
       "<div>\n",
       "<style scoped>\n",
       "    .dataframe tbody tr th:only-of-type {\n",
       "        vertical-align: middle;\n",
       "    }\n",
       "\n",
       "    .dataframe tbody tr th {\n",
       "        vertical-align: top;\n",
       "    }\n",
       "\n",
       "    .dataframe thead th {\n",
       "        text-align: right;\n",
       "    }\n",
       "</style>\n",
       "<table border=\"1\" class=\"dataframe\">\n",
       "  <thead>\n",
       "    <tr style=\"text-align: right;\">\n",
       "      <th></th>\n",
       "      <th>age</th>\n",
       "      <th>price</th>\n",
       "      <th>mileage</th>\n",
       "    </tr>\n",
       "  </thead>\n",
       "  <tbody>\n",
       "    <tr>\n",
       "      <th>734</th>\n",
       "      <td>1</td>\n",
       "      <td>36000</td>\n",
       "      <td>4000</td>\n",
       "    </tr>\n",
       "    <tr>\n",
       "      <th>736</th>\n",
       "      <td>1</td>\n",
       "      <td>16290</td>\n",
       "      <td>14821</td>\n",
       "    </tr>\n",
       "    <tr>\n",
       "      <th>738</th>\n",
       "      <td>1</td>\n",
       "      <td>16119</td>\n",
       "      <td>14882</td>\n",
       "    </tr>\n",
       "    <tr>\n",
       "      <th>740</th>\n",
       "      <td>1</td>\n",
       "      <td>27000</td>\n",
       "      <td>12322</td>\n",
       "    </tr>\n",
       "    <tr>\n",
       "      <th>741</th>\n",
       "      <td>1</td>\n",
       "      <td>26000</td>\n",
       "      <td>2859</td>\n",
       "    </tr>\n",
       "    <tr>\n",
       "      <th>...</th>\n",
       "      <td>...</td>\n",
       "      <td>...</td>\n",
       "      <td>...</td>\n",
       "    </tr>\n",
       "    <tr>\n",
       "      <th>5569</th>\n",
       "      <td>1</td>\n",
       "      <td>28999</td>\n",
       "      <td>3369</td>\n",
       "    </tr>\n",
       "    <tr>\n",
       "      <th>5570</th>\n",
       "      <td>1</td>\n",
       "      <td>28999</td>\n",
       "      <td>3972</td>\n",
       "    </tr>\n",
       "    <tr>\n",
       "      <th>5576</th>\n",
       "      <td>1</td>\n",
       "      <td>28999</td>\n",
       "      <td>1201</td>\n",
       "    </tr>\n",
       "    <tr>\n",
       "      <th>5579</th>\n",
       "      <td>1</td>\n",
       "      <td>28999</td>\n",
       "      <td>1000</td>\n",
       "    </tr>\n",
       "    <tr>\n",
       "      <th>5590</th>\n",
       "      <td>1</td>\n",
       "      <td>18950</td>\n",
       "      <td>1591</td>\n",
       "    </tr>\n",
       "  </tbody>\n",
       "</table>\n",
       "<p>185 rows × 3 columns</p>\n",
       "</div>"
      ],
      "text/plain": [
       "      age  price  mileage\n",
       "734     1  36000     4000\n",
       "736     1  16290    14821\n",
       "738     1  16119    14882\n",
       "740     1  27000    12322\n",
       "741     1  26000     2859\n",
       "...   ...    ...      ...\n",
       "5569    1  28999     3369\n",
       "5570    1  28999     3972\n",
       "5576    1  28999     1201\n",
       "5579    1  28999     1000\n",
       "5590    1  18950     1591\n",
       "\n",
       "[185 rows x 3 columns]"
      ]
     },
     "execution_count": 19,
     "metadata": {},
     "output_type": "execute_result"
    }
   ],
   "source": [
    "vw_golf[vw_golf['age'] == age]"
   ]
  },
  {
   "cell_type": "markdown",
   "id": "c38a33ff-81d8-400b-a80d-5f5bd27c3a3c",
   "metadata": {},
   "source": [
    "Количество элементов выборки, выборочное среднее, дисперсия и средне квадратичное отклонение цены и пробега"
   ]
  },
  {
   "cell_type": "code",
   "execution_count": 20,
   "id": "43144f86-1604-4ae5-866b-41a6ad6c002c",
   "metadata": {},
   "outputs": [
    {
     "data": {
      "text/plain": [
       "185"
      ]
     },
     "execution_count": 20,
     "metadata": {},
     "output_type": "execute_result"
    }
   ],
   "source": [
    "len(vw_golf[vw_golf['age'] == age])"
   ]
  },
  {
   "cell_type": "markdown",
   "id": "8ac052db-68bc-4305-81ce-f92342611d82",
   "metadata": {},
   "source": [
    "Цена"
   ]
  },
  {
   "cell_type": "code",
   "execution_count": 21,
   "id": "779eccdd-66f0-4dd2-b4e5-0e6b419d8b17",
   "metadata": {},
   "outputs": [
    {
     "data": {
      "text/plain": [
       "24761.686486486487"
      ]
     },
     "execution_count": 21,
     "metadata": {},
     "output_type": "execute_result"
    }
   ],
   "source": [
    "vw_golf[vw_golf['age'] == age]['price'].mean()"
   ]
  },
  {
   "cell_type": "code",
   "execution_count": 22,
   "id": "a1d82bf0-5b98-4e0f-bf03-a0c7b525a73c",
   "metadata": {},
   "outputs": [
    {
     "data": {
      "text/plain": [
       "31906463.2598707"
      ]
     },
     "execution_count": 22,
     "metadata": {},
     "output_type": "execute_result"
    }
   ],
   "source": [
    "vw_golf[vw_golf['age'] == age]['price'].var()"
   ]
  },
  {
   "cell_type": "code",
   "execution_count": 23,
   "id": "6fe67922-9903-428e-be88-9be0aa7d4040",
   "metadata": {},
   "outputs": [
    {
     "data": {
      "text/plain": [
       "5648.580641176215"
      ]
     },
     "execution_count": 23,
     "metadata": {},
     "output_type": "execute_result"
    }
   ],
   "source": [
    "vw_golf[vw_golf['age'] == age]['price'].var()**(1/2)"
   ]
  },
  {
   "cell_type": "markdown",
   "id": "17195758-bba3-4268-bca6-a3cdfdd3f9c5",
   "metadata": {},
   "source": [
    "Пробег"
   ]
  },
  {
   "cell_type": "code",
   "execution_count": 24,
   "id": "75d27e3d-fd66-4fb0-ab8b-8ea1dc38788e",
   "metadata": {},
   "outputs": [
    {
     "data": {
      "text/plain": [
       "7353.8378378378375"
      ]
     },
     "execution_count": 24,
     "metadata": {},
     "output_type": "execute_result"
    }
   ],
   "source": [
    "vw_golf[vw_golf['age'] == age]['mileage'].mean()"
   ]
  },
  {
   "cell_type": "code",
   "execution_count": 25,
   "id": "2fd69234-8d1a-477b-a41d-c32ebbaadfbb",
   "metadata": {},
   "outputs": [
    {
     "data": {
      "text/plain": [
       "21481230.0713866"
      ]
     },
     "execution_count": 25,
     "metadata": {},
     "output_type": "execute_result"
    }
   ],
   "source": [
    "vw_golf[vw_golf['age'] == age]['mileage'].var()"
   ]
  },
  {
   "cell_type": "code",
   "execution_count": 26,
   "id": "e5cfaf62-3f69-44c0-b037-3b376d2f737b",
   "metadata": {},
   "outputs": [
    {
     "data": {
      "text/plain": [
       "4634.784792348681"
      ]
     },
     "execution_count": 26,
     "metadata": {},
     "output_type": "execute_result"
    }
   ],
   "source": [
    "vw_golf[vw_golf['age'] == age]['mileage'].var()**(1/2)"
   ]
  },
  {
   "cell_type": "markdown",
   "id": "12c96047-3222-4da1-9ff8-ca01619b5d80",
   "metadata": {},
   "source": [
    "## Машины возрастом от 2 лет до 3 лет (age = 2)"
   ]
  },
  {
   "cell_type": "code",
   "execution_count": 27,
   "id": "add39123-6295-4efe-8a44-5ac5253b64ab",
   "metadata": {},
   "outputs": [],
   "source": [
    "age = 2"
   ]
  },
  {
   "cell_type": "code",
   "execution_count": 28,
   "id": "4d5702e3-3988-4f11-97f3-7d4ddc68614e",
   "metadata": {},
   "outputs": [
    {
     "data": {
      "text/html": [
       "<div>\n",
       "<style scoped>\n",
       "    .dataframe tbody tr th:only-of-type {\n",
       "        vertical-align: middle;\n",
       "    }\n",
       "\n",
       "    .dataframe tbody tr th {\n",
       "        vertical-align: top;\n",
       "    }\n",
       "\n",
       "    .dataframe thead th {\n",
       "        text-align: right;\n",
       "    }\n",
       "</style>\n",
       "<table border=\"1\" class=\"dataframe\">\n",
       "  <thead>\n",
       "    <tr style=\"text-align: right;\">\n",
       "      <th></th>\n",
       "      <th>age</th>\n",
       "      <th>price</th>\n",
       "      <th>mileage</th>\n",
       "    </tr>\n",
       "  </thead>\n",
       "  <tbody>\n",
       "    <tr>\n",
       "      <th>747</th>\n",
       "      <td>2</td>\n",
       "      <td>22000</td>\n",
       "      <td>10130</td>\n",
       "    </tr>\n",
       "    <tr>\n",
       "      <th>757</th>\n",
       "      <td>2</td>\n",
       "      <td>23799</td>\n",
       "      <td>8725</td>\n",
       "    </tr>\n",
       "    <tr>\n",
       "      <th>907</th>\n",
       "      <td>2</td>\n",
       "      <td>17985</td>\n",
       "      <td>6372</td>\n",
       "    </tr>\n",
       "    <tr>\n",
       "      <th>1822</th>\n",
       "      <td>2</td>\n",
       "      <td>25995</td>\n",
       "      <td>6000</td>\n",
       "    </tr>\n",
       "    <tr>\n",
       "      <th>4340</th>\n",
       "      <td>2</td>\n",
       "      <td>22000</td>\n",
       "      <td>17000</td>\n",
       "    </tr>\n",
       "    <tr>\n",
       "      <th>4371</th>\n",
       "      <td>2</td>\n",
       "      <td>22499</td>\n",
       "      <td>14000</td>\n",
       "    </tr>\n",
       "    <tr>\n",
       "      <th>4724</th>\n",
       "      <td>2</td>\n",
       "      <td>12500</td>\n",
       "      <td>33893</td>\n",
       "    </tr>\n",
       "    <tr>\n",
       "      <th>4763</th>\n",
       "      <td>2</td>\n",
       "      <td>21200</td>\n",
       "      <td>15432</td>\n",
       "    </tr>\n",
       "    <tr>\n",
       "      <th>4841</th>\n",
       "      <td>2</td>\n",
       "      <td>14299</td>\n",
       "      <td>33395</td>\n",
       "    </tr>\n",
       "    <tr>\n",
       "      <th>5016</th>\n",
       "      <td>2</td>\n",
       "      <td>19996</td>\n",
       "      <td>8546</td>\n",
       "    </tr>\n",
       "    <tr>\n",
       "      <th>5021</th>\n",
       "      <td>2</td>\n",
       "      <td>25490</td>\n",
       "      <td>27284</td>\n",
       "    </tr>\n",
       "    <tr>\n",
       "      <th>5025</th>\n",
       "      <td>2</td>\n",
       "      <td>16490</td>\n",
       "      <td>15300</td>\n",
       "    </tr>\n",
       "    <tr>\n",
       "      <th>5079</th>\n",
       "      <td>2</td>\n",
       "      <td>18290</td>\n",
       "      <td>13868</td>\n",
       "    </tr>\n",
       "    <tr>\n",
       "      <th>5167</th>\n",
       "      <td>2</td>\n",
       "      <td>14494</td>\n",
       "      <td>7132</td>\n",
       "    </tr>\n",
       "    <tr>\n",
       "      <th>5194</th>\n",
       "      <td>2</td>\n",
       "      <td>17499</td>\n",
       "      <td>6683</td>\n",
       "    </tr>\n",
       "    <tr>\n",
       "      <th>5206</th>\n",
       "      <td>2</td>\n",
       "      <td>15979</td>\n",
       "      <td>9956</td>\n",
       "    </tr>\n",
       "    <tr>\n",
       "      <th>5323</th>\n",
       "      <td>2</td>\n",
       "      <td>22495</td>\n",
       "      <td>13054</td>\n",
       "    </tr>\n",
       "    <tr>\n",
       "      <th>5324</th>\n",
       "      <td>2</td>\n",
       "      <td>22495</td>\n",
       "      <td>13181</td>\n",
       "    </tr>\n",
       "    <tr>\n",
       "      <th>5349</th>\n",
       "      <td>2</td>\n",
       "      <td>26000</td>\n",
       "      <td>18815</td>\n",
       "    </tr>\n",
       "    <tr>\n",
       "      <th>5364</th>\n",
       "      <td>2</td>\n",
       "      <td>25475</td>\n",
       "      <td>15762</td>\n",
       "    </tr>\n",
       "    <tr>\n",
       "      <th>5419</th>\n",
       "      <td>2</td>\n",
       "      <td>24750</td>\n",
       "      <td>21500</td>\n",
       "    </tr>\n",
       "    <tr>\n",
       "      <th>5430</th>\n",
       "      <td>2</td>\n",
       "      <td>19349</td>\n",
       "      <td>7719</td>\n",
       "    </tr>\n",
       "    <tr>\n",
       "      <th>5448</th>\n",
       "      <td>2</td>\n",
       "      <td>23249</td>\n",
       "      <td>31238</td>\n",
       "    </tr>\n",
       "    <tr>\n",
       "      <th>5459</th>\n",
       "      <td>2</td>\n",
       "      <td>17798</td>\n",
       "      <td>9022</td>\n",
       "    </tr>\n",
       "    <tr>\n",
       "      <th>5466</th>\n",
       "      <td>2</td>\n",
       "      <td>24495</td>\n",
       "      <td>14000</td>\n",
       "    </tr>\n",
       "    <tr>\n",
       "      <th>5496</th>\n",
       "      <td>2</td>\n",
       "      <td>15200</td>\n",
       "      <td>14149</td>\n",
       "    </tr>\n",
       "    <tr>\n",
       "      <th>5541</th>\n",
       "      <td>2</td>\n",
       "      <td>12000</td>\n",
       "      <td>33702</td>\n",
       "    </tr>\n",
       "    <tr>\n",
       "      <th>5542</th>\n",
       "      <td>2</td>\n",
       "      <td>11800</td>\n",
       "      <td>36890</td>\n",
       "    </tr>\n",
       "  </tbody>\n",
       "</table>\n",
       "</div>"
      ],
      "text/plain": [
       "      age  price  mileage\n",
       "747     2  22000    10130\n",
       "757     2  23799     8725\n",
       "907     2  17985     6372\n",
       "1822    2  25995     6000\n",
       "4340    2  22000    17000\n",
       "4371    2  22499    14000\n",
       "4724    2  12500    33893\n",
       "4763    2  21200    15432\n",
       "4841    2  14299    33395\n",
       "5016    2  19996     8546\n",
       "5021    2  25490    27284\n",
       "5025    2  16490    15300\n",
       "5079    2  18290    13868\n",
       "5167    2  14494     7132\n",
       "5194    2  17499     6683\n",
       "5206    2  15979     9956\n",
       "5323    2  22495    13054\n",
       "5324    2  22495    13181\n",
       "5349    2  26000    18815\n",
       "5364    2  25475    15762\n",
       "5419    2  24750    21500\n",
       "5430    2  19349     7719\n",
       "5448    2  23249    31238\n",
       "5459    2  17798     9022\n",
       "5466    2  24495    14000\n",
       "5496    2  15200    14149\n",
       "5541    2  12000    33702\n",
       "5542    2  11800    36890"
      ]
     },
     "execution_count": 28,
     "metadata": {},
     "output_type": "execute_result"
    }
   ],
   "source": [
    "vw_golf[vw_golf['age'] == age]"
   ]
  },
  {
   "cell_type": "markdown",
   "id": "f80c2ce9-c0a3-42fd-8865-ec273b570fa1",
   "metadata": {},
   "source": [
    "Количество элементов выборки, выборочное среднее, дисперсия и средне квадратичное отклонение цены и пробега"
   ]
  },
  {
   "cell_type": "code",
   "execution_count": 29,
   "id": "a9dea8b1-dbdd-407d-a58a-0c3c5854b6f9",
   "metadata": {},
   "outputs": [
    {
     "data": {
      "text/plain": [
       "28"
      ]
     },
     "execution_count": 29,
     "metadata": {},
     "output_type": "execute_result"
    }
   ],
   "source": [
    "len(vw_golf[vw_golf['age'] == age])"
   ]
  },
  {
   "cell_type": "markdown",
   "id": "e6311c92-a61a-44e7-bc38-67c0f6bd8a15",
   "metadata": {},
   "source": [
    "Цена"
   ]
  },
  {
   "cell_type": "code",
   "execution_count": 30,
   "id": "193201ab-068f-439c-85b5-409355b26a0a",
   "metadata": {},
   "outputs": [
    {
     "data": {
      "text/plain": [
       "19843.60714285714"
      ]
     },
     "execution_count": 30,
     "metadata": {},
     "output_type": "execute_result"
    }
   ],
   "source": [
    "vw_golf[vw_golf['age'] == age]['price'].mean()"
   ]
  },
  {
   "cell_type": "code",
   "execution_count": 31,
   "id": "8ee8cb99-c412-476a-b491-8cd3b5b93bd1",
   "metadata": {},
   "outputs": [
    {
     "data": {
      "text/plain": [
       "20281844.76587302"
      ]
     },
     "execution_count": 31,
     "metadata": {},
     "output_type": "execute_result"
    }
   ],
   "source": [
    "vw_golf[vw_golf['age'] == age]['price'].var()"
   ]
  },
  {
   "cell_type": "code",
   "execution_count": 32,
   "id": "28284d8e-acba-4554-8a72-203052e2feb6",
   "metadata": {},
   "outputs": [
    {
     "data": {
      "text/plain": [
       "4503.536917343192"
      ]
     },
     "execution_count": 32,
     "metadata": {},
     "output_type": "execute_result"
    }
   ],
   "source": [
    "vw_golf[vw_golf['age'] == age]['price'].var()**(1/2)"
   ]
  },
  {
   "cell_type": "markdown",
   "id": "903271a3-25ce-4e73-bb05-9a4ccdec2c51",
   "metadata": {},
   "source": [
    "Пробег"
   ]
  },
  {
   "cell_type": "code",
   "execution_count": 33,
   "id": "88e93ee5-f84f-4202-aa4d-02813b5e16b0",
   "metadata": {},
   "outputs": [
    {
     "data": {
      "text/plain": [
       "16526.714285714286"
      ]
     },
     "execution_count": 33,
     "metadata": {},
     "output_type": "execute_result"
    }
   ],
   "source": [
    "vw_golf[vw_golf['age'] == age]['mileage'].mean()"
   ]
  },
  {
   "cell_type": "code",
   "execution_count": 34,
   "id": "af0a666e-8398-4c30-848d-493fb711a426",
   "metadata": {},
   "outputs": [
    {
     "data": {
      "text/plain": [
       "90806844.8042328"
      ]
     },
     "execution_count": 34,
     "metadata": {},
     "output_type": "execute_result"
    }
   ],
   "source": [
    "vw_golf[vw_golf['age'] == age]['mileage'].var()"
   ]
  },
  {
   "cell_type": "code",
   "execution_count": 35,
   "id": "4cce6bb3-9c05-425c-b159-c186581d8a4d",
   "metadata": {},
   "outputs": [
    {
     "data": {
      "text/plain": [
       "9529.262553011791"
      ]
     },
     "execution_count": 35,
     "metadata": {},
     "output_type": "execute_result"
    }
   ],
   "source": [
    "vw_golf[vw_golf['age'] == age]['mileage'].var()**(1/2)"
   ]
  },
  {
   "cell_type": "markdown",
   "id": "de929523-0afd-423b-abf3-0d4ba699f579",
   "metadata": {},
   "source": [
    "## Машины возрастом от 3 лет до 4 лет (age = 3)"
   ]
  },
  {
   "cell_type": "code",
   "execution_count": 36,
   "id": "79523959-a4ce-495d-87e8-b71b551bd734",
   "metadata": {},
   "outputs": [],
   "source": [
    "age = 3"
   ]
  },
  {
   "cell_type": "code",
   "execution_count": 37,
   "id": "2a7b6990-ba7a-4b92-8829-65d08d23449e",
   "metadata": {},
   "outputs": [
    {
     "data": {
      "text/html": [
       "<div>\n",
       "<style scoped>\n",
       "    .dataframe tbody tr th:only-of-type {\n",
       "        vertical-align: middle;\n",
       "    }\n",
       "\n",
       "    .dataframe tbody tr th {\n",
       "        vertical-align: top;\n",
       "    }\n",
       "\n",
       "    .dataframe thead th {\n",
       "        text-align: right;\n",
       "    }\n",
       "</style>\n",
       "<table border=\"1\" class=\"dataframe\">\n",
       "  <thead>\n",
       "    <tr style=\"text-align: right;\">\n",
       "      <th></th>\n",
       "      <th>age</th>\n",
       "      <th>price</th>\n",
       "      <th>mileage</th>\n",
       "    </tr>\n",
       "  </thead>\n",
       "  <tbody>\n",
       "    <tr>\n",
       "      <th>737</th>\n",
       "      <td>3</td>\n",
       "      <td>16491</td>\n",
       "      <td>20693</td>\n",
       "    </tr>\n",
       "    <tr>\n",
       "      <th>1640</th>\n",
       "      <td>3</td>\n",
       "      <td>12937</td>\n",
       "      <td>18462</td>\n",
       "    </tr>\n",
       "    <tr>\n",
       "      <th>1976</th>\n",
       "      <td>3</td>\n",
       "      <td>23872</td>\n",
       "      <td>15435</td>\n",
       "    </tr>\n",
       "    <tr>\n",
       "      <th>2610</th>\n",
       "      <td>3</td>\n",
       "      <td>18490</td>\n",
       "      <td>6230</td>\n",
       "    </tr>\n",
       "    <tr>\n",
       "      <th>4111</th>\n",
       "      <td>3</td>\n",
       "      <td>24800</td>\n",
       "      <td>11656</td>\n",
       "    </tr>\n",
       "    <tr>\n",
       "      <th>4339</th>\n",
       "      <td>3</td>\n",
       "      <td>12000</td>\n",
       "      <td>27000</td>\n",
       "    </tr>\n",
       "    <tr>\n",
       "      <th>4380</th>\n",
       "      <td>3</td>\n",
       "      <td>16799</td>\n",
       "      <td>10100</td>\n",
       "    </tr>\n",
       "    <tr>\n",
       "      <th>4461</th>\n",
       "      <td>3</td>\n",
       "      <td>21990</td>\n",
       "      <td>35000</td>\n",
       "    </tr>\n",
       "    <tr>\n",
       "      <th>4525</th>\n",
       "      <td>3</td>\n",
       "      <td>21990</td>\n",
       "      <td>22000</td>\n",
       "    </tr>\n",
       "    <tr>\n",
       "      <th>4627</th>\n",
       "      <td>3</td>\n",
       "      <td>19799</td>\n",
       "      <td>13510</td>\n",
       "    </tr>\n",
       "    <tr>\n",
       "      <th>4727</th>\n",
       "      <td>3</td>\n",
       "      <td>24300</td>\n",
       "      <td>13027</td>\n",
       "    </tr>\n",
       "    <tr>\n",
       "      <th>4737</th>\n",
       "      <td>3</td>\n",
       "      <td>22000</td>\n",
       "      <td>20102</td>\n",
       "    </tr>\n",
       "    <tr>\n",
       "      <th>4765</th>\n",
       "      <td>3</td>\n",
       "      <td>20000</td>\n",
       "      <td>34299</td>\n",
       "    </tr>\n",
       "    <tr>\n",
       "      <th>4772</th>\n",
       "      <td>3</td>\n",
       "      <td>22800</td>\n",
       "      <td>32967</td>\n",
       "    </tr>\n",
       "    <tr>\n",
       "      <th>4894</th>\n",
       "      <td>3</td>\n",
       "      <td>12850</td>\n",
       "      <td>34606</td>\n",
       "    </tr>\n",
       "    <tr>\n",
       "      <th>4989</th>\n",
       "      <td>3</td>\n",
       "      <td>20980</td>\n",
       "      <td>7563</td>\n",
       "    </tr>\n",
       "    <tr>\n",
       "      <th>4998</th>\n",
       "      <td>3</td>\n",
       "      <td>14375</td>\n",
       "      <td>12029</td>\n",
       "    </tr>\n",
       "    <tr>\n",
       "      <th>5247</th>\n",
       "      <td>3</td>\n",
       "      <td>14000</td>\n",
       "      <td>11401</td>\n",
       "    </tr>\n",
       "    <tr>\n",
       "      <th>5271</th>\n",
       "      <td>3</td>\n",
       "      <td>14000</td>\n",
       "      <td>17000</td>\n",
       "    </tr>\n",
       "    <tr>\n",
       "      <th>5294</th>\n",
       "      <td>3</td>\n",
       "      <td>18299</td>\n",
       "      <td>30157</td>\n",
       "    </tr>\n",
       "    <tr>\n",
       "      <th>5307</th>\n",
       "      <td>3</td>\n",
       "      <td>18000</td>\n",
       "      <td>20677</td>\n",
       "    </tr>\n",
       "    <tr>\n",
       "      <th>5327</th>\n",
       "      <td>3</td>\n",
       "      <td>20000</td>\n",
       "      <td>35000</td>\n",
       "    </tr>\n",
       "    <tr>\n",
       "      <th>5351</th>\n",
       "      <td>3</td>\n",
       "      <td>19500</td>\n",
       "      <td>18895</td>\n",
       "    </tr>\n",
       "    <tr>\n",
       "      <th>5352</th>\n",
       "      <td>3</td>\n",
       "      <td>17770</td>\n",
       "      <td>18608</td>\n",
       "    </tr>\n",
       "    <tr>\n",
       "      <th>5417</th>\n",
       "      <td>3</td>\n",
       "      <td>26000</td>\n",
       "      <td>19304</td>\n",
       "    </tr>\n",
       "    <tr>\n",
       "      <th>5519</th>\n",
       "      <td>3</td>\n",
       "      <td>13500</td>\n",
       "      <td>19933</td>\n",
       "    </tr>\n",
       "    <tr>\n",
       "      <th>5520</th>\n",
       "      <td>3</td>\n",
       "      <td>13250</td>\n",
       "      <td>28550</td>\n",
       "    </tr>\n",
       "    <tr>\n",
       "      <th>5536</th>\n",
       "      <td>3</td>\n",
       "      <td>13995</td>\n",
       "      <td>7000</td>\n",
       "    </tr>\n",
       "  </tbody>\n",
       "</table>\n",
       "</div>"
      ],
      "text/plain": [
       "      age  price  mileage\n",
       "737     3  16491    20693\n",
       "1640    3  12937    18462\n",
       "1976    3  23872    15435\n",
       "2610    3  18490     6230\n",
       "4111    3  24800    11656\n",
       "4339    3  12000    27000\n",
       "4380    3  16799    10100\n",
       "4461    3  21990    35000\n",
       "4525    3  21990    22000\n",
       "4627    3  19799    13510\n",
       "4727    3  24300    13027\n",
       "4737    3  22000    20102\n",
       "4765    3  20000    34299\n",
       "4772    3  22800    32967\n",
       "4894    3  12850    34606\n",
       "4989    3  20980     7563\n",
       "4998    3  14375    12029\n",
       "5247    3  14000    11401\n",
       "5271    3  14000    17000\n",
       "5294    3  18299    30157\n",
       "5307    3  18000    20677\n",
       "5327    3  20000    35000\n",
       "5351    3  19500    18895\n",
       "5352    3  17770    18608\n",
       "5417    3  26000    19304\n",
       "5519    3  13500    19933\n",
       "5520    3  13250    28550\n",
       "5536    3  13995     7000"
      ]
     },
     "execution_count": 37,
     "metadata": {},
     "output_type": "execute_result"
    }
   ],
   "source": [
    "vw_golf[vw_golf['age'] == age]"
   ]
  },
  {
   "cell_type": "markdown",
   "id": "61301ed0-e907-4ec4-a027-3b9d2cd1a03b",
   "metadata": {},
   "source": [
    "Количество элементов выборки, выборочное среднее, дисперсия и средне квадратичное отклонение цены и пробега"
   ]
  },
  {
   "cell_type": "code",
   "execution_count": 38,
   "id": "b13d00cb-24ff-40f1-b0ef-df9f68615ac9",
   "metadata": {},
   "outputs": [
    {
     "data": {
      "text/plain": [
       "28"
      ]
     },
     "execution_count": 38,
     "metadata": {},
     "output_type": "execute_result"
    }
   ],
   "source": [
    "len(vw_golf[vw_golf['age'] == age])"
   ]
  },
  {
   "cell_type": "markdown",
   "id": "aa57ec28-76b9-4724-8a41-713f1e5660b4",
   "metadata": {},
   "source": [
    "Цена"
   ]
  },
  {
   "cell_type": "code",
   "execution_count": 39,
   "id": "0ae942a9-d7e5-4d86-b47b-52ccc39500ac",
   "metadata": {},
   "outputs": [
    {
     "data": {
      "text/plain": [
       "18385.25"
      ]
     },
     "execution_count": 39,
     "metadata": {},
     "output_type": "execute_result"
    }
   ],
   "source": [
    "vw_golf[vw_golf['age'] == age]['price'].mean()"
   ]
  },
  {
   "cell_type": "code",
   "execution_count": 40,
   "id": "9cb8d1d4-a623-41e1-a464-206db7827986",
   "metadata": {},
   "outputs": [
    {
     "data": {
      "text/plain": [
       "17398266.490740743"
      ]
     },
     "execution_count": 40,
     "metadata": {},
     "output_type": "execute_result"
    }
   ],
   "source": [
    "vw_golf[vw_golf['age'] == age]['price'].var()"
   ]
  },
  {
   "cell_type": "code",
   "execution_count": 41,
   "id": "a5372887-3579-4f3f-9c68-a47c417277dc",
   "metadata": {},
   "outputs": [
    {
     "data": {
      "text/plain": [
       "4171.122929229099"
      ]
     },
     "execution_count": 41,
     "metadata": {},
     "output_type": "execute_result"
    }
   ],
   "source": [
    "vw_golf[vw_golf['age'] == age]['price'].var()**(1/2)"
   ]
  },
  {
   "cell_type": "markdown",
   "id": "cec51ce2-0a26-4470-93c2-0497ad1deb76",
   "metadata": {},
   "source": [
    "Пробег"
   ]
  },
  {
   "cell_type": "code",
   "execution_count": 42,
   "id": "fba8b8e2-7af1-4f61-81ac-267f93d6fe16",
   "metadata": {},
   "outputs": [
    {
     "data": {
      "text/plain": [
       "20043.0"
      ]
     },
     "execution_count": 42,
     "metadata": {},
     "output_type": "execute_result"
    }
   ],
   "source": [
    "vw_golf[vw_golf['age'] == age]['mileage'].mean()"
   ]
  },
  {
   "cell_type": "code",
   "execution_count": 43,
   "id": "40da1d86-bedd-4e4f-9da0-536611985eeb",
   "metadata": {},
   "outputs": [
    {
     "data": {
      "text/plain": [
       "81892704.5925926"
      ]
     },
     "execution_count": 43,
     "metadata": {},
     "output_type": "execute_result"
    }
   ],
   "source": [
    "vw_golf[vw_golf['age'] == age]['mileage'].var()"
   ]
  },
  {
   "cell_type": "code",
   "execution_count": 44,
   "id": "d2e26776-1e8e-45f7-9df5-1cba2512bb00",
   "metadata": {},
   "outputs": [
    {
     "data": {
      "text/plain": [
       "9049.458801088196"
      ]
     },
     "execution_count": 44,
     "metadata": {},
     "output_type": "execute_result"
    }
   ],
   "source": [
    "vw_golf[vw_golf['age'] == age]['mileage'].var()**(1/2)"
   ]
  },
  {
   "cell_type": "markdown",
   "id": "6b15daa3-d83b-4e5e-b81e-614cea18d783",
   "metadata": {},
   "source": [
    "## Машины возрастом от 4 лет до 5 лет (age = 4)"
   ]
  },
  {
   "cell_type": "code",
   "execution_count": 45,
   "id": "2dd88dab-e5a0-4637-b9eb-1f7736014a99",
   "metadata": {},
   "outputs": [],
   "source": [
    "age = 4"
   ]
  },
  {
   "cell_type": "code",
   "execution_count": 46,
   "id": "7db64f55-295e-4381-9ac1-5b56828c6276",
   "metadata": {},
   "outputs": [
    {
     "data": {
      "text/html": [
       "<div>\n",
       "<style scoped>\n",
       "    .dataframe tbody tr th:only-of-type {\n",
       "        vertical-align: middle;\n",
       "    }\n",
       "\n",
       "    .dataframe tbody tr th {\n",
       "        vertical-align: top;\n",
       "    }\n",
       "\n",
       "    .dataframe thead th {\n",
       "        text-align: right;\n",
       "    }\n",
       "</style>\n",
       "<table border=\"1\" class=\"dataframe\">\n",
       "  <thead>\n",
       "    <tr style=\"text-align: right;\">\n",
       "      <th></th>\n",
       "      <th>age</th>\n",
       "      <th>price</th>\n",
       "      <th>mileage</th>\n",
       "    </tr>\n",
       "  </thead>\n",
       "  <tbody>\n",
       "    <tr>\n",
       "      <th>1950</th>\n",
       "      <td>4</td>\n",
       "      <td>13180</td>\n",
       "      <td>13733</td>\n",
       "    </tr>\n",
       "    <tr>\n",
       "      <th>4397</th>\n",
       "      <td>4</td>\n",
       "      <td>20400</td>\n",
       "      <td>42666</td>\n",
       "    </tr>\n",
       "    <tr>\n",
       "      <th>4400</th>\n",
       "      <td>4</td>\n",
       "      <td>13800</td>\n",
       "      <td>27710</td>\n",
       "    </tr>\n",
       "    <tr>\n",
       "      <th>4479</th>\n",
       "      <td>4</td>\n",
       "      <td>11499</td>\n",
       "      <td>40827</td>\n",
       "    </tr>\n",
       "    <tr>\n",
       "      <th>4501</th>\n",
       "      <td>4</td>\n",
       "      <td>18990</td>\n",
       "      <td>39000</td>\n",
       "    </tr>\n",
       "    <tr>\n",
       "      <th>4506</th>\n",
       "      <td>4</td>\n",
       "      <td>17549</td>\n",
       "      <td>45256</td>\n",
       "    </tr>\n",
       "    <tr>\n",
       "      <th>4522</th>\n",
       "      <td>4</td>\n",
       "      <td>14199</td>\n",
       "      <td>12140</td>\n",
       "    </tr>\n",
       "    <tr>\n",
       "      <th>4612</th>\n",
       "      <td>4</td>\n",
       "      <td>18769</td>\n",
       "      <td>14837</td>\n",
       "    </tr>\n",
       "    <tr>\n",
       "      <th>4614</th>\n",
       "      <td>4</td>\n",
       "      <td>18241</td>\n",
       "      <td>52943</td>\n",
       "    </tr>\n",
       "    <tr>\n",
       "      <th>4626</th>\n",
       "      <td>4</td>\n",
       "      <td>22999</td>\n",
       "      <td>10339</td>\n",
       "    </tr>\n",
       "    <tr>\n",
       "      <th>4630</th>\n",
       "      <td>4</td>\n",
       "      <td>19999</td>\n",
       "      <td>28754</td>\n",
       "    </tr>\n",
       "    <tr>\n",
       "      <th>4656</th>\n",
       "      <td>4</td>\n",
       "      <td>19990</td>\n",
       "      <td>38719</td>\n",
       "    </tr>\n",
       "    <tr>\n",
       "      <th>4733</th>\n",
       "      <td>4</td>\n",
       "      <td>21000</td>\n",
       "      <td>31657</td>\n",
       "    </tr>\n",
       "    <tr>\n",
       "      <th>4735</th>\n",
       "      <td>4</td>\n",
       "      <td>20000</td>\n",
       "      <td>18358</td>\n",
       "    </tr>\n",
       "    <tr>\n",
       "      <th>4748</th>\n",
       "      <td>4</td>\n",
       "      <td>8495</td>\n",
       "      <td>66509</td>\n",
       "    </tr>\n",
       "    <tr>\n",
       "      <th>4777</th>\n",
       "      <td>4</td>\n",
       "      <td>21500</td>\n",
       "      <td>21924</td>\n",
       "    </tr>\n",
       "    <tr>\n",
       "      <th>4854</th>\n",
       "      <td>4</td>\n",
       "      <td>19500</td>\n",
       "      <td>33001</td>\n",
       "    </tr>\n",
       "    <tr>\n",
       "      <th>4855</th>\n",
       "      <td>4</td>\n",
       "      <td>17500</td>\n",
       "      <td>33055</td>\n",
       "    </tr>\n",
       "    <tr>\n",
       "      <th>4897</th>\n",
       "      <td>4</td>\n",
       "      <td>13499</td>\n",
       "      <td>16827</td>\n",
       "    </tr>\n",
       "    <tr>\n",
       "      <th>5032</th>\n",
       "      <td>4</td>\n",
       "      <td>21490</td>\n",
       "      <td>15139</td>\n",
       "    </tr>\n",
       "    <tr>\n",
       "      <th>5073</th>\n",
       "      <td>4</td>\n",
       "      <td>17490</td>\n",
       "      <td>24400</td>\n",
       "    </tr>\n",
       "    <tr>\n",
       "      <th>5193</th>\n",
       "      <td>4</td>\n",
       "      <td>20000</td>\n",
       "      <td>52042</td>\n",
       "    </tr>\n",
       "    <tr>\n",
       "      <th>5196</th>\n",
       "      <td>4</td>\n",
       "      <td>13499</td>\n",
       "      <td>9059</td>\n",
       "    </tr>\n",
       "    <tr>\n",
       "      <th>5217</th>\n",
       "      <td>4</td>\n",
       "      <td>17999</td>\n",
       "      <td>15896</td>\n",
       "    </tr>\n",
       "    <tr>\n",
       "      <th>5231</th>\n",
       "      <td>4</td>\n",
       "      <td>19999</td>\n",
       "      <td>12140</td>\n",
       "    </tr>\n",
       "    <tr>\n",
       "      <th>5338</th>\n",
       "      <td>4</td>\n",
       "      <td>15990</td>\n",
       "      <td>14000</td>\n",
       "    </tr>\n",
       "    <tr>\n",
       "      <th>5345</th>\n",
       "      <td>4</td>\n",
       "      <td>13770</td>\n",
       "      <td>35297</td>\n",
       "    </tr>\n",
       "    <tr>\n",
       "      <th>5354</th>\n",
       "      <td>4</td>\n",
       "      <td>14370</td>\n",
       "      <td>15788</td>\n",
       "    </tr>\n",
       "    <tr>\n",
       "      <th>5425</th>\n",
       "      <td>4</td>\n",
       "      <td>13495</td>\n",
       "      <td>30526</td>\n",
       "    </tr>\n",
       "    <tr>\n",
       "      <th>5449</th>\n",
       "      <td>4</td>\n",
       "      <td>19495</td>\n",
       "      <td>44344</td>\n",
       "    </tr>\n",
       "    <tr>\n",
       "      <th>5537</th>\n",
       "      <td>4</td>\n",
       "      <td>17495</td>\n",
       "      <td>1000</td>\n",
       "    </tr>\n",
       "    <tr>\n",
       "      <th>5592</th>\n",
       "      <td>4</td>\n",
       "      <td>11950</td>\n",
       "      <td>41725</td>\n",
       "    </tr>\n",
       "  </tbody>\n",
       "</table>\n",
       "</div>"
      ],
      "text/plain": [
       "      age  price  mileage\n",
       "1950    4  13180    13733\n",
       "4397    4  20400    42666\n",
       "4400    4  13800    27710\n",
       "4479    4  11499    40827\n",
       "4501    4  18990    39000\n",
       "4506    4  17549    45256\n",
       "4522    4  14199    12140\n",
       "4612    4  18769    14837\n",
       "4614    4  18241    52943\n",
       "4626    4  22999    10339\n",
       "4630    4  19999    28754\n",
       "4656    4  19990    38719\n",
       "4733    4  21000    31657\n",
       "4735    4  20000    18358\n",
       "4748    4   8495    66509\n",
       "4777    4  21500    21924\n",
       "4854    4  19500    33001\n",
       "4855    4  17500    33055\n",
       "4897    4  13499    16827\n",
       "5032    4  21490    15139\n",
       "5073    4  17490    24400\n",
       "5193    4  20000    52042\n",
       "5196    4  13499     9059\n",
       "5217    4  17999    15896\n",
       "5231    4  19999    12140\n",
       "5338    4  15990    14000\n",
       "5345    4  13770    35297\n",
       "5354    4  14370    15788\n",
       "5425    4  13495    30526\n",
       "5449    4  19495    44344\n",
       "5537    4  17495     1000\n",
       "5592    4  11950    41725"
      ]
     },
     "execution_count": 46,
     "metadata": {},
     "output_type": "execute_result"
    }
   ],
   "source": [
    "vw_golf[vw_golf['age'] == age]"
   ]
  },
  {
   "cell_type": "markdown",
   "id": "5f1b4503-4907-4eb2-ac9b-ecf62c6ab800",
   "metadata": {},
   "source": [
    "Количество элементов выборки, выборочное среднее, дисперсия и средне квадратичное отклонение цены и пробега"
   ]
  },
  {
   "cell_type": "code",
   "execution_count": 47,
   "id": "d98314f8-d786-4c1f-979f-908965fd26df",
   "metadata": {},
   "outputs": [
    {
     "data": {
      "text/plain": [
       "32"
      ]
     },
     "execution_count": 47,
     "metadata": {},
     "output_type": "execute_result"
    }
   ],
   "source": [
    "len(vw_golf[vw_golf['age'] == age])"
   ]
  },
  {
   "cell_type": "markdown",
   "id": "1bc3424b-6961-4503-9f71-2138177f539d",
   "metadata": {},
   "source": [
    "Цена"
   ]
  },
  {
   "cell_type": "code",
   "execution_count": 48,
   "id": "2626ad75-e8e7-4853-9b71-ca5473e65e2c",
   "metadata": {},
   "outputs": [
    {
     "data": {
      "text/plain": [
       "17129.71875"
      ]
     },
     "execution_count": 48,
     "metadata": {},
     "output_type": "execute_result"
    }
   ],
   "source": [
    "vw_golf[vw_golf['age'] == age]['price'].mean()"
   ]
  },
  {
   "cell_type": "code",
   "execution_count": 49,
   "id": "1dbf5b20-bbaf-420a-9bbd-0c928b2fc665",
   "metadata": {},
   "outputs": [
    {
     "data": {
      "text/plain": [
       "12497815.757056452"
      ]
     },
     "execution_count": 49,
     "metadata": {},
     "output_type": "execute_result"
    }
   ],
   "source": [
    "vw_golf[vw_golf['age'] == age]['price'].var()"
   ]
  },
  {
   "cell_type": "code",
   "execution_count": 50,
   "id": "e9f9bc83-fa3f-4f09-bda9-cfd4378783d3",
   "metadata": {},
   "outputs": [
    {
     "data": {
      "text/plain": [
       "3535.2249938379387"
      ]
     },
     "execution_count": 50,
     "metadata": {},
     "output_type": "execute_result"
    }
   ],
   "source": [
    "vw_golf[vw_golf['age'] == age]['price'].var()**(1/2)"
   ]
  },
  {
   "cell_type": "markdown",
   "id": "7d6b6a30-b9ec-45d0-a21a-a8147c43894b",
   "metadata": {},
   "source": [
    "Пробег"
   ]
  },
  {
   "cell_type": "code",
   "execution_count": 51,
   "id": "fda5dd0c-4b89-4693-83f7-aa8d697f3043",
   "metadata": {},
   "outputs": [
    {
     "data": {
      "text/plain": [
       "28112.84375"
      ]
     },
     "execution_count": 51,
     "metadata": {},
     "output_type": "execute_result"
    }
   ],
   "source": [
    "vw_golf[vw_golf['age'] == age]['mileage'].mean()"
   ]
  },
  {
   "cell_type": "code",
   "execution_count": 52,
   "id": "7e5904b4-0235-4315-a01f-33fb3af0a2d4",
   "metadata": {},
   "outputs": [
    {
     "data": {
      "text/plain": [
       "238064682.07157257"
      ]
     },
     "execution_count": 52,
     "metadata": {},
     "output_type": "execute_result"
    }
   ],
   "source": [
    "vw_golf[vw_golf['age'] == age]['mileage'].var()"
   ]
  },
  {
   "cell_type": "code",
   "execution_count": 53,
   "id": "40605335-b1c7-483a-8d84-87c1b66c6378",
   "metadata": {},
   "outputs": [
    {
     "data": {
      "text/plain": [
       "15429.344836109296"
      ]
     },
     "execution_count": 53,
     "metadata": {},
     "output_type": "execute_result"
    }
   ],
   "source": [
    "vw_golf[vw_golf['age'] == age]['mileage'].var()**(1/2)"
   ]
  },
  {
   "cell_type": "markdown",
   "id": "0a746e8c-8d09-4da1-a49c-f4b1b6effea4",
   "metadata": {},
   "source": [
    "## Машины возрастом от 5 лет до 6 лет (age = 5)"
   ]
  },
  {
   "cell_type": "code",
   "execution_count": 54,
   "id": "0706472d-f125-4474-8bcb-d716a9259f0d",
   "metadata": {},
   "outputs": [],
   "source": [
    "age = 5"
   ]
  },
  {
   "cell_type": "code",
   "execution_count": 55,
   "id": "97ad309e-77ef-46bb-b25b-88e9e30ccd8a",
   "metadata": {},
   "outputs": [
    {
     "data": {
      "text/html": [
       "<div>\n",
       "<style scoped>\n",
       "    .dataframe tbody tr th:only-of-type {\n",
       "        vertical-align: middle;\n",
       "    }\n",
       "\n",
       "    .dataframe tbody tr th {\n",
       "        vertical-align: top;\n",
       "    }\n",
       "\n",
       "    .dataframe thead th {\n",
       "        text-align: right;\n",
       "    }\n",
       "</style>\n",
       "<table border=\"1\" class=\"dataframe\">\n",
       "  <thead>\n",
       "    <tr style=\"text-align: right;\">\n",
       "      <th></th>\n",
       "      <th>age</th>\n",
       "      <th>price</th>\n",
       "      <th>mileage</th>\n",
       "    </tr>\n",
       "  </thead>\n",
       "  <tbody>\n",
       "    <tr>\n",
       "      <th>735</th>\n",
       "      <td>5</td>\n",
       "      <td>19390</td>\n",
       "      <td>20031</td>\n",
       "    </tr>\n",
       "    <tr>\n",
       "      <th>4449</th>\n",
       "      <td>5</td>\n",
       "      <td>16990</td>\n",
       "      <td>40000</td>\n",
       "    </tr>\n",
       "    <tr>\n",
       "      <th>4459</th>\n",
       "      <td>5</td>\n",
       "      <td>12990</td>\n",
       "      <td>78000</td>\n",
       "    </tr>\n",
       "    <tr>\n",
       "      <th>4543</th>\n",
       "      <td>5</td>\n",
       "      <td>11999</td>\n",
       "      <td>19669</td>\n",
       "    </tr>\n",
       "    <tr>\n",
       "      <th>4634</th>\n",
       "      <td>5</td>\n",
       "      <td>17199</td>\n",
       "      <td>56354</td>\n",
       "    </tr>\n",
       "    <tr>\n",
       "      <th>4675</th>\n",
       "      <td>5</td>\n",
       "      <td>20000</td>\n",
       "      <td>29706</td>\n",
       "    </tr>\n",
       "    <tr>\n",
       "      <th>4728</th>\n",
       "      <td>5</td>\n",
       "      <td>13500</td>\n",
       "      <td>14571</td>\n",
       "    </tr>\n",
       "    <tr>\n",
       "      <th>4778</th>\n",
       "      <td>5</td>\n",
       "      <td>12800</td>\n",
       "      <td>10315</td>\n",
       "    </tr>\n",
       "    <tr>\n",
       "      <th>5008</th>\n",
       "      <td>5</td>\n",
       "      <td>15990</td>\n",
       "      <td>43200</td>\n",
       "    </tr>\n",
       "    <tr>\n",
       "      <th>5022</th>\n",
       "      <td>5</td>\n",
       "      <td>19790</td>\n",
       "      <td>35721</td>\n",
       "    </tr>\n",
       "    <tr>\n",
       "      <th>5168</th>\n",
       "      <td>5</td>\n",
       "      <td>10995</td>\n",
       "      <td>35000</td>\n",
       "    </tr>\n",
       "    <tr>\n",
       "      <th>5248</th>\n",
       "      <td>5</td>\n",
       "      <td>16290</td>\n",
       "      <td>37635</td>\n",
       "    </tr>\n",
       "    <tr>\n",
       "      <th>5305</th>\n",
       "      <td>5</td>\n",
       "      <td>19000</td>\n",
       "      <td>34366</td>\n",
       "    </tr>\n",
       "  </tbody>\n",
       "</table>\n",
       "</div>"
      ],
      "text/plain": [
       "      age  price  mileage\n",
       "735     5  19390    20031\n",
       "4449    5  16990    40000\n",
       "4459    5  12990    78000\n",
       "4543    5  11999    19669\n",
       "4634    5  17199    56354\n",
       "4675    5  20000    29706\n",
       "4728    5  13500    14571\n",
       "4778    5  12800    10315\n",
       "5008    5  15990    43200\n",
       "5022    5  19790    35721\n",
       "5168    5  10995    35000\n",
       "5248    5  16290    37635\n",
       "5305    5  19000    34366"
      ]
     },
     "execution_count": 55,
     "metadata": {},
     "output_type": "execute_result"
    }
   ],
   "source": [
    "vw_golf[vw_golf['age'] == age]"
   ]
  },
  {
   "cell_type": "markdown",
   "id": "89b0aade-f644-4fff-a387-1482d33266b7",
   "metadata": {},
   "source": [
    "Количество элементов выборки, выборочное среднее, дисперсия и средне квадратичное отклонение цены и пробега"
   ]
  },
  {
   "cell_type": "code",
   "execution_count": 56,
   "id": "c8450678-5d54-4a8d-837a-202e7cde9530",
   "metadata": {},
   "outputs": [
    {
     "data": {
      "text/plain": [
       "13"
      ]
     },
     "execution_count": 56,
     "metadata": {},
     "output_type": "execute_result"
    }
   ],
   "source": [
    "len(vw_golf[vw_golf['age'] == age])"
   ]
  },
  {
   "cell_type": "markdown",
   "id": "e0a42a6e-a51c-4317-abd3-6aafb4e18dae",
   "metadata": {},
   "source": [
    "Цена"
   ]
  },
  {
   "cell_type": "code",
   "execution_count": 57,
   "id": "807ed952-edb8-4893-8096-00b4db55eb2d",
   "metadata": {},
   "outputs": [
    {
     "data": {
      "text/plain": [
       "15917.923076923076"
      ]
     },
     "execution_count": 57,
     "metadata": {},
     "output_type": "execute_result"
    }
   ],
   "source": [
    "vw_golf[vw_golf['age'] == age]['price'].mean()"
   ]
  },
  {
   "cell_type": "code",
   "execution_count": 58,
   "id": "5e75cb80-815d-433c-a3d9-e7e8b2c1808f",
   "metadata": {},
   "outputs": [
    {
     "data": {
      "text/plain": [
       "9989887.576923078"
      ]
     },
     "execution_count": 58,
     "metadata": {},
     "output_type": "execute_result"
    }
   ],
   "source": [
    "vw_golf[vw_golf['age'] == age]['price'].var()"
   ]
  },
  {
   "cell_type": "code",
   "execution_count": 59,
   "id": "44274c01-6efe-4388-b165-90831dd75e8b",
   "metadata": {},
   "outputs": [
    {
     "data": {
      "text/plain": [
       "3160.6783412620584"
      ]
     },
     "execution_count": 59,
     "metadata": {},
     "output_type": "execute_result"
    }
   ],
   "source": [
    "vw_golf[vw_golf['age'] == age]['price'].var()**(1/2)"
   ]
  },
  {
   "cell_type": "markdown",
   "id": "2b4ab3ce-3ad0-4b16-8f6d-9d100330995e",
   "metadata": {},
   "source": [
    "Пробег"
   ]
  },
  {
   "cell_type": "code",
   "execution_count": 60,
   "id": "315cf5da-94fc-4be1-9f4c-4e272944d1f9",
   "metadata": {},
   "outputs": [
    {
     "data": {
      "text/plain": [
       "34966.769230769234"
      ]
     },
     "execution_count": 60,
     "metadata": {},
     "output_type": "execute_result"
    }
   ],
   "source": [
    "vw_golf[vw_golf['age'] == age]['mileage'].mean()"
   ]
  },
  {
   "cell_type": "code",
   "execution_count": 61,
   "id": "66f1a402-3be4-4e11-919d-8528f5561146",
   "metadata": {},
   "outputs": [
    {
     "data": {
      "text/plain": [
       "326576183.8589744"
      ]
     },
     "execution_count": 61,
     "metadata": {},
     "output_type": "execute_result"
    }
   ],
   "source": [
    "vw_golf[vw_golf['age'] == age]['mileage'].var()"
   ]
  },
  {
   "cell_type": "code",
   "execution_count": 62,
   "id": "fd8dee01-419a-47b3-afa6-61633d7a0c52",
   "metadata": {},
   "outputs": [
    {
     "data": {
      "text/plain": [
       "18071.418977462017"
      ]
     },
     "execution_count": 62,
     "metadata": {},
     "output_type": "execute_result"
    }
   ],
   "source": [
    "vw_golf[vw_golf['age'] == age]['mileage'].var()**(1/2)"
   ]
  },
  {
   "cell_type": "markdown",
   "id": "94f3755d-b663-498c-a11e-2628e67974b8",
   "metadata": {
    "jp-MarkdownHeadingCollapsed": true
   },
   "source": [
    "# На основе этих данных можно предположить"
   ]
  },
  {
   "cell_type": "markdown",
   "id": "165c5b56-bbc2-45e1-9318-91b92d51aaa4",
   "metadata": {},
   "source": [
    "Преобладающее количество машин на вторичном рынке имеют возраст"
   ]
  },
  {
   "cell_type": "code",
   "execution_count": 63,
   "id": "6511dcb1-df36-4f02-a5ae-fef49b6b2c79",
   "metadata": {},
   "outputs": [
    {
     "name": "stdout",
     "output_type": "stream",
     "text": [
      "age = 1\n"
     ]
    }
   ],
   "source": [
    "age_of_cars = {i: len(vw_golf[vw_golf['age'] == i]) for i in sorted(vw_golf['age'].unique())}\n",
    "max_len = 0\n",
    "max_age = -1\n",
    "for age, count in age_of_cars.items():\n",
    "    if count > max_len:\n",
    "        max_len = count\n",
    "        max_age = age\n",
    "print(f'age = {max_age}')"
   ]
  },
  {
   "cell_type": "markdown",
   "id": "aa21a010-fa59-4697-92e9-f75ccc737dfd",
   "metadata": {},
   "source": [
    "Можно предположить, что цена машины коррелирует не только с возрастом, но и с пробегом"
   ]
  },
  {
   "cell_type": "markdown",
   "id": "d2f38412-22a4-4862-a0e5-6b803863207d",
   "metadata": {
    "jp-MarkdownHeadingCollapsed": true
   },
   "source": [
    "# Проверим корреляцию между ценой машины и её пробегом с помощью критерия корреляции Пирсона"
   ]
  },
  {
   "cell_type": "markdown",
   "id": "0a7b8cf2-74ec-40fe-b67c-4ee4cd934989",
   "metadata": {},
   "source": [
    "$H_0$ - гипотеза о том, что корреляции нет; $H_1$ - гипотеза о том, что корреляция есть"
   ]
  },
  {
   "cell_type": "markdown",
   "id": "f479fbb3-7f30-4693-b7d3-ca9bce67b9da",
   "metadata": {},
   "source": [
    "Уровень доверия"
   ]
  },
  {
   "cell_type": "code",
   "execution_count": 64,
   "id": "f6226ec0-5fa3-4ad2-8209-41d1ea3d131f",
   "metadata": {},
   "outputs": [],
   "source": [
    "alpha = 0.95"
   ]
  },
  {
   "cell_type": "markdown",
   "id": "6d1c7ad2-22fd-46ea-a423-d105a22b584d",
   "metadata": {},
   "source": [
    "Коэффициент корреляции Пирсона"
   ]
  },
  {
   "cell_type": "code",
   "execution_count": 65,
   "id": "94ba91a5-ce78-438b-a1a4-046f064ee376",
   "metadata": {},
   "outputs": [
    {
     "data": {
      "text/plain": [
       "-0.6197036635860743"
      ]
     },
     "execution_count": 65,
     "metadata": {},
     "output_type": "execute_result"
    }
   ],
   "source": [
    "correlation = vw_golf['price'].corr(vw_golf['mileage']) # эмпирический\n",
    "correlation"
   ]
  },
  {
   "cell_type": "markdown",
   "id": "cb9acbc8-4d1c-4d97-b8c4-8a59a3bf3dd4",
   "metadata": {},
   "source": [
    "Значение критерия при данном уровне доверия со степенями свободы = количество элементов выборки - 2"
   ]
  },
  {
   "cell_type": "code",
   "execution_count": 66,
   "id": "880c7baa-bdfb-4e2a-ad8f-01cb10186778",
   "metadata": {},
   "outputs": [
    {
     "data": {
      "text/plain": [
       "1.967358585322468"
      ]
     },
     "execution_count": 66,
     "metadata": {},
     "output_type": "execute_result"
    }
   ],
   "source": [
    "t_kr = abs(st.t.ppf(1 - (1 + alpha)/2, len(vw_golf) - 2))\n",
    "t_kr"
   ]
  },
  {
   "cell_type": "markdown",
   "id": "4dad4d79-988b-407f-a107-4e2a0f1eca18",
   "metadata": {},
   "source": [
    "Проверка гипотез"
   ]
  },
  {
   "cell_type": "code",
   "execution_count": 67,
   "id": "0ed69fb1-4798-4483-a485-c7bc0e2560e2",
   "metadata": {},
   "outputs": [
    {
     "name": "stdout",
     "output_type": "stream",
     "text": [
      "Корреляции нет\n"
     ]
    }
   ],
   "source": [
    "if -t_kr < correlation < t_kr:\n",
    "    print('Корреляции нет')\n",
    "else:\n",
    "    print('Корреляция есть')"
   ]
  },
  {
   "cell_type": "markdown",
   "id": "be481a54-c2d9-4513-b38b-7f2098b00b1e",
   "metadata": {
    "jp-MarkdownHeadingCollapsed": true
   },
   "source": [
    "# Построим гистограмму и график плотности цен на автомобили"
   ]
  },
  {
   "cell_type": "code",
   "execution_count": 68,
   "id": "33e63874-887f-432b-a2e1-c2b86806525a",
   "metadata": {},
   "outputs": [
    {
     "data": {
      "text/plain": [
       "<Axes: >"
      ]
     },
     "execution_count": 68,
     "metadata": {},
     "output_type": "execute_result"
    },
    {
     "data": {
      "image/png": "[encoded data removed]",
      "text/plain": [
       "<Figure size 640x480 with 1 Axes>"
      ]
     },
     "metadata": {},
     "output_type": "display_data"
    }
   ],
   "source": [
    "vw_golf['price'].hist()"
   ]
  },
  {
   "cell_type": "code",
   "execution_count": 69,
   "id": "18a5723f-8ce3-476e-9488-3ad5c1cef080",
   "metadata": {},
   "outputs": [
    {
     "data": {
      "text/plain": [
       "<Axes: xlabel='price', ylabel='Density'>"
      ]
     },
     "execution_count": 69,
     "metadata": {},
     "output_type": "execute_result"
    },
    {
     "data": {
      "image/png": "[encoded data removed]",
      "text/plain": [
       "<Figure size 640x480 with 1 Axes>"
      ]
     },
     "metadata": {},
     "output_type": "display_data"
    }
   ],
   "source": [
    "sns.kdeplot(data=vw_golf['price'])"
   ]
  },
  {
   "cell_type": "markdown",
   "id": "37b5f784-906a-4131-aa6d-1cdb54539188",
   "metadata": {},
   "source": [
    "Можно предположить, что цены не распределены нормально"
   ]
  },
  {
   "cell_type": "markdown",
   "id": "ba44471b-6a5e-4e80-b4b7-ca2cf327b88d",
   "metadata": {
    "jp-MarkdownHeadingCollapsed": true
   },
   "source": [
    "# Проверим распределены ли цены на автомобили нормально по критерию Пирсона"
   ]
  },
  {
   "cell_type": "code",
   "execution_count": 70,
   "id": "b123f426-4670-44a0-9e47-fda94366e5a4",
   "metadata": {},
   "outputs": [],
   "source": [
    "select = vw_golf['price'].to_list()\n",
    "n = len(select)\n",
    "df = pd.DataFrame(select)\n",
    "mx = df.mean()[0]\n",
    "dx = df.var()[0]**(1/2)\n",
    "alpha = 0.05"
   ]
  },
  {
   "cell_type": "markdown",
   "id": "029bc3f3-7f11-49bb-9e61-456b2343ee3c",
   "metadata": {},
   "source": [
    "Выборочное среднее"
   ]
  },
  {
   "cell_type": "code",
   "execution_count": 71,
   "id": "5dfc5af8-bad7-443e-b3bf-ecff8ab5ce58",
   "metadata": {},
   "outputs": [
    {
     "data": {
      "text/plain": [
       "22104.067901234568"
      ]
     },
     "execution_count": 71,
     "metadata": {},
     "output_type": "execute_result"
    }
   ],
   "source": [
    "mx"
   ]
  },
  {
   "cell_type": "markdown",
   "id": "db23fbf0-c17b-4b36-8093-7bb42070c2e2",
   "metadata": {},
   "source": [
    "Выборочная дисперсия"
   ]
  },
  {
   "cell_type": "code",
   "execution_count": 72,
   "id": "8cfd5fd6-1fc9-43f3-91bd-60e4fdca2881",
   "metadata": {},
   "outputs": [
    {
     "data": {
      "text/plain": [
       "6696.659676666904"
      ]
     },
     "execution_count": 72,
     "metadata": {},
     "output_type": "execute_result"
    }
   ],
   "source": [
    "dx"
   ]
  },
  {
   "cell_type": "markdown",
   "id": "708f1034-4346-45a3-97bf-d3c0b907f35a",
   "metadata": {},
   "source": [
    "Количество промежутков"
   ]
  },
  {
   "cell_type": "code",
   "execution_count": 73,
   "id": "1e16ffdc-3bae-4db9-a6e4-5d1d491f9d48",
   "metadata": {},
   "outputs": [],
   "source": [
    "k = 1 + int(1.78 * (len(select))**(1/3))"
   ]
  },
  {
   "cell_type": "code",
   "execution_count": 74,
   "id": "98c4ec32-4e4e-4e46-a74b-d2a670500b86",
   "metadata": {},
   "outputs": [
    {
     "data": {
      "text/plain": [
       "13"
      ]
     },
     "execution_count": 74,
     "metadata": {},
     "output_type": "execute_result"
    }
   ],
   "source": [
    "k"
   ]
  },
  {
   "cell_type": "markdown",
   "id": "d8b49ba9-86e3-4500-b2f8-78135b2e7f5f",
   "metadata": {},
   "source": [
    "Разбиение на интервалы"
   ]
  },
  {
   "cell_type": "code",
   "execution_count": 75,
   "id": "dbc633b0-50b8-4a40-804f-c0d852c2f8b4",
   "metadata": {},
   "outputs": [],
   "source": [
    "intervals = np.arange(min(select), max(select), abs(min(select) - max(select)) / k)"
   ]
  },
  {
   "cell_type": "code",
   "execution_count": 76,
   "id": "34df453a-600c-42eb-87b7-4c7018df4847",
   "metadata": {},
   "outputs": [
    {
     "data": {
      "text/plain": [
       "array([ 4795.        ,  7499.23076923, 10203.46153846, 12907.69230769,\n",
       "       15611.92307692, 18316.15384615, 21020.38461538, 23724.61538462,\n",
       "       26428.84615385, 29133.07692308, 31837.30769231, 34541.53846154,\n",
       "       37245.76923077])"
      ]
     },
     "execution_count": 76,
     "metadata": {},
     "output_type": "execute_result"
    }
   ],
   "source": [
    "intervals"
   ]
  },
  {
   "cell_type": "code",
   "execution_count": 77,
   "id": "bccf6958-3bb5-41d5-a45a-e0bb2c85f495",
   "metadata": {},
   "outputs": [
    {
     "data": {
      "text/plain": [
       "(4795.0, 37245.769230769234)"
      ]
     },
     "execution_count": 77,
     "metadata": {},
     "output_type": "execute_result"
    }
   ],
   "source": [
    "min(intervals), max(intervals)"
   ]
  },
  {
   "cell_type": "markdown",
   "id": "083d7ff3-2ba0-4915-8f06-b920d24df778",
   "metadata": {},
   "source": [
    "Вычисление теоретических вероятностей"
   ]
  },
  {
   "cell_type": "code",
   "execution_count": 78,
   "id": "1cc79dee-0ce1-4eab-b4ad-41345d94d850",
   "metadata": {},
   "outputs": [],
   "source": [
    "p = [st.norm.cdf(intervals[0], loc=mx, scale=dx) - st.norm.cdf(min(select), loc=mx, scale=dx)]\n",
    "for i in range(1, len(intervals)):\n",
    "    p.append(st.norm.cdf(intervals[i], loc=mx, scale=dx) - st.norm.cdf(intervals[i - 1], loc=mx, scale=dx))"
   ]
  },
  {
   "cell_type": "code",
   "execution_count": 79,
   "id": "e78a64eb-5d5c-42e5-b67b-73882dd37403",
   "metadata": {},
   "outputs": [
    {
     "data": {
      "text/plain": [
       "[0.0,\n",
       " 0.009722157078050214,\n",
       " 0.02318133400416037,\n",
       " 0.04705673282829204,\n",
       " 0.08132485672535228,\n",
       " 0.11966065751938704,\n",
       " 0.1499035687277499,\n",
       " 0.159885315378529,\n",
       " 0.14519184032588806,\n",
       " 0.11225646500728381,\n",
       " 0.07389448592520786,\n",
       " 0.04141310303792711,\n",
       " 0.019759673782180465]"
      ]
     },
     "execution_count": 79,
     "metadata": {},
     "output_type": "execute_result"
    }
   ],
   "source": [
    "p"
   ]
  },
  {
   "cell_type": "markdown",
   "id": "0452d809-ca36-4184-b02b-125280883b55",
   "metadata": {},
   "source": [
    "Вычисление частот"
   ]
  },
  {
   "cell_type": "code",
   "execution_count": 80,
   "id": "a18bca3b-590b-4523-8eee-c2a705340a92",
   "metadata": {},
   "outputs": [],
   "source": [
    "per = {i: 0 for i in range(len(intervals))}\n",
    "for x in select:\n",
    "    for i in range(len(intervals)):\n",
    "        if (x < intervals[i]) or ((x - intervals[i]) < 10**-10):\n",
    "            per[i] += 1\n",
    "            break"
   ]
  },
  {
   "cell_type": "code",
   "execution_count": 81,
   "id": "b9b7d3d3-9996-4bff-a435-b9b22541ff4b",
   "metadata": {},
   "outputs": [
    {
     "data": {
      "text/plain": [
       "{0: 1,\n",
       " 1: 0,\n",
       " 2: 10,\n",
       " 3: 16,\n",
       " 4: 23,\n",
       " 5: 51,\n",
       " 6: 59,\n",
       " 7: 33,\n",
       " 8: 33,\n",
       " 9: 47,\n",
       " 10: 23,\n",
       " 11: 21,\n",
       " 12: 6}"
      ]
     },
     "execution_count": 81,
     "metadata": {},
     "output_type": "execute_result"
    }
   ],
   "source": [
    "per"
   ]
  },
  {
   "cell_type": "code",
   "execution_count": 82,
   "id": "991ef74b-acb1-42a1-9baa-c7a2364bcca8",
   "metadata": {},
   "outputs": [
    {
     "data": {
      "text/plain": [
       "13"
      ]
     },
     "execution_count": 82,
     "metadata": {},
     "output_type": "execute_result"
    }
   ],
   "source": [
    "len(intervals)"
   ]
  },
  {
   "cell_type": "markdown",
   "id": "23f1fe46-9424-4856-9981-f393f3495f35",
   "metadata": {},
   "source": [
    "Объединение интервалов"
   ]
  },
  {
   "cell_type": "code",
   "execution_count": 83,
   "id": "90ff03ea-ce10-4ca0-aa7c-e34d199c88ee",
   "metadata": {},
   "outputs": [],
   "source": [
    "for i in range(len(intervals)):\n",
    "    if n * p[i] < 5:\n",
    "        if i == 0:\n",
    "            intervals[i] = 0\n",
    "        elif i + 1 == len(intervals):\n",
    "            intervals[i - 1] = 0\n",
    "        else:\n",
    "            min_per = list(per.values()).index(min(per[i - 1], per[i + 1]))\n",
    "            if min_per < i:\n",
    "                intervals[i - 1] = 0\n",
    "            else:\n",
    "                intervals[i] = 0"
   ]
  },
  {
   "cell_type": "code",
   "execution_count": 84,
   "id": "d2bc57f2-b14d-433a-9dbe-bbea68771482",
   "metadata": {},
   "outputs": [
    {
     "data": {
      "text/plain": [
       "array([    0.        ,  7499.23076923, 10203.46153846, 12907.69230769,\n",
       "       15611.92307692, 18316.15384615, 21020.38461538, 23724.61538462,\n",
       "       26428.84615385, 29133.07692308, 31837.30769231, 34541.53846154,\n",
       "       37245.76923077])"
      ]
     },
     "execution_count": 84,
     "metadata": {},
     "output_type": "execute_result"
    }
   ],
   "source": [
    "intervals"
   ]
  },
  {
   "cell_type": "code",
   "execution_count": 85,
   "id": "7d5e3155-e98e-44c3-890f-7c2bc3994aae",
   "metadata": {},
   "outputs": [
    {
     "data": {
      "text/plain": [
       "array([ 7499.23076923, 10203.46153846, 12907.69230769, 15611.92307692,\n",
       "       18316.15384615, 21020.38461538, 23724.61538462, 26428.84615385,\n",
       "       29133.07692308, 31837.30769231, 34541.53846154, 37245.76923077])"
      ]
     },
     "execution_count": 85,
     "metadata": {},
     "output_type": "execute_result"
    }
   ],
   "source": [
    "intervals = np.delete(intervals, np.where(intervals == 0))\n",
    "intervals"
   ]
  },
  {
   "cell_type": "markdown",
   "id": "cdeedf19-0f9b-4aed-81ce-2eff00994e4a",
   "metadata": {},
   "source": [
    "Вычисление новых частот и теоретических вероятностей"
   ]
  },
  {
   "cell_type": "code",
   "execution_count": 86,
   "id": "4a1187b1-20ac-4070-8ab4-b85450e3128c",
   "metadata": {},
   "outputs": [],
   "source": [
    "per = {i + 1: 0 for i in range(len(intervals))}\n",
    "for x in select:\n",
    "    for i in range(len(intervals)):\n",
    "        if (x < intervals[i]) or ((x - intervals[i]) < 10**-10):\n",
    "            per[i + 1] += 1\n",
    "            break"
   ]
  },
  {
   "cell_type": "code",
   "execution_count": 87,
   "id": "e1253ff8-99ca-44d0-a229-32f42119d4fe",
   "metadata": {},
   "outputs": [
    {
     "data": {
      "text/plain": [
       "{1: 1,\n",
       " 2: 10,\n",
       " 3: 16,\n",
       " 4: 23,\n",
       " 5: 51,\n",
       " 6: 59,\n",
       " 7: 33,\n",
       " 8: 33,\n",
       " 9: 47,\n",
       " 10: 23,\n",
       " 11: 21,\n",
       " 12: 6}"
      ]
     },
     "execution_count": 87,
     "metadata": {},
     "output_type": "execute_result"
    }
   ],
   "source": [
    "per"
   ]
  },
  {
   "cell_type": "code",
   "execution_count": 88,
   "id": "aec022ef-e3b5-4909-a031-31fed4ca8443",
   "metadata": {},
   "outputs": [],
   "source": [
    "p = [st.norm.cdf(intervals[0], loc=mx, scale=dx) - st.norm.cdf(min(select), loc=mx, scale=dx)]\n",
    "for i in range(1, len(intervals)):\n",
    "    p.append(st.norm.cdf(intervals[i], loc=mx, scale=dx) - st.norm.cdf(intervals[i - 1], loc=mx, scale=dx))"
   ]
  },
  {
   "cell_type": "code",
   "execution_count": 89,
   "id": "5ebd5fff-4f26-462b-a4b5-0783dac2dc4f",
   "metadata": {},
   "outputs": [
    {
     "data": {
      "text/plain": [
       "[0.009722157078050214,\n",
       " 0.02318133400416037,\n",
       " 0.04705673282829204,\n",
       " 0.08132485672535228,\n",
       " 0.11966065751938704,\n",
       " 0.1499035687277499,\n",
       " 0.159885315378529,\n",
       " 0.14519184032588806,\n",
       " 0.11225646500728381,\n",
       " 0.07389448592520786,\n",
       " 0.04141310303792711,\n",
       " 0.019759673782180465]"
      ]
     },
     "execution_count": 89,
     "metadata": {},
     "output_type": "execute_result"
    }
   ],
   "source": [
    "p"
   ]
  },
  {
   "cell_type": "markdown",
   "id": "b436ff97-2af8-49d4-b6e4-71cb2e2f468a",
   "metadata": {},
   "source": [
    "Вычисление значения критерия Пирсона"
   ]
  },
  {
   "cell_type": "code",
   "execution_count": 90,
   "id": "2a0860af-6f1c-41c3-bc6d-6c0b56333b98",
   "metadata": {},
   "outputs": [],
   "source": [
    "s = 0\n",
    "for i in range(len(per)):\n",
    "    if p[i] == 0:\n",
    "        pz = 10**-6\n",
    "        s += ((per[i + 1] - n*pz)**2) / (n * pz)\n",
    "    else:\n",
    "        s += ((per[i + 1] - n*p[i])**2) / (n * p[i])"
   ]
  },
  {
   "cell_type": "code",
   "execution_count": 91,
   "id": "b94d41af-992f-4d7c-ad15-4d80079bcb39",
   "metadata": {},
   "outputs": [
    {
     "data": {
      "text/plain": [
       "27.323104764178126"
      ]
     },
     "execution_count": 91,
     "metadata": {},
     "output_type": "execute_result"
    }
   ],
   "source": [
    "s"
   ]
  },
  {
   "cell_type": "markdown",
   "id": "09019c00-6a2f-4cac-ae81-26104d0642ea",
   "metadata": {},
   "source": [
    "Проверка гипотезы"
   ]
  },
  {
   "cell_type": "code",
   "execution_count": 92,
   "id": "97516f20-0483-41d8-b4a4-abccc00dfbe2",
   "metadata": {},
   "outputs": [],
   "source": [
    "chi2_alpha = st.chi2.ppf(1 - alpha, len(p) - 2 - 1)"
   ]
  },
  {
   "cell_type": "code",
   "execution_count": 93,
   "id": "f297ff41-6a1f-471a-b971-a68427b1a991",
   "metadata": {},
   "outputs": [
    {
     "data": {
      "text/plain": [
       "16.918977604620448"
      ]
     },
     "execution_count": 93,
     "metadata": {},
     "output_type": "execute_result"
    }
   ],
   "source": [
    "chi2_alpha"
   ]
  },
  {
   "cell_type": "code",
   "execution_count": 94,
   "id": "7665e1a4-c47f-42cb-beb5-9e11bbcb8b84",
   "metadata": {},
   "outputs": [
    {
     "data": {
      "text/plain": [
       "False"
      ]
     },
     "execution_count": 94,
     "metadata": {},
     "output_type": "execute_result"
    }
   ],
   "source": [
    "s < chi2_alpha"
   ]
  },
  {
   "cell_type": "markdown",
   "id": "184305cc-9529-4a1b-8822-fc4ca317f200",
   "metadata": {},
   "source": [
    "Цены на автомобили не распределены нормально"
   ]
  },
  {
   "cell_type": "code",
   "execution_count": null,
   "id": "cb5dbdd5-e9b7-42e4-b7ca-a0719ebbdd64",
   "metadata": {},
   "outputs": [],
   "source": []
  }
 ],
 "metadata": {
  "kernelspec": {
   "display_name": "Python 3 (ipykernel)",
   "language": "python",
   "name": "python3"
  },
  "language_info": {
   "codemirror_mode": {
    "name": "ipython",
    "version": 3
   },
   "file_extension": ".py",
   "mimetype": "text/x-python",
   "name": "python",
   "nbconvert_exporter": "python",
   "pygments_lexer": "ipython3",
   "version": "3.12.4"
  }
 },
 "nbformat": 4,
 "nbformat_minor": 5
}
